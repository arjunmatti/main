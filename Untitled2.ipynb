{
  "nbformat": 4,
  "nbformat_minor": 0,
  "metadata": {
    "colab": {
      "provenance": [],
      "authorship_tag": "ABX9TyPQDFvsINAB4S+I11tLyRiH",
      "include_colab_link": true
    },
    "kernelspec": {
      "name": "python3",
      "display_name": "Python 3"
    },
    "language_info": {
      "name": "python"
    }
  },
  "cells": [
    {
      "cell_type": "markdown",
      "metadata": {
        "id": "view-in-github",
        "colab_type": "text"
      },
      "source": [
        "<a href=\"https://colab.research.google.com/github/arjunmatti/main/blob/main/Untitled2.ipynb\" target=\"_parent\"><img src=\"https://colab.research.google.com/assets/colab-badge.svg\" alt=\"Open In Colab\"/></a>"
      ]
    },
    {
      "cell_type": "code",
      "execution_count": null,
      "metadata": {
        "id": "QKFsavfqx0jf"
      },
      "outputs": [],
      "source": [
        "import spacy\n",
        "nlp = spacy.load(\"en_core_web_sm\")\n",
        "nlp.max_length = 1850000\n",
        "import pandas as pd\n",
        "import numpy as np\n",
        "df = pd.read_csv('a.csv')"
      ]
    },
    {
      "cell_type": "code",
      "source": [
        "all_text=df[\"Please explain why you agree or disagree with the themes\"].str.cat(sep = ' ')"
      ],
      "metadata": {
        "id": "uPufi3olyuNO"
      },
      "execution_count": null,
      "outputs": []
    },
    {
      "cell_type": "code",
      "source": [
        "all_text"
      ],
      "metadata": {
        "id": "0uPMvgYrVurB",
        "outputId": "5fb5cbf8-e436-4e66-e220-5e62d5a75ea9",
        "colab": {
          "base_uri": "https://localhost:8080/",
          "height": 139
        }
      },
      "execution_count": null,
      "outputs": [
        {
          "output_type": "execute_result",
          "data": {
            "text/plain": [
              "'I agree with all of the themes, especially the preventative measures as once it begins, one can often get stuck into a cycle which is hard to come back from. There are many homeless people that I see on the streets in my area whom I want to help but cannot do this individually. Moreover, a lot of these people that are visibly homeless on the streets, particularly around Whitechapel also suffer from drug addiction. Growing up in Tower Hamlets, I have quite a few friends who frequent drugs and have sustained addictions from an early age, who then as a consequence have faced homelessness due to lack of finances. This work needs to start from an early age and social services in the area need to be a lot better. For example, growing up and attending a TH school, social services were contacted about my situation and after referral, the problems myself and my family were facing were \\'not bad enough\\' in comparison to others on the needs hierarchy. To expand, I was facing domestic abuse and dealing with significant mental and behavioural problems. As social services could not help, I then sofa surfing to get as far away from the situation as possible. It is circumstances like these where preventative services are not able to deal with the demand from the population, leading to the exacerbation of themes such as drug abuse, homelessness, and a general lack of stability. From my experience, rough sleeping incidents are not rare and it is a long cycle to break, even where numerous offers of support are given, even during SWEP. Various factors also cause rough sleepers not to want to take accommodation, i.e unable to take pets or not able to be housed at the same location as their partners.  There are too many homeless people in this area. There is insufficient housing all round as we know so it all needs to improve. I don’t think the sign posting as to what individuals can do to help street sleepers is good enough. I am concerned about homelessness particularly regarding families who are put in temporary accommodation, often out of borough. This is a much more prevalent and hidden problem (with long-lasting consequences for children) than that of people who are visibly sleeping rough and begging. I am also, of course, concerned about the latter. Having high-quality relevant support services is vital I think it\\'s terrible that people are sleeping rough, and that there\\'s more homelessness in Tower Hamlets than before. I agree with the themes as I used to volunteer for Crisis and help with church meals for the homeless. I no longer donate my time but try to support Whitechapel Mission and other charities that help with homelessness. Because homelessness is not a nice position to be in nobody cares Bit concerned what you mean by making sure rough sleeping where it does occur, is rare, brief and doesn\\'t happen again.  Don\\'t want individual homeless people punished in anyway. If you don\\'t have suitable accommodation available for them, they might have to sleep rough more than once.\\nWhat will happen to rough sleepers who are not British Nationals? I believe helping people at risk/before the become homeless is the least intrusive option for the person at risk. I\\'m expect this would also be better option for staff too, who must find it challenging.  I think that homelessness is more likely related to unmet social and health needs that could be addressed more directly to prevent and reduce homelessness. Directing people to the right support would help with this, as would preventative support. This will also be an ongoing issue with lack of social housing. I really feel the council needs to push to reclaim / buy back social housing in the area - particularly from larger landlords.  Based on current homelessness crisis situation these are very common social requirements. Indeed it is the councils’ responsibility to act because our neighbours and relatives are busy with themselves. It is only the council- people can turn into as a last resort. Homelessness should not be an issue in a first world country but is tied up with mental health and social issues. Society needs to be responsible for these people and to ensure no one slips through the net into homelessness which then exacerbates the problem making it harder to solve. Early intervention is critical. You need to provide accommodation in areas where people will not fall back into homelessness due to old habits or contacts dragging people down.\\nAccommodation should be built to discourage anti-social behavior and encourage a community and working spirit. We have a serious problem of rough sleepers in Tower Hamlets - more resources should be allocated to hire more social workers, offer more temporary accommodation and help people hey back on track through counselling and other means. It sounds like a good, compassionate strategy to reduce rough sleeping and help achieve better outcomes. They all seem to be strongly aimed at being preventative or at least reduce the time people spend homeless.  I completely agree that staff also need to be supported in dealing with homelessness.   Housing is one of the biggest problems in Tower Hamlets. It is awful to see so many people sleeping rough, especially those who have complex needs or those who have sought asylum here. There is a big shortage of housing including good quality housing.  I do worry for staff who having to deal with people\\'s frustrations/anger and very upsetting stories as this must have an impact on them.  Homelessness is a problem that doesn\\'t have to exist in a developed country. The Everyone In scheme during Covid proved that. These all sound sensible. These are all positive sentiments. Why wouldn’t I strongly agree Helping to prevent and resolve issues is appropriate  My opinion -as I work in this sector I have a good understanding  The \"rare, brief, and doesn\\'t occur again\" is phrased in way where it feels like someone who\\'s homeless should go to someone else\\'s neighbourhood to rough sleep? I don\\'t agree with such statement, and think the focus should not be on \"making the nuisance go away\" Any one can become homeless and we need to tackle the underlying causes not just wait until people become homeless. 1. early intervention works\\n2 sustainable accommodation\\n3 think about peer-to-peer support and involving those with a lived experience\\n4. encourage joint working\\n5 training Agree with the principles of all statements but some of the language could be changed/re-thought - ie \\'quality accommodation\\' - this differs depending on the applicant etc. Also, point 6 - agree but should this be a specific part of homeless strategy? 3,4,5 are very important. Bolstering street link and rough sleeping verification would be helpful. 4. people getting linked with services when they are clearly vulnerable but not diagnosed 3 - this is too vague and should include a commitment to outreach/in-reach/mecc\\n4 - again too vague. Is this about PHPs or (hopefully) joint commissioning/partnerships? 1. early prevention work is the key to prevent homeless\\n2. invest with your hostel provision to ensure it is quality as people are in TA for longer periods\\n3. Invest in customer care training\\n4. Have your pathways advertised/joint meeting with DA team as an ex\\n6. Ensure case loads are manageable and provide effective training and support is in place. Use an EAP service Because more of these are happening much at present and it is vital that they do Persons experiencing homelessness deserve dignity and sleeping on the street ( rough sleeping is a euphemism making it sound better than it is) not only experience lack of accomodation but additional health complications, risks of physical and sexual assault, inability to find work due to our home/post-code based systems of communication and location verification, among other ills. I agree with all of these as I was once homeless and know how much it means to have a house therefore I agree with these themes to better homelessness No one should be homeless. If your homeless hard to establish yourself in a community and society.  As was very close to homeless myself before my experience with the department in regards to homelessness was inconsistent as to how I would get the help I need at times. Sometimes it depends on the person in contact at the time to the way they deal with the situation. They don\\'t sound happy to help, rather they do it because it\\'s their job.  It will improve the safety and reduce the crime I agree with it is as i have first hand experienced homelessness and am now in temporary accommodation places by Tower Hamlets. It\\'s not an easy process at all and small things like customer service mean a lot. I believe it is imperative and highly important to make it known how to access the right support and give good quality accomodation. i was homeless with three daughters with me and it is so important as a human to provide good conditioned accomodation. We should be treated as humans not as a burden.  The staff members at the tower hamlets department are very rude and unhelpful. They don\\'t care about genuine people that need help. I have written to several members at the housing department about my living condition and they don\\'t care.  Ive agreed to the above themes as i am currently a homeless applicant whose been living in a temporary accommodation for the past 4 years with my husband and young child and till this day we are struggling. Being homeless is an ongoing struggle mentally, physically and mainly financially.  Each of these themes should have already been in place or addressed and so it would be impossible to disagree with them. I believe if you catch people in risk of homelessness early with the right housing, psychological, and physical health support, they will not become entrenched I strongly disagree with most statements, tower hamlets council have made me feel that its hard to come by help, ive spent years feeling let down by them, mentally the council have affected me and disregarded anything i have said and have made me lose faith in them as a whole. I am in temporary accommodation with 2 sons, a 1 bed on the 2nd floor 40 steps up and can never leave the house, i have requested for the last 2 years to be moved by i either get ignored or told to wait, my housing officer has spoken to me once in 2 years despite countless emails and calls i have sent him. My parents talk of how the council were years ago and how they were helpful, although this is going back 40 years, a lot has changed, not for the better though. Wholeheartedly i feel tower hamlets is going down hill with their housing and homeless approaches, they aren’t stopping homelessness, they are encouraging it Having the right support service and provision is key - this include effective join up between service, Those who are homeless often have a range of support need and there ensure the appropriate service support is there is key to support someone to  cope. \\n\\nTo try to prevent rough sleeping but where it does occur, it’s rare, brief and doesn’t happen again - i think this is a value statement which needs more context  Many families in my block has been housed by tower hamlets council and their flats have bad mould. After letting the council know of their situation, there was no solution provided. These families have children who are aged between 1-5 and it’s causing them health problems. My personal experience with the housing officer was not great either, after I was put in a temporary housing I only heard from him 1 time in the whole 5 years I’ve lived here. I needed help regarding rent issues and other things but I had no reply. I wasn’t the only one that this happened to. It ends up impacting our mental health as the people who we are supposed to get support from, just left us be without any help. I believe the council should look at these families from the ethical side and see if the situation they are in is just.  More people are becoming homeless every day due to multiple reasons including cost of living crisis, and its impact on general wellbeing and mental health etc. These people need to be supported asap to prevent the spiral that homelessness means making things worse for them. no comment! I strongly agree with the themes because by doing so we cannot only prevent homelessness but also avoid worsening the condition of the whole family or even we can save our society. Moreover, homelessness can result in many crimes such as harming other people, violence and crime rate will increase, and human rights will be violated.  I agree with the themes since these will help prevent homeless get to its worse degree. By getting to the root of the problem and providing care to those who desperately need it will create a happier society.  I hope what I agree with can be better than everything in this point, thank you I believe in a developed country in 21st century its citizens should not be in danger of homelessness. It should be the responsibility of the government and citizens to avoid homelessness. The rough sleepers, be it intentional or real, damages the prestige of a country and questions the welfare of a society. Additionally, homelessness imposes a big burden, including financial, on a council and severely impacts rough sleepers.  Staff are like robots they need re training and develop some empathy skills Because all questions are asked it’s right. I am living in temporary accommodation for more than 6 years and I have lots of health problems. I have emailed my housing authority several times also I have filled up some form few times explaining in detail how my health affects my daily life but I did not receive any positive response. Homelessness is vevr painful in mentally and physically. For the people.. So it\\'s better to take steps before homelessness. Staff need to be able to communicate with their residents in a timely manner. Unfortunately their as been times where they do not respond back to residents who are having difficulties regarding their well-being and situation. Communicate is the main key for happy residents and that needs to improve. I am having a difficult time with my baby in a suffocating room studio and it\\'s effecting me and my baby physically and emotionally and would want some form of communication from staff to advise and support. \\n\\nOverall their are many factors that need to improve such as improving customer service satisfaction. I gree with any thing see it right and vice versa I agree because I’m also homeless I need good and suitable accommodation for my children .I’m homeless of towerhemlet Early intervention will help lots of people to have a place to lay their head with their families.  I agree Because at the moment the homeless system is terrible and there is no service of first come first serve. And I myself are suffering from living in a homeless accommodation which is damp and every house that was given to me by homeless has been severely damp and nothing had been done about it, the system needs to be fixed. I agree because I am one of the homeless and  know live in very difficult  conditions  in temporary accommodation  \\nI know there are many who have no home  At some stage people that work in homeless departments help residents but most of the time seems like they do not care about residents or willing to help or give good advice. Homeless places are not fit for health and safety for people to stay in also do not have cooking facilities for people like me to cook and eat. I cannot afford to eat out everyday. I agree to the themes because when staff resilience and wellbeing are being boost their confidence level at work will be high. no comment Helping people before they choose the wrong path will definitely help. When its too late the help wont work or will be slow progress. To give more support to people the need help. I have been homeless been 7 years and I have a disabled child living with my husband and other two kinds. I have given to a hotel service first, then moved us to near Croydon for 4 months. Tower Hamlets has moved us on tower Hamlets on a temporary \\naccommodation in 2018 then moved us to the another temporary accommodation which is 8 Brock Place London E3 3QU. I have disabled children, because of this kind of moving my disabled child is not fixed to any accommodation. In the meantime, My neighbour, attacked my disabled child by hammer, police came arrested neighbour from his home. My disabled child is always feeling unsecured and unsafe in my current accommodation which is 8 Brock Place London E3 3QU. I mate Tower Hamlets Mayor after the incident with disabled child and he ensured me that I will be given and moved into a permanent accommodation as soon as possible. Mayor has contacted with housing officer and replied me my housing bedding possition is on number 8 now. Its been more than a year now. I am still living on unsecured & unsafe accommodation, 8 Brock Place London E3 3QU. I am very disappointed to the Tower Hamlets because they are not taking any seriously action fir my permanent accommodation. We are husband & wife and three young children living in the current temporary accommodation on 8 Brock Place London E3 3QU. Please take a serious care for my permanent house.  Because I am suffering with my current temporary accommodation with my autistic son  I believe everyone should have a place to stay Because this should be addressed as it it isn\\'t at the Moment.  It is with everyones best interest in mind. I agree with what I think will help the population develop into one with a better support system and decrease the chances of needing to go into temporary accommodation. These will help the council to meet the increasing challenges facing residents who are at risk of or who present as homeless. These are easy for residents to understand at a time when council and partner agencies are stretched and demand is high for housing support. working with people who are desperate for housing support and who may also have complex other needs too must be gruelling and take a toll on staff. Improving resilience and wellbeing amongst staff will help them to provide better customer service and support them when they have to give unpopular advice and decisions. I agree with all of these themes because they seems to go hand-in-hand in preventing people from suffering through rough sleeping. Prevention & immediate action are a priority when trying to avoid people falling into extremely entrenched version of rough sleeping which is prominent in the clients my organisation works with at the moment. Don’t know  People become homeless for all sorts of reasons, and fighting to prevent it often misses out key factors -- someone could be considered \\'making themselves homeless\\' for example, due to a breakdown in their living conditions - and then you could force them to put up with something intolerable because of failures with assessment.  Prevention duty needs to continue in line with discussion on The Renters (Reform) Bill to end \\'no fault\\' evictions, especially tackling rogue providers. \\nThe quality of temporary accommodation and length of time an applicant stays in temporary accommodation has a great long term impact on health and well-being.\\nClear move-on pathways from temporary accommodation i.e. PRS, supported housing - between LA & housing associations - this includes strengthening partnerships between Adult Social Care and other support services.\\nEducation that rough sleeping is dangerous and should not be an option to find a housing solution. \\nGatekeeping of accommodation for applicants who are in priority need due to a physical or mental health condition to end - to be provided with a clear pathway into secure accommodation to prevent their health deteriorating further and needs increasing; this includes households with children.\\nClearer communication & pathways between the Home Office and the local authority to ensure NASS leavers are fully supported and not evicted to the streets.\\nMore resources in staff wellbeing & development, including reflective practice and support to achieve development goals through Inclusion & EDI groups.  I definitely agree with all but one of these themes, because they are all valid for both client and staff wellbeing and experiences with homelessness. With the first theme, I am not sure I fully agree with reducing the use of Temporary Accommodation as this can be a vital lifeline for many clients in need of emergency housing due to a range of needs. But I do definitely agree that people should be supported earlier to avoid and prevent homelessness and maintain their housing. Working for people who in needs is their human rights.  The best services provide best environment  and prevent people to be homeless.  I believe that prevention and good quality accommodation for those who become homeless or at risk of is the most important point - Hostels are not holistic environments nor are they supportive in a lot of ways. This does the opposite of preventing sleeping rough. This also creates a cycle of sleeping rough because people do not hold down their tenancy\\'s in TA. Especially if you are using drugs and trying to come off them, the hostel environment encourages drug use and makes it more difficult to be sober. Agree because there really shouldn\\'t be any excuse for people to be homeless in the 21st century in our society and every effort should me made to eliminate homelessness and the information support and training available to those whose job it is to work with people facing this predicament. I strongly agree with all of the above statements, because I believe if there was more effort to prevent rather than chasing after homelessness has impacted them, it will be easier to navigate. Rough sleeping and being at risk of homelessness is a stressful and chaotic time, and really impacts peoples mental health, which then makes it more difficult for them to engage with services who are there to support, where as if we are able to put help towards the prevention, it would alleviate some of these issues. And with regards to staff resilience and well being, it is a difficult and challenging sector to work in, and I believe if there was more support and contributions to staff, it would help immensely, as everywhere tends to be short staffed and overworked, which then ultimately impact the clients as well.  It’s important to help vulnerable people from being homeless as living on the street is unfair to them who are not given any other option  Because those in need should be safe, be helped, and supported with finding a purpose, a job, and a home Because they are important.  I agree with all themes, but recognise that some homelessness can\\'t be prevented, e.g., DV/DA, illegal subletting, illegal evictions with harassment, etc.  Access to right support services is important, but not the responsibility of Housing Options Service.  Boosting staff resilience and wellbeing CANNOT be pushed onto staff as their responsibility (as it currently is) because the problems were created by the Service ignoring the pleas of overwork, creating dangerously high levels of stress through under-resourcing and ignoring compassion fatigue by failing to provide reflective sessions to discuss the impact of the relentless torrent of misery, distress and frustration. I agree that supporting people before they become homeless is key and ensuring they have the right support to is important as well. A challenge is that residents with support networks in borough do not want to move out of the borough and I see that as a barrier as there is little accommodation in borough - perhaps this fits into the theme about improving customer experience or support services - but I think we need to think about how we support people when they have to be rehoused (temporarily or permanently) away from their support networks as that is a barrier to people accepting accommodation and staying in temporary accommodation.\\nIn regards to support services I think substance misuse and mental health are big contributors to homeless that I see in working with homeless people in hospital, so hopefully that is what is meant with \"support services\". I think to tackle homelessness we need to ensure those services and third sector organisations that support those people are adequately funded and resourced.  PRHA has a long-standing commitment in supplying good quality housing and support to Tower Hamlets residents who end up rough sleeping or homeless. We typically work with people in our communities who are the most vulnerable or “at risk” and who have very complex needs and poor engagement with services and require 24/7 hostel support to remain off the streets. Partnerships with all stakeholders is vital to ensuring this group achieve the best outcomes and our general point will be for this strategy to see these partnerships not only maintained but developed further in the coming years. In particular we would like to offer to work with other partners to contribute to the final version of this strategy .\\n\\n\\nMaking sure that people have  access to the right support  services\\n\\nAdditional comments on this priority:\\n\\nEnsure dedicated leadership and resources to ensure the homeless cohort who move into hostels receive optimal healthcare services to ensure their health needs are met. This is especially needed as support needs of rough sleepers have increased significantly over the last ten years.\\n\\nWe are also seeing increased support needs amongst our residents in semi-supported housing. While we do provide general support to these residents, the thresholds of other specialist services (e.g. mental health and detox) mean that people often have to reach crisis point before they receive any support . As most of these residents are formerly homeless they can be vulnerable to repeat homelessness when this happens.\\n\\nTo have a strategic leadership forum involving decision-makers in housing, adult social care, health and mental health services and hostel providers to ensure joined up partnerships and ensure resources are targeted efficiently.\\n\\nEnsure that the role of supported housing & hostels in preventing repeat homelessness is understood within the council and landlords of supported housing engaged with as valuable partners rather than just as a commissioning arrangement.   \\n\\n\\nProvide good quality accommodation for people  who are at risk of, or where  they become, homeless\\n\\nAdditional comments on this priority:\\n\\nEnsure joined up approaches between the commissioning of support services and Housing Benefit teams so as to ensure that there is a robust funding of supported housing in the next few years. \\n\\nWork in partnership with landlords to ensure that future planning for needs and investment is possible.\\n\\n\\nWorking with people earlier  to prevent them from  becoming homeless and to reduce the use of Temporary Accommodation\\n\\nAdditional comments on this priority:\\n\\nLook at how homeless prevention resources, funding and interventions can be developed further so as save resources down the line and improve the outcomes of those at risk of homelessness. \\n\\n Embedded rough sleepers tend not to enter services because of their complex issues and there is no legal provisions to force people to enagage. Therefore arranging appointments, assessments, interventions, suppirt sessions all fail when the client does not turn up due to their choices to indulge in drug , alcohol and mental health conditions. There needs to be motivation and /or sanctions.  I believe that the homeless sector in Tower Hamlets is doing an incredibly important job with very limited resources at a time when homelessness is very high. I believe the themes and approaches laid out above are correct and what is needed as homeless people have often been let down by those around them and have varied and complex needs which should be in the interests of everyone in society to help resolve. The homeless sector cannot do everything alone and they need resources and trust in their work and ability to help begin to fix the problem while ensuring that the correct housing and other support is available so people can move on from homelessness and never return to it. Currently services commissioned by the LBTH are underfunded and under resourced and put a strain on the organisations that deliver them. Fixed financial envelopes have not changed in years, and inflationary increase has not been accounted for in many instances. Because such envelopes are fixed there is not possibility for the introduction of salary scale for workers, meaning a high turnover of staff and discontinuity of services for clients. As a result of this, as well as other factors, homelessness has increased and voluntary organisations, whose mission is to alleviate this problem, are left struggling. A complete overhaul of the commissioning of homelessness service in TH including, crucially, SWEP provision is necessary and long overdue. These themes are at the heart of Providence Row\\'s work with people affected by homelessness.  Homeless work should be done by Homeless people - regular citizens get demoralised and have a white saviour complex. More importantly we can manage  resources better ! There is too much emphasis on services sometimes 60 charities and orgs can be involved at once. They are trying their best but the money could be spent on DIRECTLY empowering affected people and creating opportunities rather than paying citizens to clean up the mess.   I am a former tower hamlets resident and have been unintentionally homeless since my family was evicted in 2021. I work and live in tower hamlets also, working at mile end leisure centre and I study at Queen Mary university. Though I have spent a majority of my life living, studying and working in tower hamlets, I believe in this regard my family and I have been neglected. Everyone deserves quality sleep and safe, healthy and perfect accommodation. This will encourage more people to go through the easier route of getting a property, this will gain an unfair advantage for people who are on the housing list and who are overcrowded. An example is, a single parent with children will show they are homeless and gain a house earlier than someone who has been on housing list for years as overcrowded. This has happened in tower hamlets and these are all known within tower hamlets. I agree as the key focus needs to be on reducing homelessness, providing better accommodation and better customer service experience, and ultimately supporting people out of homelessness and rough sleeping. Its important that we have less street homeless I have heard so many stories of people not feeling safe in the accommodation provided for people with these complex issues and also if staff are not in it for the right reasons or well trained and looked after they will not be able to truly help people with complex issues. These are the important information required to help the people from becoming homeless, the earlier intervention the better it is for people and the staff.  Nobody sleeps rough for fun, and all efforts should be made to minimise it.\\nNo mention, though, of the Mental health element in causing rough sleeping.  Prevention from homelessness is difficult to apply as you can omly apply to those that are threatened with homelessness and this could be too late. More understanding of renters rights, rent affordability, or affordable housing can also help  the rental market is unfortunately a very hard environment. \\n\\nAccessibility to services should be a priority but this should also come with more staff rather than book their resiliencia there should be more budget in acquiring more personell and better training overall. \\n\\nMore affordable housing and social housing for families (3/4 bedrooms) should be built in the Borough to stop gentrification  It makes sense to be able to intervene early and to try and prevent homelessness, there are so many reasons it could happen to any one no matter who you are or where you are from.\\nlosing your job, break down in relationships,domestic violence drink and drug misuse/addictions the list goes on, there should be basic guidelines and simple steps to break down what are all the cases and how to deal with them and to know where to go for help, not just the person affected but also for family and friends and the community.\\nWhen people seek help it is always so important that they are not judged and they are greeted with a helpful friendly person. Homeless people should be housed but the accommodation should not be better than the Ricard or social rented sector. It is a good idea to keep in mind the customer service, but I think the overall experience with your services will depend on whether or not you can actually help them. So if a client is in need and cannot access emergency accommodation or the assessment takes a lot of time to finalise, the overall experiece will be bad.  The bough is plagued with drug addicts and homless people, who are often aggressive They are all so important - the current state of housing and homelessness service is simply appalling, because they are so overwhelmed. I work in the NHS and the impact it has on health and wellbeing is so significant. Hi \\nYour working is so slow \\n Support for people experiencing rough sleeping is very important - as is being able to access appropriate accommodation both in an emergency and in the longer term. Alongside this there is a need to prevent repeat homelessness, ensuring people who have been street homeless do not return to the streets - or if they do are helped quickly. These priorities are in line with London-wide programmes such as Life off the Streets (GLA). However, I would also suggest a theme which is about partnership / joined up working - across public, private and community and voluntary sectors. This is a problem that needs a broad coalition - led by LBTH and with their power to convene central to what is developed These are good aims to achieve and therefore if achieved the council can save alot of money and focus on financially investing on more social housing which is in great demand.  Your themes are not really clear.\\n\\nI d prefer to read concrete and practical examples that should reduce the homelessness in Tower Hamlets.\\n\\nHomelessness in Tower Hamlets is growing a lot in these last 10 years and people seem more aggressive and with mental health issues compared to the past.\\n\\nI don t think your approach ll reduce this behaviour.\\n\\n I strongly believe that only a combination of all of the above practices will bring positive outcomes to our services. They are interlinked and dependent on each other for the other part to work well and I think all should receive high attention. I think that it\\'s incredibly difficult, but Hostels aren\\'t working. They don\\'t provide a safe environment for the homeless, or those battling addiction.  Drug use and mental health needs should be addressed first.  The staff in hostels and those who work in association are amazing and should be supported.  There needs to be standards set.  I believe that the Council\\'s Relationship Managers help to provide stability and support to residents and staff. Ultimately if they have  abetter experience and better service then they will stay when they are offered a placement. Also good accommodation out of an area which is likely to trigger them into relapsing.  Agree with the overall aims, but what is needed is a range of ways that these get implemented and high level priorities need to be seen alongside the detailed implementation strategy.  Also needs to understand the different circumstances that may be facing different individuals and or communities and have a strategy that can take account of different access needs I have been in this borough for nearly 8 years now I have  experienced  all those and noticed during this period. We need to turbo boost a strategy that brings tangible outcomes for people - the status quo is currently not acceptable It\\'s common sense  They all aid in the prevention of homelessness   they are very relevant and clear Mostly self-evident, all points and things we should aim for. Prevention is always key and if we work on preventing early could help especially with footfall in emergency duty.\\nCustomer service is vital as it helps give reassurance to members of public that their case will be dealt with professionals dedicated to helping improve service.\\n\\n it\\'s all important to provide a good service and maintain a good work environment  Do not feel staff resilience is boosted by management More needs to be done in terms of staff well being... I agree with the themes as long as they come with realistic actions plans that don\\'t over burden staff Due to current demand and lack of staff preventative work is not being done and the service is currently reactive.  There is nothing to show that there is significant change within the service in every area including staff wellbieng In regards to boost staff resilience - this should be an internal priority.\\nImprove customer services - should be reworded I agree with themes as it is best practise and the way forward to enable staff and residents alike to have a streamlined effective service I disagree with Rough Sleeper prevention as i eel that they end up rough sleeping before they are supported.  I agree to early prevevention of homellessness, it allows time time to help clients explore their housng options and it allows Housing options staff enough time to support client.  It will make it less stressful for client and the case officer. most experiences are subjective and cannot be generalised.  I don\\'t work in this service, therefore don\\'t understand this questionair and does not relate to me They all improve the service provided to the residents. I agree with provision of: providing advice earlier; good  quality accommodation; making the right support services accessible to all because it meets the needs of both Service Users and members of staff, resulting in TH being a good place to live in as well as work within. As a public servant it would be in the interests of our clients to provide the best service possible and the earlier the better.  Staff would also benefit from the provision of the above as it would assist in avoiding conflict. Currently, support is very low and needs improvement. it is very essential to work with people and prevent them from being homeless All positive themes will help both our clients and colleagues alike to be in a position to not only offer better support but also guidance and signposting to other support services that might be available. i believe good support and customer service provides assurance for resident.  gives better understanding and motivates to act accordingly.  Agree because protect people & their well being matters I am not sure what can be done to prevent homelessness but for all other themes more could be great Because Homeless has negative affects on family and Children, Working towards fixing this issue will be greatfully beneficial I follow there activite I saw they work hard Tend to see a lot of people on street who are homeless and not getting the correct help and support All above questions is very important to the local community Current accommodation is in very bad condition All of the themes need to be addressed urgently as the homelessness and rough sleeping crisis is getting worse Because being homeless means more likely to become sick Strongly agree but students should have more priority especally exam students Preventing homelessness through education, support etc is a better and more sustanable. Paying for housing when tenants has no way of supporting thenself is of false economy  People need good quality housing Never have had exceptional service, its like i owe them something. Governmentemployee lack accountability  From my personal experience i was put in a B&B with my 4 year old chil after 4 month i was housed in kent (Gillingham) i suffer with a heart condition even knowing this my Housing Officer put me here knowing I have zero support which i need with my health For person that homeless is depression i cant remember 2018 with my little boy suffering council pushing me from one place to another before they gave me where i am since 2019 am still in temporary with 3 children 18 years 16 years, 5 years in one bedroom They sending the out side tower hamlets As a homeless resident being in temporary accommodation, I have experienced the worst form of service from TH. I’m a DV victim and I thought id be supported but instead I was continuously suffering. Ill never ever forget the experience I am currently going through and ill never forgive TH. Better service mean a better community and a safer community  They are logical and reasonable - provided there are resources behind them Because they are factual statements and should be implemented universally.  I agree because people should have access to the right support services Our individual experience with housing was poor as if to 2+ years to get a bidding number even with constant communication with our housing officer at the time. Our temp accommodation is good There is a lot that needs to be done when it comes to homeless in all sections. As someone that has been homeless in the past i know that it is an extremely long and tiring process that sometimes feels never ending Making sure everyone has a roof over their head is so important, and as a Council you should go that extra mile to give them as much help as you can  I agree with working to stop homlessness and providing accommodation for people and also give good customer service and the right to support right peoples. \\ni hope towerhamlets give more effort and working to sort out housing problem in borough. I believe everyone should be treated equally and get the support that they need I think most of the homeless people dont know very well where he has to contact to prevent himself from becoming a homeless. Communication from council is not very prompt. Not signposting properly, which confused them and they think process is very complex. When the court decided that i would be evicted I request help and was told that no help was availanle until I would physically be kick out of my house.\\nDuring my time in temporary accommodation there was no support, I waited for hours just to be given another B&B, no one was available to explain. From the themes box i tend to agree with most of them because i got the support when I was in a homeless situation. One thing i didnt like is when staff members absent on the day you have your appointment with them. This is because it effected my health during that time as I was pregnant and coming again once my appointment got rescheduled was very different for me. I strongly agree with the all of these priorities other than no. 5 as 5 is not relevant to us related to priority no 1 if i take our case as an example, case worker did mention she will contact out housing group manager and she had the opportunity to communicate with the housing group manager to prevent us being homeless but housing group manager confirmed he didnt hear from our case worker at all. As a result was are still living in a temporary accommodation for five years.\\nI think when it comes to \"good quality accommodation\" it should be appropriate for the peoples needs to understand the needs caseworkers should be a very good listener with lots of empathy and should treat everybody who come to them equally, fairly regardless of the ethnic background or any other reasons. When we go to the council office becoming homeless, it was just after a month loosing our family vehicle from an accident my wife was pregnant and my daughter was six years old wife was injured from accident as well we provided a letter from our GP to case worker but case worker was acting like a robot no humanity at all, our requests was to have a ground floor accommodation or an accommodation with a lift as i was the only person to more our stuff from previous house. In the end we had to leave everything including our bed and since the house we got was unfurnished we slept on the floor for over a week.\\n I live in a good home and get all the help i need, I am happy I agree with the themes this is because it will reduce homelessness, reduce rough sleeping and provide people with good quality housing. Temporary accommodation was very far from school and work, not in good condition. My experience was very traumatic for me and the kids for the factors I put in the priority columns, the housing officer and her manager was not fully aware of EU law after Brexit, they was rude and heartless and worked one pace not suitable by law far a family like ours flee for domestic abuse, 2 young kids placed in a B&B facility with no toilet and with addicted people sharing the other facilities in the B&B.  The 1 point i tend to disagree just because in certain cases because homeless in inevitable (like us in the refugee for DV women and kids). I agree because housing access to the right support will help them a lot to know what to do. 1) Working with Landlords to keep the rent down also giving tenants longer leases on the property\\n2) Building more suitable housing for people on social housing with reasonable monthly rent. \\'-Support people with their application \\n-investigate any safeguarding concerns\\n-prioritise those with young children\\n-allocate housing based on employment opportunities, support network, ease of access.\\n It is always a problem to get through to reach Tower Hamlets. It is very rare to contact housing officers or the housing benefit service. Any applications are considered for a very long time or do not received a response to the application at all, for example, i have been waiting for the decision on the assignment of benefits and the decision on the appeal for two months, but still, I want to express me deep gratitude for the opportunity to have me temporary housing. I believe that everyone deserves a decent home. Tower Hamlets did not help me i am still in temp accommodation after 12 years my son is 13 and daughter 9 share a room. I have and am still in homeless housing, i don’t think that the system helps people who are struggling, give advice or support to change their situation. They the staff do however give you plenty of judgement abuse and looking down on and as for people with medical conditions they don’t care at all.  The housing officers allocated are incompetent more often then not and rarely almost always unreachable. No 2 - most people have been sent in hostel with children but is not very safe or clean. Safety depend the situation of the person abuse etc. I’m the hostel are lots people with addiction or bully and of course the person some out from abuse situation find themselves in another no safe place. We are grateful for temporary home but even there depend the area no safe and have to deal with the agency/landlord to do anything in the property if they do it. It is no much control / check from the housing officer. I agree with most of the themes above as its important to make sure people have a place to live & have things in place to reduce homelessness. No comment The customer service i received from the housing officers and the benefitss officers was really bad.  They didnt used to bother repyling to my emails for months on end. This is all from my own experience. Helping early prevents stress. Due to my health condition I have been put 3rd floor which is not ideal the flat is in poor condition. I got the help from council to not being homeless and all those. I agree with the statement because I believe every citizen should have equal rights. So far the service that received is good to me. When I think if that it is for everyone. Then Tower Hamlets is the best borough to live. All ideas sound good. Provide good quality accommdation for people who are at risk of or where they become homeless. I strongly agree with number 1 because it says to reduce the use of temporary accommodation and to prevent them from becoming homeless. I agree with the themes. More needs to be done to prevent rough sleeping & tackle homelessness. 1 Strongly agree because soon it is identified soon you prevent.\\n2 Tend to agree because the good quality of accommodation is important for the health and safety of people.\\n3 Neither agree nor disagree: with the same customer service you can do a good job.\\n4 Strongly agree: because sometimes people don’t get the right support, they are not well advised. So they are confused and take a bad decision.\\n5 Tend to disagree because you can not stop homeless. it will always happen. You have only to set up a good strategy to tackle when it happens.\\n6 Don’t know: this up to you.\\n In fact there are many people who need help. AT that level, I am very satisfied with the welcome and having a reasonable place to stay. Thank you very much. I agree will all of these points because they tackle the issue before it gts out of hand. The quicker someone is helped to  prevent hoemlessness the better, this impact on health, physically and mentally. Bad housing trigger my mental health and is not accommodating.\\nAlso having someone that can help is very important. Because I dont fell like staff care abouts me my child and my situation.  Because I am also homeless and these actions will impact too. Yes I agree with the themes because working with people earlier to prevent them from becoming homeless. Provide good quality accommodation or people who are at risk but you should enquire first. Please make sure that people have access to the right support. 1 Because its important to help people\\n2 Ensure happiness of people\\n3 Neutral\\n4 Ensure good service\\n5 Have sympathy All strategies I believe are very important to prevent and reduce homelessness, the only thing do focus on do achieve these goals are do encourage and continuing providing these services in practice Necessary action taken promptly Helping vulnerable people should have the priority in any capacity it is hard to explain how difficult when you become homeless unless you have experience like us. Life isnt smooth sometimes would be up and down. The person who is living as a rich person tomorrow he would be ill. That time he would need home for living. Thats why we are aggree with you. 2 The accommodation itself is good, however i am having problems with the location. I have been given accommodation in an area with a predominantly white community, and so am having trouble with communication and getting around. I agree because ive seen and heard stories about homelessness and how the council works. Because six properties for needs i thinking for best option . i strongly agree because it would make a change. To decrease the chance of homelessness by improving these themes people will be able to get help them lose their homes. i agree because even though not eveyone has a home Tower Hamlets is doing as much as they can. I would not want anyone else to suffer like me and my family, that are homeless. The accommodation provider currently are not of the best quality for example the accommodation we live in is old and we have constant problems such as mould and roof leaking problems. We have been almost 8 years in this current temporary house and we are still waiting for a permanent house. Due to personal experience. For the good things i strongly agree, things i dont know or not sure i think it thanks.\\nNumber two im in 1 bedroom house i have two daughters my wife have health issues i should get good accommodation. The temporary provided for me is clear and safe much appreciated I have been offered support to find more permanent accommodation. I don’t really agree to question 4 because I didn’t get the right support when i was eligible. 1 People will get a boost in money and will be able to sustain themselves so they can avoid the possibilities of becoming homeless. \\n2 People will be able to use that support to not be homeless anymore if good quality accommodation is given to them.\\n3 Genuinely dont understand.\\n5. If rough sleeper are given shelter they wont need to sleep on the streets, they can go to shelter that are built for them.\\n I agree because housing is a right, secondly providing help to families that are going through a bad time and helping the integration of vulnerable people we are all important, i care about the well being of people. 1 I agree with the statement and I think working with people earlier will help to prevent most of them from be homeless.\\n2 Because some councils they just put people in a bad condition house and that would incur the risk for their lives.\\n3 That would help to get advice quickly,\\n4 Because that will let people get the best support service and get better advice.\\n I was made homeless due to domestic abuse. I found it very hard leaving me partner as I didnt know about the support available to me to a single mother fleeing abuse. When I finally had the confidence to leave I was faced with many hurdles and no authority wanted to help me they treated me like a liar wanting to get accommodation and this needs to change. Without above points out contacts with housing will be poor I have been on homeless register since September 2012 waiting to get re-housed with permanent accommodation with my family, unfortunately we are still waiting for 12 years my housing officer and housing options does not give me any clear answer or any indication that further how long do we have to wait get a secure accommodation truly frustrating and depressed. Homelessness is a big issue especially due to the cost of living crisis. We need more effective measures in place to help more who are at risk of being homeless or are already homeless. At the moment customer service is atrocious. You can never get hold of someone via telephone or if you do they’re not very helpful / understanding emails are not responded to until a week or so later. Staff are genuinely rude as they have frequent interaction with individuals facing homelessness. However its crucial to remind them this issue is a real life struggle for those experiencing it and require empathy and understanding in their interactions.'"
            ],
            "application/vnd.google.colaboratory.intrinsic+json": {
              "type": "string"
            }
          },
          "metadata": {},
          "execution_count": 65
        }
      ]
    },
    {
      "cell_type": "code",
      "source": [
        "doc = nlp(all_text, disable = ['ner'])"
      ],
      "metadata": {
        "id": "jtkk5Uls1xzv"
      },
      "execution_count": null,
      "outputs": []
    },
    {
      "cell_type": "code",
      "source": [
        "from collections import Counter\n",
        "words = [token.lemma_ for token in doc if not token.is_stop and not token.is_punct]\n",
        "word_freq = Counter(words)\n",
        "word_freq.most_common(20)"
      ],
      "metadata": {
        "colab": {
          "base_uri": "https://localhost:8080/"
        },
        "id": "49oSsgEG1Eyi",
        "outputId": "ab4ae5ee-cddb-46a0-c523-e29c2d004f66"
      },
      "execution_count": null,
      "outputs": [
        {
          "output_type": "execute_result",
          "data": {
            "text/plain": [
              "[('people', 107),\n",
              " ('homeless', 88),\n",
              " ('support', 84),\n",
              " (' ', 84),\n",
              " ('need', 75),\n",
              " ('help', 68),\n",
              " ('service', 67),\n",
              " ('accommodation', 67),\n",
              " ('housing', 63),\n",
              " ('homelessness', 59),\n",
              " ('agree', 57),\n",
              " ('good', 50),\n",
              " ('\\n', 49),\n",
              " ('work', 44),\n",
              " ('staff', 35),\n",
              " ('rough', 34),\n",
              " ('prevent', 33),\n",
              " ('health', 31),\n",
              " ('theme', 29),\n",
              " ('provide', 29)]"
            ]
          },
          "metadata": {},
          "execution_count": 5
        }
      ]
    },
    {
      "cell_type": "code",
      "source": [
        "from spacy.matcher import Matcher\n",
        "matcher = Matcher(nlp.vocab)\n",
        "pattern = [{'POS':'ADJ'}, {'POS':'NOUN'}]\n",
        "matcher.add('ADJ_PHRASE', [pattern])\n",
        "matches = matcher(doc, as_spans=True)\n",
        "phrases = []\n",
        "for span in matches:\n",
        "    phrases.append(span.text.lower())\n",
        "    phrase_freq = Counter(phrases)\n",
        "phrase_freq.most_common(30)"
      ],
      "metadata": {
        "colab": {
          "base_uri": "https://localhost:8080/"
        },
        "id": "Or5G8anI1mge",
        "outputId": "f6da8282-8821-43dd-b54d-9e87e1e3abc7"
      },
      "execution_count": null,
      "outputs": [
        {
          "output_type": "execute_result",
          "data": {
            "text/plain": [
              "[('temporary accommodation', 20),\n",
              " ('rough sleeping', 18),\n",
              " ('mental health', 13),\n",
              " ('right support', 12),\n",
              " ('good quality', 12),\n",
              " ('homeless people', 7),\n",
              " ('rough sleepers', 7),\n",
              " ('social housing', 5),\n",
              " ('disabled child', 5),\n",
              " ('permanent accommodation', 4),\n",
              " ('social services', 3),\n",
              " ('domestic abuse', 3),\n",
              " ('early intervention', 3),\n",
              " ('complex needs', 3),\n",
              " ('personal experience', 3),\n",
              " ('other support', 3),\n",
              " ('vulnerable people', 3),\n",
              " ('additional comments', 3),\n",
              " ('complex issues', 3),\n",
              " ('early age', 2),\n",
              " ('suitable accommodation', 2),\n",
              " ('more resources', 2),\n",
              " ('many people', 2),\n",
              " ('temporary housing', 2),\n",
              " ('more people', 2),\n",
              " ('human rights', 2),\n",
              " ('21st century', 2),\n",
              " ('more support', 2),\n",
              " ('current accommodation', 2),\n",
              " ('young children', 2)]"
            ]
          },
          "metadata": {},
          "execution_count": 6
        }
      ]
    },
    {
      "cell_type": "code",
      "source": [
        "from transformers import AutoTokenizer, AutoModelForSequenceClassification\n",
        "import torch\n",
        "import requests\n",
        "from bs4 import BeautifulSoup\n",
        "import re"
      ],
      "metadata": {
        "id": "oJP1uguT152m"
      },
      "execution_count": null,
      "outputs": []
    },
    {
      "cell_type": "code",
      "source": [
        "tokenizer = AutoTokenizer.from_pretrained('nlptown/bert-base-multilingual-uncased-sentiment')\n",
        "\n",
        "model = AutoModelForSequenceClassification.from_pretrained('nlptown/bert-base-multilingual-uncased-sentiment')"
      ],
      "metadata": {
        "id": "YnE0OXl7bjsN"
      },
      "execution_count": null,
      "outputs": []
    },
    {
      "cell_type": "code",
      "source": [
        "dat=df[\"Please explain why you agree or disagree with the themes\"]\n",
        "df = pd.DataFrame(np.array(dat), columns=['review'])\n",
        "df = df[df['review'].notna()]\n",
        "df.isnull().values.any()"
      ],
      "metadata": {
        "id": "JJ4WPXk7gxNF",
        "colab": {
          "base_uri": "https://localhost:8080/"
        },
        "outputId": "14a918a6-258d-49ad-da56-ec1568a17e68"
      },
      "execution_count": null,
      "outputs": [
        {
          "output_type": "execute_result",
          "data": {
            "text/plain": [
              "False"
            ]
          },
          "metadata": {},
          "execution_count": 41
        }
      ]
    },
    {
      "cell_type": "code",
      "source": [
        "\n",
        "def sentiment_score(review):\n",
        "    tokens = tokenizer.encode(review, return_tensors='pt')\n",
        "    result = model(tokens)\n",
        "    return int(torch.argmax(result.logits))+1"
      ],
      "metadata": {
        "id": "Cs5a37GVf74N"
      },
      "execution_count": null,
      "outputs": []
    },
    {
      "cell_type": "code",
      "source": [
        "df['sentiment'] = df['review'].apply(lambda x: sentiment_score(x[:512]))"
      ],
      "metadata": {
        "id": "T4J4hHA9kWCg"
      },
      "execution_count": null,
      "outputs": []
    },
    {
      "cell_type": "code",
      "source": [
        "df"
      ],
      "metadata": {
        "colab": {
          "base_uri": "https://localhost:8080/",
          "height": 423
        },
        "id": "TGhAtGWAm84s",
        "outputId": "f235383f-60ef-46f6-ae6b-a6d1043a828f"
      },
      "execution_count": null,
      "outputs": [
        {
          "output_type": "execute_result",
          "data": {
            "text/plain": [
              "                                                review  \\\n",
              "0    I agree with all of the themes, especially the...   \n",
              "1    From my experience, rough sleeping incidents a...   \n",
              "2    There are too many homeless people in this are...   \n",
              "3    I am concerned about homelessness particularly...   \n",
              "4    Having high-quality relevant support services ...   \n",
              "..                                                 ...   \n",
              "354  1 I agree with the statement and I think worki...   \n",
              "355  I was made homeless due to domestic abuse. I f...   \n",
              "356  Without above points out contacts with housing...   \n",
              "357  I have been on homeless register since Septemb...   \n",
              "358  Homelessness is a big issue especially due to ...   \n",
              "\n",
              "                                                  desc  sentiment  \n",
              "0    <pad> a lot of people that are visibly homeles...          3  \n",
              "1    <pad> rough sleeping incidents are not rare an...          2  \n",
              "2    <pad> there are too many homeless people in th...          2  \n",
              "3    <pad> homelessness is a much more prevalent pr...          3  \n",
              "4    <pad> Having high-quality relevant support ser...          5  \n",
              "..                                                 ...        ...  \n",
              "354  <pad> some councils just put people in a bad c...          3  \n",
              "355  <pad> single mother was made homeless due to d...          2  \n",
              "356  <pad> without above points out contacts with h...          3  \n",
              "357  <pad> i have been on homeless register since S...          1  \n",
              "358  <pad> customer service at the moment is atroci...          2  \n",
              "\n",
              "[227 rows x 3 columns]"
            ],
            "text/html": [
              "\n",
              "  <div id=\"df-8b203937-d381-4d45-9e64-052948236c26\" class=\"colab-df-container\">\n",
              "    <div>\n",
              "<style scoped>\n",
              "    .dataframe tbody tr th:only-of-type {\n",
              "        vertical-align: middle;\n",
              "    }\n",
              "\n",
              "    .dataframe tbody tr th {\n",
              "        vertical-align: top;\n",
              "    }\n",
              "\n",
              "    .dataframe thead th {\n",
              "        text-align: right;\n",
              "    }\n",
              "</style>\n",
              "<table border=\"1\" class=\"dataframe\">\n",
              "  <thead>\n",
              "    <tr style=\"text-align: right;\">\n",
              "      <th></th>\n",
              "      <th>review</th>\n",
              "      <th>desc</th>\n",
              "      <th>sentiment</th>\n",
              "    </tr>\n",
              "  </thead>\n",
              "  <tbody>\n",
              "    <tr>\n",
              "      <th>0</th>\n",
              "      <td>I agree with all of the themes, especially the...</td>\n",
              "      <td>&lt;pad&gt; a lot of people that are visibly homeles...</td>\n",
              "      <td>3</td>\n",
              "    </tr>\n",
              "    <tr>\n",
              "      <th>1</th>\n",
              "      <td>From my experience, rough sleeping incidents a...</td>\n",
              "      <td>&lt;pad&gt; rough sleeping incidents are not rare an...</td>\n",
              "      <td>2</td>\n",
              "    </tr>\n",
              "    <tr>\n",
              "      <th>2</th>\n",
              "      <td>There are too many homeless people in this are...</td>\n",
              "      <td>&lt;pad&gt; there are too many homeless people in th...</td>\n",
              "      <td>2</td>\n",
              "    </tr>\n",
              "    <tr>\n",
              "      <th>3</th>\n",
              "      <td>I am concerned about homelessness particularly...</td>\n",
              "      <td>&lt;pad&gt; homelessness is a much more prevalent pr...</td>\n",
              "      <td>3</td>\n",
              "    </tr>\n",
              "    <tr>\n",
              "      <th>4</th>\n",
              "      <td>Having high-quality relevant support services ...</td>\n",
              "      <td>&lt;pad&gt; Having high-quality relevant support ser...</td>\n",
              "      <td>5</td>\n",
              "    </tr>\n",
              "    <tr>\n",
              "      <th>...</th>\n",
              "      <td>...</td>\n",
              "      <td>...</td>\n",
              "      <td>...</td>\n",
              "    </tr>\n",
              "    <tr>\n",
              "      <th>354</th>\n",
              "      <td>1 I agree with the statement and I think worki...</td>\n",
              "      <td>&lt;pad&gt; some councils just put people in a bad c...</td>\n",
              "      <td>3</td>\n",
              "    </tr>\n",
              "    <tr>\n",
              "      <th>355</th>\n",
              "      <td>I was made homeless due to domestic abuse. I f...</td>\n",
              "      <td>&lt;pad&gt; single mother was made homeless due to d...</td>\n",
              "      <td>2</td>\n",
              "    </tr>\n",
              "    <tr>\n",
              "      <th>356</th>\n",
              "      <td>Without above points out contacts with housing...</td>\n",
              "      <td>&lt;pad&gt; without above points out contacts with h...</td>\n",
              "      <td>3</td>\n",
              "    </tr>\n",
              "    <tr>\n",
              "      <th>357</th>\n",
              "      <td>I have been on homeless register since Septemb...</td>\n",
              "      <td>&lt;pad&gt; i have been on homeless register since S...</td>\n",
              "      <td>1</td>\n",
              "    </tr>\n",
              "    <tr>\n",
              "      <th>358</th>\n",
              "      <td>Homelessness is a big issue especially due to ...</td>\n",
              "      <td>&lt;pad&gt; customer service at the moment is atroci...</td>\n",
              "      <td>2</td>\n",
              "    </tr>\n",
              "  </tbody>\n",
              "</table>\n",
              "<p>227 rows × 3 columns</p>\n",
              "</div>\n",
              "    <div class=\"colab-df-buttons\">\n",
              "\n",
              "  <div class=\"colab-df-container\">\n",
              "    <button class=\"colab-df-convert\" onclick=\"convertToInteractive('df-8b203937-d381-4d45-9e64-052948236c26')\"\n",
              "            title=\"Convert this dataframe to an interactive table.\"\n",
              "            style=\"display:none;\">\n",
              "\n",
              "  <svg xmlns=\"http://www.w3.org/2000/svg\" height=\"24px\" viewBox=\"0 -960 960 960\">\n",
              "    <path d=\"M120-120v-720h720v720H120Zm60-500h600v-160H180v160Zm220 220h160v-160H400v160Zm0 220h160v-160H400v160ZM180-400h160v-160H180v160Zm440 0h160v-160H620v160ZM180-180h160v-160H180v160Zm440 0h160v-160H620v160Z\"/>\n",
              "  </svg>\n",
              "    </button>\n",
              "\n",
              "  <style>\n",
              "    .colab-df-container {\n",
              "      display:flex;\n",
              "      gap: 12px;\n",
              "    }\n",
              "\n",
              "    .colab-df-convert {\n",
              "      background-color: #E8F0FE;\n",
              "      border: none;\n",
              "      border-radius: 50%;\n",
              "      cursor: pointer;\n",
              "      display: none;\n",
              "      fill: #1967D2;\n",
              "      height: 32px;\n",
              "      padding: 0 0 0 0;\n",
              "      width: 32px;\n",
              "    }\n",
              "\n",
              "    .colab-df-convert:hover {\n",
              "      background-color: #E2EBFA;\n",
              "      box-shadow: 0px 1px 2px rgba(60, 64, 67, 0.3), 0px 1px 3px 1px rgba(60, 64, 67, 0.15);\n",
              "      fill: #174EA6;\n",
              "    }\n",
              "\n",
              "    .colab-df-buttons div {\n",
              "      margin-bottom: 4px;\n",
              "    }\n",
              "\n",
              "    [theme=dark] .colab-df-convert {\n",
              "      background-color: #3B4455;\n",
              "      fill: #D2E3FC;\n",
              "    }\n",
              "\n",
              "    [theme=dark] .colab-df-convert:hover {\n",
              "      background-color: #434B5C;\n",
              "      box-shadow: 0px 1px 3px 1px rgba(0, 0, 0, 0.15);\n",
              "      filter: drop-shadow(0px 1px 2px rgba(0, 0, 0, 0.3));\n",
              "      fill: #FFFFFF;\n",
              "    }\n",
              "  </style>\n",
              "\n",
              "    <script>\n",
              "      const buttonEl =\n",
              "        document.querySelector('#df-8b203937-d381-4d45-9e64-052948236c26 button.colab-df-convert');\n",
              "      buttonEl.style.display =\n",
              "        google.colab.kernel.accessAllowed ? 'block' : 'none';\n",
              "\n",
              "      async function convertToInteractive(key) {\n",
              "        const element = document.querySelector('#df-8b203937-d381-4d45-9e64-052948236c26');\n",
              "        const dataTable =\n",
              "          await google.colab.kernel.invokeFunction('convertToInteractive',\n",
              "                                                    [key], {});\n",
              "        if (!dataTable) return;\n",
              "\n",
              "        const docLinkHtml = 'Like what you see? Visit the ' +\n",
              "          '<a target=\"_blank\" href=https://colab.research.google.com/notebooks/data_table.ipynb>data table notebook</a>'\n",
              "          + ' to learn more about interactive tables.';\n",
              "        element.innerHTML = '';\n",
              "        dataTable['output_type'] = 'display_data';\n",
              "        await google.colab.output.renderOutput(dataTable, element);\n",
              "        const docLink = document.createElement('div');\n",
              "        docLink.innerHTML = docLinkHtml;\n",
              "        element.appendChild(docLink);\n",
              "      }\n",
              "    </script>\n",
              "  </div>\n",
              "\n",
              "\n",
              "<div id=\"df-14b07fd9-7149-4e74-a1f1-d97da62efe30\">\n",
              "  <button class=\"colab-df-quickchart\" onclick=\"quickchart('df-14b07fd9-7149-4e74-a1f1-d97da62efe30')\"\n",
              "            title=\"Suggest charts\"\n",
              "            style=\"display:none;\">\n",
              "\n",
              "<svg xmlns=\"http://www.w3.org/2000/svg\" height=\"24px\"viewBox=\"0 0 24 24\"\n",
              "     width=\"24px\">\n",
              "    <g>\n",
              "        <path d=\"M19 3H5c-1.1 0-2 .9-2 2v14c0 1.1.9 2 2 2h14c1.1 0 2-.9 2-2V5c0-1.1-.9-2-2-2zM9 17H7v-7h2v7zm4 0h-2V7h2v10zm4 0h-2v-4h2v4z\"/>\n",
              "    </g>\n",
              "</svg>\n",
              "  </button>\n",
              "\n",
              "<style>\n",
              "  .colab-df-quickchart {\n",
              "      --bg-color: #E8F0FE;\n",
              "      --fill-color: #1967D2;\n",
              "      --hover-bg-color: #E2EBFA;\n",
              "      --hover-fill-color: #174EA6;\n",
              "      --disabled-fill-color: #AAA;\n",
              "      --disabled-bg-color: #DDD;\n",
              "  }\n",
              "\n",
              "  [theme=dark] .colab-df-quickchart {\n",
              "      --bg-color: #3B4455;\n",
              "      --fill-color: #D2E3FC;\n",
              "      --hover-bg-color: #434B5C;\n",
              "      --hover-fill-color: #FFFFFF;\n",
              "      --disabled-bg-color: #3B4455;\n",
              "      --disabled-fill-color: #666;\n",
              "  }\n",
              "\n",
              "  .colab-df-quickchart {\n",
              "    background-color: var(--bg-color);\n",
              "    border: none;\n",
              "    border-radius: 50%;\n",
              "    cursor: pointer;\n",
              "    display: none;\n",
              "    fill: var(--fill-color);\n",
              "    height: 32px;\n",
              "    padding: 0;\n",
              "    width: 32px;\n",
              "  }\n",
              "\n",
              "  .colab-df-quickchart:hover {\n",
              "    background-color: var(--hover-bg-color);\n",
              "    box-shadow: 0 1px 2px rgba(60, 64, 67, 0.3), 0 1px 3px 1px rgba(60, 64, 67, 0.15);\n",
              "    fill: var(--button-hover-fill-color);\n",
              "  }\n",
              "\n",
              "  .colab-df-quickchart-complete:disabled,\n",
              "  .colab-df-quickchart-complete:disabled:hover {\n",
              "    background-color: var(--disabled-bg-color);\n",
              "    fill: var(--disabled-fill-color);\n",
              "    box-shadow: none;\n",
              "  }\n",
              "\n",
              "  .colab-df-spinner {\n",
              "    border: 2px solid var(--fill-color);\n",
              "    border-color: transparent;\n",
              "    border-bottom-color: var(--fill-color);\n",
              "    animation:\n",
              "      spin 1s steps(1) infinite;\n",
              "  }\n",
              "\n",
              "  @keyframes spin {\n",
              "    0% {\n",
              "      border-color: transparent;\n",
              "      border-bottom-color: var(--fill-color);\n",
              "      border-left-color: var(--fill-color);\n",
              "    }\n",
              "    20% {\n",
              "      border-color: transparent;\n",
              "      border-left-color: var(--fill-color);\n",
              "      border-top-color: var(--fill-color);\n",
              "    }\n",
              "    30% {\n",
              "      border-color: transparent;\n",
              "      border-left-color: var(--fill-color);\n",
              "      border-top-color: var(--fill-color);\n",
              "      border-right-color: var(--fill-color);\n",
              "    }\n",
              "    40% {\n",
              "      border-color: transparent;\n",
              "      border-right-color: var(--fill-color);\n",
              "      border-top-color: var(--fill-color);\n",
              "    }\n",
              "    60% {\n",
              "      border-color: transparent;\n",
              "      border-right-color: var(--fill-color);\n",
              "    }\n",
              "    80% {\n",
              "      border-color: transparent;\n",
              "      border-right-color: var(--fill-color);\n",
              "      border-bottom-color: var(--fill-color);\n",
              "    }\n",
              "    90% {\n",
              "      border-color: transparent;\n",
              "      border-bottom-color: var(--fill-color);\n",
              "    }\n",
              "  }\n",
              "</style>\n",
              "\n",
              "  <script>\n",
              "    async function quickchart(key) {\n",
              "      const quickchartButtonEl =\n",
              "        document.querySelector('#' + key + ' button');\n",
              "      quickchartButtonEl.disabled = true;  // To prevent multiple clicks.\n",
              "      quickchartButtonEl.classList.add('colab-df-spinner');\n",
              "      try {\n",
              "        const charts = await google.colab.kernel.invokeFunction(\n",
              "            'suggestCharts', [key], {});\n",
              "      } catch (error) {\n",
              "        console.error('Error during call to suggestCharts:', error);\n",
              "      }\n",
              "      quickchartButtonEl.classList.remove('colab-df-spinner');\n",
              "      quickchartButtonEl.classList.add('colab-df-quickchart-complete');\n",
              "    }\n",
              "    (() => {\n",
              "      let quickchartButtonEl =\n",
              "        document.querySelector('#df-14b07fd9-7149-4e74-a1f1-d97da62efe30 button');\n",
              "      quickchartButtonEl.style.display =\n",
              "        google.colab.kernel.accessAllowed ? 'block' : 'none';\n",
              "    })();\n",
              "  </script>\n",
              "</div>\n",
              "    </div>\n",
              "  </div>\n"
            ],
            "application/vnd.google.colaboratory.intrinsic+json": {
              "type": "dataframe",
              "variable_name": "df",
              "summary": "{\n  \"name\": \"df\",\n  \"rows\": 227,\n  \"fields\": [\n    {\n      \"column\": \"review\",\n      \"properties\": {\n        \"dtype\": \"string\",\n        \"num_unique_values\": 227,\n        \"samples\": [\n          \"I believe helping people at risk/before the become homeless is the least intrusive option for the person at risk. I'm expect this would also be better option for staff too, who must find it challenging. \",\n          \"Agree because protect people & their well being matters\",\n          \"It sounds like a good, compassionate strategy to reduce rough sleeping and help achieve better outcomes.\"\n        ],\n        \"semantic_type\": \"\",\n        \"description\": \"\"\n      }\n    },\n    {\n      \"column\": \"desc\",\n      \"properties\": {\n        \"dtype\": \"string\",\n        \"num_unique_values\": 227,\n        \"samples\": [\n          \"<pad> help people at risk/before the become homeless is the least intrusive option. i'm expect this would also be better option for staff too, who must find it challenging. i'm expecting this would also be better option for staff too. i'm expecting this would also be better option for staff too, who must find it challenging. i'm expecting this would also be better option for staff too, who must find it challenging.</s>\",\n          \"<pad> Agree because protect people & their well being matters. agree because protect people & their well being matters. Agree because protect people & their well being matters. Agree because protect people & their well being matters. Agree because protect people & their well being matters. Agree because protect people & their well being matters. Agree because protect people & their well being matters. Agree because protect people & their well being matters & their well being</s>\",\n          \"<pad> it sounds like a good, compassionate strategy to reduce rough sleeping. it also helps achieve better outcomes. if you have a rough night's sleep, you may be able to reduce the amount of rough sleeping. if you have a rough night's sleep, you may be able to reduce the amount of rough sleeping. if you have a rough night's sleep, you may be able to reduce the amount of rough sleeping.</s>\"\n        ],\n        \"semantic_type\": \"\",\n        \"description\": \"\"\n      }\n    },\n    {\n      \"column\": \"sentiment\",\n      \"properties\": {\n        \"dtype\": \"number\",\n        \"std\": 1,\n        \"min\": 1,\n        \"max\": 5,\n        \"num_unique_values\": 5,\n        \"samples\": [\n          2,\n          1,\n          5\n        ],\n        \"semantic_type\": \"\",\n        \"description\": \"\"\n      }\n    }\n  ]\n}"
            }
          },
          "metadata": {},
          "execution_count": 52
        }
      ]
    },
    {
      "cell_type": "code",
      "source": [
        "import torch\n",
        "from transformers import AutoTokenizer, AutoModelWithLMHead"
      ],
      "metadata": {
        "id": "L7xjZQ3K_whD"
      },
      "execution_count": null,
      "outputs": []
    },
    {
      "cell_type": "code",
      "source": [
        "tokenizer = AutoTokenizer.from_pretrained('t5-base')\n",
        "model = AutoModelWithLMHead.from_pretrained('t5-base', return_dict=True)"
      ],
      "metadata": {
        "colab": {
          "base_uri": "https://localhost:8080/"
        },
        "id": "S6WZji5X_3IR",
        "outputId": "ed73ec62-2a2a-47d8-e898-45ed49444d94"
      },
      "execution_count": null,
      "outputs": [
        {
          "output_type": "stream",
          "name": "stderr",
          "text": [
            "/usr/local/lib/python3.10/dist-packages/huggingface_hub/file_download.py:1132: FutureWarning: `resume_download` is deprecated and will be removed in version 1.0.0. Downloads always resume when possible. If you want to force a new download, use `force_download=True`.\n",
            "  warnings.warn(\n",
            "/usr/local/lib/python3.10/dist-packages/transformers/models/auto/modeling_auto.py:1712: FutureWarning: The class `AutoModelWithLMHead` is deprecated and will be removed in a future version. Please use `AutoModelForCausalLM` for causal language models, `AutoModelForMaskedLM` for masked language models and `AutoModelForSeq2SeqLM` for encoder-decoder models.\n",
            "  warnings.warn(\n"
          ]
        }
      ]
    },
    {
      "cell_type": "code",
      "source": [
        "def desc(review):\n",
        "    inputs = tokenizer.encode(\"summarize: \" + review,return_tensors='pt',max_length=512,truncation=True)\n",
        "    summary_ids = model.generate(inputs, max_length=150, min_length=80, length_penalty=5., num_beams=2)\n",
        "    return tokenizer.decode(summary_ids[0])"
      ],
      "metadata": {
        "id": "ogNg4ElJqLRm"
      },
      "execution_count": null,
      "outputs": []
    },
    {
      "cell_type": "code",
      "source": [
        "df['desc'] = df['review'].apply(lambda x: desc(x[:512]))"
      ],
      "metadata": {
        "id": "E3Nyglvc_4Sy"
      },
      "execution_count": null,
      "outputs": []
    },
    {
      "cell_type": "code",
      "source": [],
      "metadata": {
        "id": "6go9JC4sFTId"
      },
      "execution_count": null,
      "outputs": []
    },
    {
      "cell_type": "code",
      "source": [
        "df['desc'] = df['review'].apply(lambda x: desc(x[:512]))"
      ],
      "metadata": {
        "colab": {
          "base_uri": "https://localhost:8080/"
        },
        "id": "5Ot7kEqtC_b3",
        "outputId": "03fa3ad6-8be6-4716-e541-3ffa3c1e7a8e"
      },
      "execution_count": null,
      "outputs": [
        {
          "output_type": "stream",
          "name": "stderr",
          "text": [
            "<ipython-input-38-58a72e7ec19a>:1: SettingWithCopyWarning: \n",
            "A value is trying to be set on a copy of a slice from a DataFrame.\n",
            "Try using .loc[row_indexer,col_indexer] = value instead\n",
            "\n",
            "See the caveats in the documentation: https://pandas.pydata.org/pandas-docs/stable/user_guide/indexing.html#returning-a-view-versus-a-copy\n",
            "  df['desc'] = df['review'].apply(lambda x: desc(x[:512]))\n"
          ]
        }
      ]
    },
    {
      "cell_type": "code",
      "source": [
        "desc(df[\"review\"][3])"
      ],
      "metadata": {
        "colab": {
          "base_uri": "https://localhost:8080/",
          "height": 70
        },
        "id": "rhKN-6HHDBad",
        "outputId": "06cd7989-96a8-40a8-f39d-fd8594422a0f"
      },
      "execution_count": null,
      "outputs": [
        {
          "output_type": "execute_result",
          "data": {
            "text/plain": [
              "'<pad> homelessness is a much more prevalent problem than people sleeping rough and begging. john sutter: i am also concerned about the latter. sutter: i am concerned about people who are visibly sleeping rough and begging. he says it is a much more prevalent problem than people who are visibly sleeping rough and begging. sutter: i am concerned about people who are visibly sleeping rough and begging, but not those who are living in temporary accommodation.</s>'"
            ],
            "application/vnd.google.colaboratory.intrinsic+json": {
              "type": "string"
            }
          },
          "metadata": {},
          "execution_count": 32
        }
      ]
    },
    {
      "cell_type": "code",
      "source": [
        "df[\"review\"][3]"
      ],
      "metadata": {
        "colab": {
          "base_uri": "https://localhost:8080/",
          "height": 70
        },
        "id": "g5KIqJp9DUWY",
        "outputId": "711463b2-0bd9-4d9a-8bea-83916382cb59"
      },
      "execution_count": null,
      "outputs": [
        {
          "output_type": "execute_result",
          "data": {
            "text/plain": [
              "'I am concerned about homelessness particularly regarding families who are put in temporary accommodation, often out of borough. This is a much more prevalent and hidden problem (with long-lasting consequences for children) than that of people who are visibly sleeping rough and begging. I am also, of course, concerned about the latter.'"
            ],
            "application/vnd.google.colaboratory.intrinsic+json": {
              "type": "string"
            }
          },
          "metadata": {},
          "execution_count": 33
        }
      ]
    },
    {
      "cell_type": "code",
      "source": [
        "desc(all_text)"
      ],
      "metadata": {
        "colab": {
          "base_uri": "https://localhost:8080/",
          "height": 70
        },
        "id": "siqqkleuDX-Q",
        "outputId": "568114d3-f0e5-4e0e-a1f3-b3d6af3586ab"
      },
      "execution_count": null,
      "outputs": [
        {
          "output_type": "execute_result",
          "data": {
            "text/plain": [
              "\"<pad> a lot of people that are visibly homeless on the streets also suffer from drug addiction. growing up in tower hamlets, i have quite a few friends who frequent drugs and have sustained addictions from an early age. social services in the area need to be a lot better. i think it's terrible that people are sleeping rough, and that there's a lack of support.</s>\""
            ],
            "application/vnd.google.colaboratory.intrinsic+json": {
              "type": "string"
            }
          },
          "metadata": {},
          "execution_count": 35
        }
      ]
    },
    {
      "cell_type": "code",
      "source": [
        "all_text"
      ],
      "metadata": {
        "colab": {
          "base_uri": "https://localhost:8080/",
          "height": 139
        },
        "id": "-HOwhiiWEN9m",
        "outputId": "358e561b-e6fc-4efb-9c6c-153b7817fc19"
      },
      "execution_count": null,
      "outputs": [
        {
          "output_type": "execute_result",
          "data": {
            "text/plain": [
              "'I agree with all of the themes, especially the preventative measures as once it begins, one can often get stuck into a cycle which is hard to come back from. There are many homeless people that I see on the streets in my area whom I want to help but cannot do this individually. Moreover, a lot of these people that are visibly homeless on the streets, particularly around Whitechapel also suffer from drug addiction. Growing up in Tower Hamlets, I have quite a few friends who frequent drugs and have sustained addictions from an early age, who then as a consequence have faced homelessness due to lack of finances. This work needs to start from an early age and social services in the area need to be a lot better. For example, growing up and attending a TH school, social services were contacted about my situation and after referral, the problems myself and my family were facing were \\'not bad enough\\' in comparison to others on the needs hierarchy. To expand, I was facing domestic abuse and dealing with significant mental and behavioural problems. As social services could not help, I then sofa surfing to get as far away from the situation as possible. It is circumstances like these where preventative services are not able to deal with the demand from the population, leading to the exacerbation of themes such as drug abuse, homelessness, and a general lack of stability. From my experience, rough sleeping incidents are not rare and it is a long cycle to break, even where numerous offers of support are given, even during SWEP. Various factors also cause rough sleepers not to want to take accommodation, i.e unable to take pets or not able to be housed at the same location as their partners.  There are too many homeless people in this area. There is insufficient housing all round as we know so it all needs to improve. I don’t think the sign posting as to what individuals can do to help street sleepers is good enough. I am concerned about homelessness particularly regarding families who are put in temporary accommodation, often out of borough. This is a much more prevalent and hidden problem (with long-lasting consequences for children) than that of people who are visibly sleeping rough and begging. I am also, of course, concerned about the latter. Having high-quality relevant support services is vital I think it\\'s terrible that people are sleeping rough, and that there\\'s more homelessness in Tower Hamlets than before. I agree with the themes as I used to volunteer for Crisis and help with church meals for the homeless. I no longer donate my time but try to support Whitechapel Mission and other charities that help with homelessness. Because homelessness is not a nice position to be in nobody cares Bit concerned what you mean by making sure rough sleeping where it does occur, is rare, brief and doesn\\'t happen again.  Don\\'t want individual homeless people punished in anyway. If you don\\'t have suitable accommodation available for them, they might have to sleep rough more than once.\\nWhat will happen to rough sleepers who are not British Nationals? I believe helping people at risk/before the become homeless is the least intrusive option for the person at risk. I\\'m expect this would also be better option for staff too, who must find it challenging.  I think that homelessness is more likely related to unmet social and health needs that could be addressed more directly to prevent and reduce homelessness. Directing people to the right support would help with this, as would preventative support. This will also be an ongoing issue with lack of social housing. I really feel the council needs to push to reclaim / buy back social housing in the area - particularly from larger landlords.  Based on current homelessness crisis situation these are very common social requirements. Indeed it is the councils’ responsibility to act because our neighbours and relatives are busy with themselves. It is only the council- people can turn into as a last resort. Homelessness should not be an issue in a first world country but is tied up with mental health and social issues. Society needs to be responsible for these people and to ensure no one slips through the net into homelessness which then exacerbates the problem making it harder to solve. Early intervention is critical. You need to provide accommodation in areas where people will not fall back into homelessness due to old habits or contacts dragging people down.\\nAccommodation should be built to discourage anti-social behavior and encourage a community and working spirit. We have a serious problem of rough sleepers in Tower Hamlets - more resources should be allocated to hire more social workers, offer more temporary accommodation and help people hey back on track through counselling and other means. It sounds like a good, compassionate strategy to reduce rough sleeping and help achieve better outcomes. They all seem to be strongly aimed at being preventative or at least reduce the time people spend homeless.  I completely agree that staff also need to be supported in dealing with homelessness.   Housing is one of the biggest problems in Tower Hamlets. It is awful to see so many people sleeping rough, especially those who have complex needs or those who have sought asylum here. There is a big shortage of housing including good quality housing.  I do worry for staff who having to deal with people\\'s frustrations/anger and very upsetting stories as this must have an impact on them.  Homelessness is a problem that doesn\\'t have to exist in a developed country. The Everyone In scheme during Covid proved that. These all sound sensible. These are all positive sentiments. Why wouldn’t I strongly agree Helping to prevent and resolve issues is appropriate  My opinion -as I work in this sector I have a good understanding  The \"rare, brief, and doesn\\'t occur again\" is phrased in way where it feels like someone who\\'s homeless should go to someone else\\'s neighbourhood to rough sleep? I don\\'t agree with such statement, and think the focus should not be on \"making the nuisance go away\" Any one can become homeless and we need to tackle the underlying causes not just wait until people become homeless. 1. early intervention works\\n2 sustainable accommodation\\n3 think about peer-to-peer support and involving those with a lived experience\\n4. encourage joint working\\n5 training Agree with the principles of all statements but some of the language could be changed/re-thought - ie \\'quality accommodation\\' - this differs depending on the applicant etc. Also, point 6 - agree but should this be a specific part of homeless strategy? 3,4,5 are very important. Bolstering street link and rough sleeping verification would be helpful. 4. people getting linked with services when they are clearly vulnerable but not diagnosed 3 - this is too vague and should include a commitment to outreach/in-reach/mecc\\n4 - again too vague. Is this about PHPs or (hopefully) joint commissioning/partnerships? 1. early prevention work is the key to prevent homeless\\n2. invest with your hostel provision to ensure it is quality as people are in TA for longer periods\\n3. Invest in customer care training\\n4. Have your pathways advertised/joint meeting with DA team as an ex\\n6. Ensure case loads are manageable and provide effective training and support is in place. Use an EAP service Because more of these are happening much at present and it is vital that they do Persons experiencing homelessness deserve dignity and sleeping on the street ( rough sleeping is a euphemism making it sound better than it is) not only experience lack of accomodation but additional health complications, risks of physical and sexual assault, inability to find work due to our home/post-code based systems of communication and location verification, among other ills. I agree with all of these as I was once homeless and know how much it means to have a house therefore I agree with these themes to better homelessness No one should be homeless. If your homeless hard to establish yourself in a community and society.  As was very close to homeless myself before my experience with the department in regards to homelessness was inconsistent as to how I would get the help I need at times. Sometimes it depends on the person in contact at the time to the way they deal with the situation. They don\\'t sound happy to help, rather they do it because it\\'s their job.  It will improve the safety and reduce the crime I agree with it is as i have first hand experienced homelessness and am now in temporary accommodation places by Tower Hamlets. It\\'s not an easy process at all and small things like customer service mean a lot. I believe it is imperative and highly important to make it known how to access the right support and give good quality accomodation. i was homeless with three daughters with me and it is so important as a human to provide good conditioned accomodation. We should be treated as humans not as a burden.  The staff members at the tower hamlets department are very rude and unhelpful. They don\\'t care about genuine people that need help. I have written to several members at the housing department about my living condition and they don\\'t care.  Ive agreed to the above themes as i am currently a homeless applicant whose been living in a temporary accommodation for the past 4 years with my husband and young child and till this day we are struggling. Being homeless is an ongoing struggle mentally, physically and mainly financially.  Each of these themes should have already been in place or addressed and so it would be impossible to disagree with them. I believe if you catch people in risk of homelessness early with the right housing, psychological, and physical health support, they will not become entrenched I strongly disagree with most statements, tower hamlets council have made me feel that its hard to come by help, ive spent years feeling let down by them, mentally the council have affected me and disregarded anything i have said and have made me lose faith in them as a whole. I am in temporary accommodation with 2 sons, a 1 bed on the 2nd floor 40 steps up and can never leave the house, i have requested for the last 2 years to be moved by i either get ignored or told to wait, my housing officer has spoken to me once in 2 years despite countless emails and calls i have sent him. My parents talk of how the council were years ago and how they were helpful, although this is going back 40 years, a lot has changed, not for the better though. Wholeheartedly i feel tower hamlets is going down hill with their housing and homeless approaches, they aren’t stopping homelessness, they are encouraging it Having the right support service and provision is key - this include effective join up between service, Those who are homeless often have a range of support need and there ensure the appropriate service support is there is key to support someone to  cope. \\n\\nTo try to prevent rough sleeping but where it does occur, it’s rare, brief and doesn’t happen again - i think this is a value statement which needs more context  Many families in my block has been housed by tower hamlets council and their flats have bad mould. After letting the council know of their situation, there was no solution provided. These families have children who are aged between 1-5 and it’s causing them health problems. My personal experience with the housing officer was not great either, after I was put in a temporary housing I only heard from him 1 time in the whole 5 years I’ve lived here. I needed help regarding rent issues and other things but I had no reply. I wasn’t the only one that this happened to. It ends up impacting our mental health as the people who we are supposed to get support from, just left us be without any help. I believe the council should look at these families from the ethical side and see if the situation they are in is just.  More people are becoming homeless every day due to multiple reasons including cost of living crisis, and its impact on general wellbeing and mental health etc. These people need to be supported asap to prevent the spiral that homelessness means making things worse for them. no comment! I strongly agree with the themes because by doing so we cannot only prevent homelessness but also avoid worsening the condition of the whole family or even we can save our society. Moreover, homelessness can result in many crimes such as harming other people, violence and crime rate will increase, and human rights will be violated.  I agree with the themes since these will help prevent homeless get to its worse degree. By getting to the root of the problem and providing care to those who desperately need it will create a happier society.  I hope what I agree with can be better than everything in this point, thank you I believe in a developed country in 21st century its citizens should not be in danger of homelessness. It should be the responsibility of the government and citizens to avoid homelessness. The rough sleepers, be it intentional or real, damages the prestige of a country and questions the welfare of a society. Additionally, homelessness imposes a big burden, including financial, on a council and severely impacts rough sleepers.  Staff are like robots they need re training and develop some empathy skills Because all questions are asked it’s right. I am living in temporary accommodation for more than 6 years and I have lots of health problems. I have emailed my housing authority several times also I have filled up some form few times explaining in detail how my health affects my daily life but I did not receive any positive response. Homelessness is vevr painful in mentally and physically. For the people.. So it\\'s better to take steps before homelessness. Staff need to be able to communicate with their residents in a timely manner. Unfortunately their as been times where they do not respond back to residents who are having difficulties regarding their well-being and situation. Communicate is the main key for happy residents and that needs to improve. I am having a difficult time with my baby in a suffocating room studio and it\\'s effecting me and my baby physically and emotionally and would want some form of communication from staff to advise and support. \\n\\nOverall their are many factors that need to improve such as improving customer service satisfaction. I gree with any thing see it right and vice versa I agree because I’m also homeless I need good and suitable accommodation for my children .I’m homeless of towerhemlet Early intervention will help lots of people to have a place to lay their head with their families.  I agree Because at the moment the homeless system is terrible and there is no service of first come first serve. And I myself are suffering from living in a homeless accommodation which is damp and every house that was given to me by homeless has been severely damp and nothing had been done about it, the system needs to be fixed. I agree because I am one of the homeless and  know live in very difficult  conditions  in temporary accommodation  \\nI know there are many who have no home  At some stage people that work in homeless departments help residents but most of the time seems like they do not care about residents or willing to help or give good advice. Homeless places are not fit for health and safety for people to stay in also do not have cooking facilities for people like me to cook and eat. I cannot afford to eat out everyday. I agree to the themes because when staff resilience and wellbeing are being boost their confidence level at work will be high. no comment Helping people before they choose the wrong path will definitely help. When its too late the help wont work or will be slow progress. To give more support to people the need help. I have been homeless been 7 years and I have a disabled child living with my husband and other two kinds. I have given to a hotel service first, then moved us to near Croydon for 4 months. Tower Hamlets has moved us on tower Hamlets on a temporary \\naccommodation in 2018 then moved us to the another temporary accommodation which is 8 Brock Place London E3 3QU. I have disabled children, because of this kind of moving my disabled child is not fixed to any accommodation. In the meantime, My neighbour, attacked my disabled child by hammer, police came arrested neighbour from his home. My disabled child is always feeling unsecured and unsafe in my current accommodation which is 8 Brock Place London E3 3QU. I mate Tower Hamlets Mayor after the incident with disabled child and he ensured me that I will be given and moved into a permanent accommodation as soon as possible. Mayor has contacted with housing officer and replied me my housing bedding possition is on number 8 now. Its been more than a year now. I am still living on unsecured & unsafe accommodation, 8 Brock Place London E3 3QU. I am very disappointed to the Tower Hamlets because they are not taking any seriously action fir my permanent accommodation. We are husband & wife and three young children living in the current temporary accommodation on 8 Brock Place London E3 3QU. Please take a serious care for my permanent house.  Because I am suffering with my current temporary accommodation with my autistic son  I believe everyone should have a place to stay Because this should be addressed as it it isn\\'t at the Moment.  It is with everyones best interest in mind. I agree with what I think will help the population develop into one with a better support system and decrease the chances of needing to go into temporary accommodation. These will help the council to meet the increasing challenges facing residents who are at risk of or who present as homeless. These are easy for residents to understand at a time when council and partner agencies are stretched and demand is high for housing support. working with people who are desperate for housing support and who may also have complex other needs too must be gruelling and take a toll on staff. Improving resilience and wellbeing amongst staff will help them to provide better customer service and support them when they have to give unpopular advice and decisions. I agree with all of these themes because they seems to go hand-in-hand in preventing people from suffering through rough sleeping. Prevention & immediate action are a priority when trying to avoid people falling into extremely entrenched version of rough sleeping which is prominent in the clients my organisation works with at the moment. Don’t know  People become homeless for all sorts of reasons, and fighting to prevent it often misses out key factors -- someone could be considered \\'making themselves homeless\\' for example, due to a breakdown in their living conditions - and then you could force them to put up with something intolerable because of failures with assessment.  Prevention duty needs to continue in line with discussion on The Renters (Reform) Bill to end \\'no fault\\' evictions, especially tackling rogue providers. \\nThe quality of temporary accommodation and length of time an applicant stays in temporary accommodation has a great long term impact on health and well-being.\\nClear move-on pathways from temporary accommodation i.e. PRS, supported housing - between LA & housing associations - this includes strengthening partnerships between Adult Social Care and other support services.\\nEducation that rough sleeping is dangerous and should not be an option to find a housing solution. \\nGatekeeping of accommodation for applicants who are in priority need due to a physical or mental health condition to end - to be provided with a clear pathway into secure accommodation to prevent their health deteriorating further and needs increasing; this includes households with children.\\nClearer communication & pathways between the Home Office and the local authority to ensure NASS leavers are fully supported and not evicted to the streets.\\nMore resources in staff wellbeing & development, including reflective practice and support to achieve development goals through Inclusion & EDI groups.  I definitely agree with all but one of these themes, because they are all valid for both client and staff wellbeing and experiences with homelessness. With the first theme, I am not sure I fully agree with reducing the use of Temporary Accommodation as this can be a vital lifeline for many clients in need of emergency housing due to a range of needs. But I do definitely agree that people should be supported earlier to avoid and prevent homelessness and maintain their housing. Working for people who in needs is their human rights.  The best services provide best environment  and prevent people to be homeless.  I believe that prevention and good quality accommodation for those who become homeless or at risk of is the most important point - Hostels are not holistic environments nor are they supportive in a lot of ways. This does the opposite of preventing sleeping rough. This also creates a cycle of sleeping rough because people do not hold down their tenancy\\'s in TA. Especially if you are using drugs and trying to come off them, the hostel environment encourages drug use and makes it more difficult to be sober. Agree because there really shouldn\\'t be any excuse for people to be homeless in the 21st century in our society and every effort should me made to eliminate homelessness and the information support and training available to those whose job it is to work with people facing this predicament. I strongly agree with all of the above statements, because I believe if there was more effort to prevent rather than chasing after homelessness has impacted them, it will be easier to navigate. Rough sleeping and being at risk of homelessness is a stressful and chaotic time, and really impacts peoples mental health, which then makes it more difficult for them to engage with services who are there to support, where as if we are able to put help towards the prevention, it would alleviate some of these issues. And with regards to staff resilience and well being, it is a difficult and challenging sector to work in, and I believe if there was more support and contributions to staff, it would help immensely, as everywhere tends to be short staffed and overworked, which then ultimately impact the clients as well.  It’s important to help vulnerable people from being homeless as living on the street is unfair to them who are not given any other option  Because those in need should be safe, be helped, and supported with finding a purpose, a job, and a home Because they are important.  I agree with all themes, but recognise that some homelessness can\\'t be prevented, e.g., DV/DA, illegal subletting, illegal evictions with harassment, etc.  Access to right support services is important, but not the responsibility of Housing Options Service.  Boosting staff resilience and wellbeing CANNOT be pushed onto staff as their responsibility (as it currently is) because the problems were created by the Service ignoring the pleas of overwork, creating dangerously high levels of stress through under-resourcing and ignoring compassion fatigue by failing to provide reflective sessions to discuss the impact of the relentless torrent of misery, distress and frustration. I agree that supporting people before they become homeless is key and ensuring they have the right support to is important as well. A challenge is that residents with support networks in borough do not want to move out of the borough and I see that as a barrier as there is little accommodation in borough - perhaps this fits into the theme about improving customer experience or support services - but I think we need to think about how we support people when they have to be rehoused (temporarily or permanently) away from their support networks as that is a barrier to people accepting accommodation and staying in temporary accommodation.\\nIn regards to support services I think substance misuse and mental health are big contributors to homeless that I see in working with homeless people in hospital, so hopefully that is what is meant with \"support services\". I think to tackle homelessness we need to ensure those services and third sector organisations that support those people are adequately funded and resourced.  PRHA has a long-standing commitment in supplying good quality housing and support to Tower Hamlets residents who end up rough sleeping or homeless. We typically work with people in our communities who are the most vulnerable or “at risk” and who have very complex needs and poor engagement with services and require 24/7 hostel support to remain off the streets. Partnerships with all stakeholders is vital to ensuring this group achieve the best outcomes and our general point will be for this strategy to see these partnerships not only maintained but developed further in the coming years. In particular we would like to offer to work with other partners to contribute to the final version of this strategy .\\n\\n\\nMaking sure that people have  access to the right support  services\\n\\nAdditional comments on this priority:\\n\\nEnsure dedicated leadership and resources to ensure the homeless cohort who move into hostels receive optimal healthcare services to ensure their health needs are met. This is especially needed as support needs of rough sleepers have increased significantly over the last ten years.\\n\\nWe are also seeing increased support needs amongst our residents in semi-supported housing. While we do provide general support to these residents, the thresholds of other specialist services (e.g. mental health and detox) mean that people often have to reach crisis point before they receive any support . As most of these residents are formerly homeless they can be vulnerable to repeat homelessness when this happens.\\n\\nTo have a strategic leadership forum involving decision-makers in housing, adult social care, health and mental health services and hostel providers to ensure joined up partnerships and ensure resources are targeted efficiently.\\n\\nEnsure that the role of supported housing & hostels in preventing repeat homelessness is understood within the council and landlords of supported housing engaged with as valuable partners rather than just as a commissioning arrangement.   \\n\\n\\nProvide good quality accommodation for people  who are at risk of, or where  they become, homeless\\n\\nAdditional comments on this priority:\\n\\nEnsure joined up approaches between the commissioning of support services and Housing Benefit teams so as to ensure that there is a robust funding of supported housing in the next few years. \\n\\nWork in partnership with landlords to ensure that future planning for needs and investment is possible.\\n\\n\\nWorking with people earlier  to prevent them from  becoming homeless and to reduce the use of Temporary Accommodation\\n\\nAdditional comments on this priority:\\n\\nLook at how homeless prevention resources, funding and interventions can be developed further so as save resources down the line and improve the outcomes of those at risk of homelessness. \\n\\n Embedded rough sleepers tend not to enter services because of their complex issues and there is no legal provisions to force people to enagage. Therefore arranging appointments, assessments, interventions, suppirt sessions all fail when the client does not turn up due to their choices to indulge in drug , alcohol and mental health conditions. There needs to be motivation and /or sanctions.  I believe that the homeless sector in Tower Hamlets is doing an incredibly important job with very limited resources at a time when homelessness is very high. I believe the themes and approaches laid out above are correct and what is needed as homeless people have often been let down by those around them and have varied and complex needs which should be in the interests of everyone in society to help resolve. The homeless sector cannot do everything alone and they need resources and trust in their work and ability to help begin to fix the problem while ensuring that the correct housing and other support is available so people can move on from homelessness and never return to it. Currently services commissioned by the LBTH are underfunded and under resourced and put a strain on the organisations that deliver them. Fixed financial envelopes have not changed in years, and inflationary increase has not been accounted for in many instances. Because such envelopes are fixed there is not possibility for the introduction of salary scale for workers, meaning a high turnover of staff and discontinuity of services for clients. As a result of this, as well as other factors, homelessness has increased and voluntary organisations, whose mission is to alleviate this problem, are left struggling. A complete overhaul of the commissioning of homelessness service in TH including, crucially, SWEP provision is necessary and long overdue. These themes are at the heart of Providence Row\\'s work with people affected by homelessness.  Homeless work should be done by Homeless people - regular citizens get demoralised and have a white saviour complex. More importantly we can manage  resources better ! There is too much emphasis on services sometimes 60 charities and orgs can be involved at once. They are trying their best but the money could be spent on DIRECTLY empowering affected people and creating opportunities rather than paying citizens to clean up the mess.   I am a former tower hamlets resident and have been unintentionally homeless since my family was evicted in 2021. I work and live in tower hamlets also, working at mile end leisure centre and I study at Queen Mary university. Though I have spent a majority of my life living, studying and working in tower hamlets, I believe in this regard my family and I have been neglected. Everyone deserves quality sleep and safe, healthy and perfect accommodation. This will encourage more people to go through the easier route of getting a property, this will gain an unfair advantage for people who are on the housing list and who are overcrowded. An example is, a single parent with children will show they are homeless and gain a house earlier than someone who has been on housing list for years as overcrowded. This has happened in tower hamlets and these are all known within tower hamlets. I agree as the key focus needs to be on reducing homelessness, providing better accommodation and better customer service experience, and ultimately supporting people out of homelessness and rough sleeping. Its important that we have less street homeless I have heard so many stories of people not feeling safe in the accommodation provided for people with these complex issues and also if staff are not in it for the right reasons or well trained and looked after they will not be able to truly help people with complex issues. These are the important information required to help the people from becoming homeless, the earlier intervention the better it is for people and the staff.  Nobody sleeps rough for fun, and all efforts should be made to minimise it.\\nNo mention, though, of the Mental health element in causing rough sleeping.  Prevention from homelessness is difficult to apply as you can omly apply to those that are threatened with homelessness and this could be too late. More understanding of renters rights, rent affordability, or affordable housing can also help  the rental market is unfortunately a very hard environment. \\n\\nAccessibility to services should be a priority but this should also come with more staff rather than book their resiliencia there should be more budget in acquiring more personell and better training overall. \\n\\nMore affordable housing and social housing for families (3/4 bedrooms) should be built in the Borough to stop gentrification  It makes sense to be able to intervene early and to try and prevent homelessness, there are so many reasons it could happen to any one no matter who you are or where you are from.\\nlosing your job, break down in relationships,domestic violence drink and drug misuse/addictions the list goes on, there should be basic guidelines and simple steps to break down what are all the cases and how to deal with them and to know where to go for help, not just the person affected but also for family and friends and the community.\\nWhen people seek help it is always so important that they are not judged and they are greeted with a helpful friendly person. Homeless people should be housed but the accommodation should not be better than the Ricard or social rented sector. It is a good idea to keep in mind the customer service, but I think the overall experience with your services will depend on whether or not you can actually help them. So if a client is in need and cannot access emergency accommodation or the assessment takes a lot of time to finalise, the overall experiece will be bad.  The bough is plagued with drug addicts and homless people, who are often aggressive They are all so important - the current state of housing and homelessness service is simply appalling, because they are so overwhelmed. I work in the NHS and the impact it has on health and wellbeing is so significant. Hi \\nYour working is so slow \\n Support for people experiencing rough sleeping is very important - as is being able to access appropriate accommodation both in an emergency and in the longer term. Alongside this there is a need to prevent repeat homelessness, ensuring people who have been street homeless do not return to the streets - or if they do are helped quickly. These priorities are in line with London-wide programmes such as Life off the Streets (GLA). However, I would also suggest a theme which is about partnership / joined up working - across public, private and community and voluntary sectors. This is a problem that needs a broad coalition - led by LBTH and with their power to convene central to what is developed These are good aims to achieve and therefore if achieved the council can save alot of money and focus on financially investing on more social housing which is in great demand.  Your themes are not really clear.\\n\\nI d prefer to read concrete and practical examples that should reduce the homelessness in Tower Hamlets.\\n\\nHomelessness in Tower Hamlets is growing a lot in these last 10 years and people seem more aggressive and with mental health issues compared to the past.\\n\\nI don t think your approach ll reduce this behaviour.\\n\\n I strongly believe that only a combination of all of the above practices will bring positive outcomes to our services. They are interlinked and dependent on each other for the other part to work well and I think all should receive high attention. I think that it\\'s incredibly difficult, but Hostels aren\\'t working. They don\\'t provide a safe environment for the homeless, or those battling addiction.  Drug use and mental health needs should be addressed first.  The staff in hostels and those who work in association are amazing and should be supported.  There needs to be standards set.  I believe that the Council\\'s Relationship Managers help to provide stability and support to residents and staff. Ultimately if they have  abetter experience and better service then they will stay when they are offered a placement. Also good accommodation out of an area which is likely to trigger them into relapsing.  Agree with the overall aims, but what is needed is a range of ways that these get implemented and high level priorities need to be seen alongside the detailed implementation strategy.  Also needs to understand the different circumstances that may be facing different individuals and or communities and have a strategy that can take account of different access needs I have been in this borough for nearly 8 years now I have  experienced  all those and noticed during this period. We need to turbo boost a strategy that brings tangible outcomes for people - the status quo is currently not acceptable It\\'s common sense  They all aid in the prevention of homelessness   they are very relevant and clear Mostly self-evident, all points and things we should aim for. Prevention is always key and if we work on preventing early could help especially with footfall in emergency duty.\\nCustomer service is vital as it helps give reassurance to members of public that their case will be dealt with professionals dedicated to helping improve service.\\n\\n it\\'s all important to provide a good service and maintain a good work environment  Do not feel staff resilience is boosted by management More needs to be done in terms of staff well being... I agree with the themes as long as they come with realistic actions plans that don\\'t over burden staff Due to current demand and lack of staff preventative work is not being done and the service is currently reactive.  There is nothing to show that there is significant change within the service in every area including staff wellbieng In regards to boost staff resilience - this should be an internal priority.\\nImprove customer services - should be reworded I agree with themes as it is best practise and the way forward to enable staff and residents alike to have a streamlined effective service I disagree with Rough Sleeper prevention as i eel that they end up rough sleeping before they are supported.  I agree to early prevevention of homellessness, it allows time time to help clients explore their housng options and it allows Housing options staff enough time to support client.  It will make it less stressful for client and the case officer. most experiences are subjective and cannot be generalised.  I don\\'t work in this service, therefore don\\'t understand this questionair and does not relate to me They all improve the service provided to the residents. I agree with provision of: providing advice earlier; good  quality accommodation; making the right support services accessible to all because it meets the needs of both Service Users and members of staff, resulting in TH being a good place to live in as well as work within. As a public servant it would be in the interests of our clients to provide the best service possible and the earlier the better.  Staff would also benefit from the provision of the above as it would assist in avoiding conflict. Currently, support is very low and needs improvement. it is very essential to work with people and prevent them from being homeless All positive themes will help both our clients and colleagues alike to be in a position to not only offer better support but also guidance and signposting to other support services that might be available. i believe good support and customer service provides assurance for resident.  gives better understanding and motivates to act accordingly.  Agree because protect people & their well being matters I am not sure what can be done to prevent homelessness but for all other themes more could be great Because Homeless has negative affects on family and Children, Working towards fixing this issue will be greatfully beneficial I follow there activite I saw they work hard Tend to see a lot of people on street who are homeless and not getting the correct help and support All above questions is very important to the local community Current accommodation is in very bad condition All of the themes need to be addressed urgently as the homelessness and rough sleeping crisis is getting worse Because being homeless means more likely to become sick Strongly agree but students should have more priority especally exam students Preventing homelessness through education, support etc is a better and more sustanable. Paying for housing when tenants has no way of supporting thenself is of false economy  People need good quality housing Never have had exceptional service, its like i owe them something. Governmentemployee lack accountability  From my personal experience i was put in a B&B with my 4 year old chil after 4 month i was housed in kent (Gillingham) i suffer with a heart condition even knowing this my Housing Officer put me here knowing I have zero support which i need with my health For person that homeless is depression i cant remember 2018 with my little boy suffering council pushing me from one place to another before they gave me where i am since 2019 am still in temporary with 3 children 18 years 16 years, 5 years in one bedroom They sending the out side tower hamlets As a homeless resident being in temporary accommodation, I have experienced the worst form of service from TH. I’m a DV victim and I thought id be supported but instead I was continuously suffering. Ill never ever forget the experience I am currently going through and ill never forgive TH. Better service mean a better community and a safer community  They are logical and reasonable - provided there are resources behind them Because they are factual statements and should be implemented universally.  I agree because people should have access to the right support services Our individual experience with housing was poor as if to 2+ years to get a bidding number even with constant communication with our housing officer at the time. Our temp accommodation is good There is a lot that needs to be done when it comes to homeless in all sections. As someone that has been homeless in the past i know that it is an extremely long and tiring process that sometimes feels never ending Making sure everyone has a roof over their head is so important, and as a Council you should go that extra mile to give them as much help as you can  I agree with working to stop homlessness and providing accommodation for people and also give good customer service and the right to support right peoples. \\ni hope towerhamlets give more effort and working to sort out housing problem in borough. I believe everyone should be treated equally and get the support that they need I think most of the homeless people dont know very well where he has to contact to prevent himself from becoming a homeless. Communication from council is not very prompt. Not signposting properly, which confused them and they think process is very complex. When the court decided that i would be evicted I request help and was told that no help was availanle until I would physically be kick out of my house.\\nDuring my time in temporary accommodation there was no support, I waited for hours just to be given another B&B, no one was available to explain. From the themes box i tend to agree with most of them because i got the support when I was in a homeless situation. One thing i didnt like is when staff members absent on the day you have your appointment with them. This is because it effected my health during that time as I was pregnant and coming again once my appointment got rescheduled was very different for me. I strongly agree with the all of these priorities other than no. 5 as 5 is not relevant to us related to priority no 1 if i take our case as an example, case worker did mention she will contact out housing group manager and she had the opportunity to communicate with the housing group manager to prevent us being homeless but housing group manager confirmed he didnt hear from our case worker at all. As a result was are still living in a temporary accommodation for five years.\\nI think when it comes to \"good quality accommodation\" it should be appropriate for the peoples needs to understand the needs caseworkers should be a very good listener with lots of empathy and should treat everybody who come to them equally, fairly regardless of the ethnic background or any other reasons. When we go to the council office becoming homeless, it was just after a month loosing our family vehicle from an accident my wife was pregnant and my daughter was six years old wife was injured from accident as well we provided a letter from our GP to case worker but case worker was acting like a robot no humanity at all, our requests was to have a ground floor accommodation or an accommodation with a lift as i was the only person to more our stuff from previous house. In the end we had to leave everything including our bed and since the house we got was unfurnished we slept on the floor for over a week.\\n I live in a good home and get all the help i need, I am happy I agree with the themes this is because it will reduce homelessness, reduce rough sleeping and provide people with good quality housing. Temporary accommodation was very far from school and work, not in good condition. My experience was very traumatic for me and the kids for the factors I put in the priority columns, the housing officer and her manager was not fully aware of EU law after Brexit, they was rude and heartless and worked one pace not suitable by law far a family like ours flee for domestic abuse, 2 young kids placed in a B&B facility with no toilet and with addicted people sharing the other facilities in the B&B.  The 1 point i tend to disagree just because in certain cases because homeless in inevitable (like us in the refugee for DV women and kids). I agree because housing access to the right support will help them a lot to know what to do. 1) Working with Landlords to keep the rent down also giving tenants longer leases on the property\\n2) Building more suitable housing for people on social housing with reasonable monthly rent. \\'-Support people with their application \\n-investigate any safeguarding concerns\\n-prioritise those with young children\\n-allocate housing based on employment opportunities, support network, ease of access.\\n It is always a problem to get through to reach Tower Hamlets. It is very rare to contact housing officers or the housing benefit service. Any applications are considered for a very long time or do not received a response to the application at all, for example, i have been waiting for the decision on the assignment of benefits and the decision on the appeal for two months, but still, I want to express me deep gratitude for the opportunity to have me temporary housing. I believe that everyone deserves a decent home. Tower Hamlets did not help me i am still in temp accommodation after 12 years my son is 13 and daughter 9 share a room. I have and am still in homeless housing, i don’t think that the system helps people who are struggling, give advice or support to change their situation. They the staff do however give you plenty of judgement abuse and looking down on and as for people with medical conditions they don’t care at all.  The housing officers allocated are incompetent more often then not and rarely almost always unreachable. No 2 - most people have been sent in hostel with children but is not very safe or clean. Safety depend the situation of the person abuse etc. I’m the hostel are lots people with addiction or bully and of course the person some out from abuse situation find themselves in another no safe place. We are grateful for temporary home but even there depend the area no safe and have to deal with the agency/landlord to do anything in the property if they do it. It is no much control / check from the housing officer. I agree with most of the themes above as its important to make sure people have a place to live & have things in place to reduce homelessness. No comment The customer service i received from the housing officers and the benefitss officers was really bad.  They didnt used to bother repyling to my emails for months on end. This is all from my own experience. Helping early prevents stress. Due to my health condition I have been put 3rd floor which is not ideal the flat is in poor condition. I got the help from council to not being homeless and all those. I agree with the statement because I believe every citizen should have equal rights. So far the service that received is good to me. When I think if that it is for everyone. Then Tower Hamlets is the best borough to live. All ideas sound good. Provide good quality accommdation for people who are at risk of or where they become homeless. I strongly agree with number 1 because it says to reduce the use of temporary accommodation and to prevent them from becoming homeless. I agree with the themes. More needs to be done to prevent rough sleeping & tackle homelessness. 1 Strongly agree because soon it is identified soon you prevent.\\n2 Tend to agree because the good quality of accommodation is important for the health and safety of people.\\n3 Neither agree nor disagree: with the same customer service you can do a good job.\\n4 Strongly agree: because sometimes people don’t get the right support, they are not well advised. So they are confused and take a bad decision.\\n5 Tend to disagree because you can not stop homeless. it will always happen. You have only to set up a good strategy to tackle when it happens.\\n6 Don’t know: this up to you.\\n In fact there are many people who need help. AT that level, I am very satisfied with the welcome and having a reasonable place to stay. Thank you very much. I agree will all of these points because they tackle the issue before it gts out of hand. The quicker someone is helped to  prevent hoemlessness the better, this impact on health, physically and mentally. Bad housing trigger my mental health and is not accommodating.\\nAlso having someone that can help is very important. Because I dont fell like staff care abouts me my child and my situation.  Because I am also homeless and these actions will impact too. Yes I agree with the themes because working with people earlier to prevent them from becoming homeless. Provide good quality accommodation or people who are at risk but you should enquire first. Please make sure that people have access to the right support. 1 Because its important to help people\\n2 Ensure happiness of people\\n3 Neutral\\n4 Ensure good service\\n5 Have sympathy All strategies I believe are very important to prevent and reduce homelessness, the only thing do focus on do achieve these goals are do encourage and continuing providing these services in practice Necessary action taken promptly Helping vulnerable people should have the priority in any capacity it is hard to explain how difficult when you become homeless unless you have experience like us. Life isnt smooth sometimes would be up and down. The person who is living as a rich person tomorrow he would be ill. That time he would need home for living. Thats why we are aggree with you. 2 The accommodation itself is good, however i am having problems with the location. I have been given accommodation in an area with a predominantly white community, and so am having trouble with communication and getting around. I agree because ive seen and heard stories about homelessness and how the council works. Because six properties for needs i thinking for best option . i strongly agree because it would make a change. To decrease the chance of homelessness by improving these themes people will be able to get help them lose their homes. i agree because even though not eveyone has a home Tower Hamlets is doing as much as they can. I would not want anyone else to suffer like me and my family, that are homeless. The accommodation provider currently are not of the best quality for example the accommodation we live in is old and we have constant problems such as mould and roof leaking problems. We have been almost 8 years in this current temporary house and we are still waiting for a permanent house. Due to personal experience. For the good things i strongly agree, things i dont know or not sure i think it thanks.\\nNumber two im in 1 bedroom house i have two daughters my wife have health issues i should get good accommodation. The temporary provided for me is clear and safe much appreciated I have been offered support to find more permanent accommodation. I don’t really agree to question 4 because I didn’t get the right support when i was eligible. 1 People will get a boost in money and will be able to sustain themselves so they can avoid the possibilities of becoming homeless. \\n2 People will be able to use that support to not be homeless anymore if good quality accommodation is given to them.\\n3 Genuinely dont understand.\\n5. If rough sleeper are given shelter they wont need to sleep on the streets, they can go to shelter that are built for them.\\n I agree because housing is a right, secondly providing help to families that are going through a bad time and helping the integration of vulnerable people we are all important, i care about the well being of people. 1 I agree with the statement and I think working with people earlier will help to prevent most of them from be homeless.\\n2 Because some councils they just put people in a bad condition house and that would incur the risk for their lives.\\n3 That would help to get advice quickly,\\n4 Because that will let people get the best support service and get better advice.\\n I was made homeless due to domestic abuse. I found it very hard leaving me partner as I didnt know about the support available to me to a single mother fleeing abuse. When I finally had the confidence to leave I was faced with many hurdles and no authority wanted to help me they treated me like a liar wanting to get accommodation and this needs to change. Without above points out contacts with housing will be poor I have been on homeless register since September 2012 waiting to get re-housed with permanent accommodation with my family, unfortunately we are still waiting for 12 years my housing officer and housing options does not give me any clear answer or any indication that further how long do we have to wait get a secure accommodation truly frustrating and depressed. Homelessness is a big issue especially due to the cost of living crisis. We need more effective measures in place to help more who are at risk of being homeless or are already homeless. At the moment customer service is atrocious. You can never get hold of someone via telephone or if you do they’re not very helpful / understanding emails are not responded to until a week or so later. Staff are genuinely rude as they have frequent interaction with individuals facing homelessness. However its crucial to remind them this issue is a real life struggle for those experiencing it and require empathy and understanding in their interactions.'"
            ],
            "application/vnd.google.colaboratory.intrinsic+json": {
              "type": "string"
            }
          },
          "metadata": {},
          "execution_count": 37
        }
      ]
    },
    {
      "cell_type": "code",
      "source": [
        "df"
      ],
      "metadata": {
        "colab": {
          "base_uri": "https://localhost:8080/",
          "height": 331
        },
        "id": "70sgOblcElAC",
        "outputId": "d96df25f-668c-4299-b740-05fec0390865"
      },
      "execution_count": null,
      "outputs": [
        {
          "output_type": "execute_result",
          "data": {
            "text/plain": [
              "                                              review  sentiment  \\\n",
              "1  From my experience, rough sleeping incidents a...          2   \n",
              "2  There are too many homeless people in this are...          2   \n",
              "3  I am concerned about homelessness particularly...          3   \n",
              "4  Having high-quality relevant support services ...          5   \n",
              "5  I think it's terrible that people are sleeping...          2   \n",
              "6  I agree with the themes as I used to volunteer...          4   \n",
              "7  Because homelessness is not a nice position to...          1   \n",
              "8  Bit concerned what you mean by making sure rou...          3   \n",
              "9  I believe helping people at risk/before the be...          3   \n",
              "\n",
              "                                                desc  \n",
              "1  <pad> rough sleeping incidents are not rare an...  \n",
              "2  <pad> there are too many homeless people in th...  \n",
              "3  <pad> homelessness is a much more prevalent pr...  \n",
              "4  <pad> Having high-quality relevant support ser...  \n",
              "5  <pad> there's more homelessness in tower hamle...  \n",
              "6  <pad> whitechapel mission and other charities ...  \n",
              "7  <pad> homelessness is not a nice position to b...  \n",
              "8  <pad> rough sleeping is rare, brief and doesn'...  \n",
              "9  <pad> help people at risk/before the become ho...  "
            ],
            "text/html": [
              "\n",
              "  <div id=\"df-96ea5420-c04b-4988-bf39-645fe79da05e\" class=\"colab-df-container\">\n",
              "    <div>\n",
              "<style scoped>\n",
              "    .dataframe tbody tr th:only-of-type {\n",
              "        vertical-align: middle;\n",
              "    }\n",
              "\n",
              "    .dataframe tbody tr th {\n",
              "        vertical-align: top;\n",
              "    }\n",
              "\n",
              "    .dataframe thead th {\n",
              "        text-align: right;\n",
              "    }\n",
              "</style>\n",
              "<table border=\"1\" class=\"dataframe\">\n",
              "  <thead>\n",
              "    <tr style=\"text-align: right;\">\n",
              "      <th></th>\n",
              "      <th>review</th>\n",
              "      <th>sentiment</th>\n",
              "      <th>desc</th>\n",
              "    </tr>\n",
              "  </thead>\n",
              "  <tbody>\n",
              "    <tr>\n",
              "      <th>1</th>\n",
              "      <td>From my experience, rough sleeping incidents a...</td>\n",
              "      <td>2</td>\n",
              "      <td>&lt;pad&gt; rough sleeping incidents are not rare an...</td>\n",
              "    </tr>\n",
              "    <tr>\n",
              "      <th>2</th>\n",
              "      <td>There are too many homeless people in this are...</td>\n",
              "      <td>2</td>\n",
              "      <td>&lt;pad&gt; there are too many homeless people in th...</td>\n",
              "    </tr>\n",
              "    <tr>\n",
              "      <th>3</th>\n",
              "      <td>I am concerned about homelessness particularly...</td>\n",
              "      <td>3</td>\n",
              "      <td>&lt;pad&gt; homelessness is a much more prevalent pr...</td>\n",
              "    </tr>\n",
              "    <tr>\n",
              "      <th>4</th>\n",
              "      <td>Having high-quality relevant support services ...</td>\n",
              "      <td>5</td>\n",
              "      <td>&lt;pad&gt; Having high-quality relevant support ser...</td>\n",
              "    </tr>\n",
              "    <tr>\n",
              "      <th>5</th>\n",
              "      <td>I think it's terrible that people are sleeping...</td>\n",
              "      <td>2</td>\n",
              "      <td>&lt;pad&gt; there's more homelessness in tower hamle...</td>\n",
              "    </tr>\n",
              "    <tr>\n",
              "      <th>6</th>\n",
              "      <td>I agree with the themes as I used to volunteer...</td>\n",
              "      <td>4</td>\n",
              "      <td>&lt;pad&gt; whitechapel mission and other charities ...</td>\n",
              "    </tr>\n",
              "    <tr>\n",
              "      <th>7</th>\n",
              "      <td>Because homelessness is not a nice position to...</td>\n",
              "      <td>1</td>\n",
              "      <td>&lt;pad&gt; homelessness is not a nice position to b...</td>\n",
              "    </tr>\n",
              "    <tr>\n",
              "      <th>8</th>\n",
              "      <td>Bit concerned what you mean by making sure rou...</td>\n",
              "      <td>3</td>\n",
              "      <td>&lt;pad&gt; rough sleeping is rare, brief and doesn'...</td>\n",
              "    </tr>\n",
              "    <tr>\n",
              "      <th>9</th>\n",
              "      <td>I believe helping people at risk/before the be...</td>\n",
              "      <td>3</td>\n",
              "      <td>&lt;pad&gt; help people at risk/before the become ho...</td>\n",
              "    </tr>\n",
              "  </tbody>\n",
              "</table>\n",
              "</div>\n",
              "    <div class=\"colab-df-buttons\">\n",
              "\n",
              "  <div class=\"colab-df-container\">\n",
              "    <button class=\"colab-df-convert\" onclick=\"convertToInteractive('df-96ea5420-c04b-4988-bf39-645fe79da05e')\"\n",
              "            title=\"Convert this dataframe to an interactive table.\"\n",
              "            style=\"display:none;\">\n",
              "\n",
              "  <svg xmlns=\"http://www.w3.org/2000/svg\" height=\"24px\" viewBox=\"0 -960 960 960\">\n",
              "    <path d=\"M120-120v-720h720v720H120Zm60-500h600v-160H180v160Zm220 220h160v-160H400v160Zm0 220h160v-160H400v160ZM180-400h160v-160H180v160Zm440 0h160v-160H620v160ZM180-180h160v-160H180v160Zm440 0h160v-160H620v160Z\"/>\n",
              "  </svg>\n",
              "    </button>\n",
              "\n",
              "  <style>\n",
              "    .colab-df-container {\n",
              "      display:flex;\n",
              "      gap: 12px;\n",
              "    }\n",
              "\n",
              "    .colab-df-convert {\n",
              "      background-color: #E8F0FE;\n",
              "      border: none;\n",
              "      border-radius: 50%;\n",
              "      cursor: pointer;\n",
              "      display: none;\n",
              "      fill: #1967D2;\n",
              "      height: 32px;\n",
              "      padding: 0 0 0 0;\n",
              "      width: 32px;\n",
              "    }\n",
              "\n",
              "    .colab-df-convert:hover {\n",
              "      background-color: #E2EBFA;\n",
              "      box-shadow: 0px 1px 2px rgba(60, 64, 67, 0.3), 0px 1px 3px 1px rgba(60, 64, 67, 0.15);\n",
              "      fill: #174EA6;\n",
              "    }\n",
              "\n",
              "    .colab-df-buttons div {\n",
              "      margin-bottom: 4px;\n",
              "    }\n",
              "\n",
              "    [theme=dark] .colab-df-convert {\n",
              "      background-color: #3B4455;\n",
              "      fill: #D2E3FC;\n",
              "    }\n",
              "\n",
              "    [theme=dark] .colab-df-convert:hover {\n",
              "      background-color: #434B5C;\n",
              "      box-shadow: 0px 1px 3px 1px rgba(0, 0, 0, 0.15);\n",
              "      filter: drop-shadow(0px 1px 2px rgba(0, 0, 0, 0.3));\n",
              "      fill: #FFFFFF;\n",
              "    }\n",
              "  </style>\n",
              "\n",
              "    <script>\n",
              "      const buttonEl =\n",
              "        document.querySelector('#df-96ea5420-c04b-4988-bf39-645fe79da05e button.colab-df-convert');\n",
              "      buttonEl.style.display =\n",
              "        google.colab.kernel.accessAllowed ? 'block' : 'none';\n",
              "\n",
              "      async function convertToInteractive(key) {\n",
              "        const element = document.querySelector('#df-96ea5420-c04b-4988-bf39-645fe79da05e');\n",
              "        const dataTable =\n",
              "          await google.colab.kernel.invokeFunction('convertToInteractive',\n",
              "                                                    [key], {});\n",
              "        if (!dataTable) return;\n",
              "\n",
              "        const docLinkHtml = 'Like what you see? Visit the ' +\n",
              "          '<a target=\"_blank\" href=https://colab.research.google.com/notebooks/data_table.ipynb>data table notebook</a>'\n",
              "          + ' to learn more about interactive tables.';\n",
              "        element.innerHTML = '';\n",
              "        dataTable['output_type'] = 'display_data';\n",
              "        await google.colab.output.renderOutput(dataTable, element);\n",
              "        const docLink = document.createElement('div');\n",
              "        docLink.innerHTML = docLinkHtml;\n",
              "        element.appendChild(docLink);\n",
              "      }\n",
              "    </script>\n",
              "  </div>\n",
              "\n",
              "\n",
              "<div id=\"df-4d6b353e-160a-41b0-a70e-2757851bcf38\">\n",
              "  <button class=\"colab-df-quickchart\" onclick=\"quickchart('df-4d6b353e-160a-41b0-a70e-2757851bcf38')\"\n",
              "            title=\"Suggest charts\"\n",
              "            style=\"display:none;\">\n",
              "\n",
              "<svg xmlns=\"http://www.w3.org/2000/svg\" height=\"24px\"viewBox=\"0 0 24 24\"\n",
              "     width=\"24px\">\n",
              "    <g>\n",
              "        <path d=\"M19 3H5c-1.1 0-2 .9-2 2v14c0 1.1.9 2 2 2h14c1.1 0 2-.9 2-2V5c0-1.1-.9-2-2-2zM9 17H7v-7h2v7zm4 0h-2V7h2v10zm4 0h-2v-4h2v4z\"/>\n",
              "    </g>\n",
              "</svg>\n",
              "  </button>\n",
              "\n",
              "<style>\n",
              "  .colab-df-quickchart {\n",
              "      --bg-color: #E8F0FE;\n",
              "      --fill-color: #1967D2;\n",
              "      --hover-bg-color: #E2EBFA;\n",
              "      --hover-fill-color: #174EA6;\n",
              "      --disabled-fill-color: #AAA;\n",
              "      --disabled-bg-color: #DDD;\n",
              "  }\n",
              "\n",
              "  [theme=dark] .colab-df-quickchart {\n",
              "      --bg-color: #3B4455;\n",
              "      --fill-color: #D2E3FC;\n",
              "      --hover-bg-color: #434B5C;\n",
              "      --hover-fill-color: #FFFFFF;\n",
              "      --disabled-bg-color: #3B4455;\n",
              "      --disabled-fill-color: #666;\n",
              "  }\n",
              "\n",
              "  .colab-df-quickchart {\n",
              "    background-color: var(--bg-color);\n",
              "    border: none;\n",
              "    border-radius: 50%;\n",
              "    cursor: pointer;\n",
              "    display: none;\n",
              "    fill: var(--fill-color);\n",
              "    height: 32px;\n",
              "    padding: 0;\n",
              "    width: 32px;\n",
              "  }\n",
              "\n",
              "  .colab-df-quickchart:hover {\n",
              "    background-color: var(--hover-bg-color);\n",
              "    box-shadow: 0 1px 2px rgba(60, 64, 67, 0.3), 0 1px 3px 1px rgba(60, 64, 67, 0.15);\n",
              "    fill: var(--button-hover-fill-color);\n",
              "  }\n",
              "\n",
              "  .colab-df-quickchart-complete:disabled,\n",
              "  .colab-df-quickchart-complete:disabled:hover {\n",
              "    background-color: var(--disabled-bg-color);\n",
              "    fill: var(--disabled-fill-color);\n",
              "    box-shadow: none;\n",
              "  }\n",
              "\n",
              "  .colab-df-spinner {\n",
              "    border: 2px solid var(--fill-color);\n",
              "    border-color: transparent;\n",
              "    border-bottom-color: var(--fill-color);\n",
              "    animation:\n",
              "      spin 1s steps(1) infinite;\n",
              "  }\n",
              "\n",
              "  @keyframes spin {\n",
              "    0% {\n",
              "      border-color: transparent;\n",
              "      border-bottom-color: var(--fill-color);\n",
              "      border-left-color: var(--fill-color);\n",
              "    }\n",
              "    20% {\n",
              "      border-color: transparent;\n",
              "      border-left-color: var(--fill-color);\n",
              "      border-top-color: var(--fill-color);\n",
              "    }\n",
              "    30% {\n",
              "      border-color: transparent;\n",
              "      border-left-color: var(--fill-color);\n",
              "      border-top-color: var(--fill-color);\n",
              "      border-right-color: var(--fill-color);\n",
              "    }\n",
              "    40% {\n",
              "      border-color: transparent;\n",
              "      border-right-color: var(--fill-color);\n",
              "      border-top-color: var(--fill-color);\n",
              "    }\n",
              "    60% {\n",
              "      border-color: transparent;\n",
              "      border-right-color: var(--fill-color);\n",
              "    }\n",
              "    80% {\n",
              "      border-color: transparent;\n",
              "      border-right-color: var(--fill-color);\n",
              "      border-bottom-color: var(--fill-color);\n",
              "    }\n",
              "    90% {\n",
              "      border-color: transparent;\n",
              "      border-bottom-color: var(--fill-color);\n",
              "    }\n",
              "  }\n",
              "</style>\n",
              "\n",
              "  <script>\n",
              "    async function quickchart(key) {\n",
              "      const quickchartButtonEl =\n",
              "        document.querySelector('#' + key + ' button');\n",
              "      quickchartButtonEl.disabled = true;  // To prevent multiple clicks.\n",
              "      quickchartButtonEl.classList.add('colab-df-spinner');\n",
              "      try {\n",
              "        const charts = await google.colab.kernel.invokeFunction(\n",
              "            'suggestCharts', [key], {});\n",
              "      } catch (error) {\n",
              "        console.error('Error during call to suggestCharts:', error);\n",
              "      }\n",
              "      quickchartButtonEl.classList.remove('colab-df-spinner');\n",
              "      quickchartButtonEl.classList.add('colab-df-quickchart-complete');\n",
              "    }\n",
              "    (() => {\n",
              "      let quickchartButtonEl =\n",
              "        document.querySelector('#df-4d6b353e-160a-41b0-a70e-2757851bcf38 button');\n",
              "      quickchartButtonEl.style.display =\n",
              "        google.colab.kernel.accessAllowed ? 'block' : 'none';\n",
              "    })();\n",
              "  </script>\n",
              "</div>\n",
              "    </div>\n",
              "  </div>\n"
            ],
            "application/vnd.google.colaboratory.intrinsic+json": {
              "type": "dataframe",
              "variable_name": "df",
              "summary": "{\n  \"name\": \"df\",\n  \"rows\": 9,\n  \"fields\": [\n    {\n      \"column\": \"review\",\n      \"properties\": {\n        \"dtype\": \"string\",\n        \"num_unique_values\": 9,\n        \"samples\": [\n          \"Bit concerned what you mean by making sure rough sleeping where it does occur, is rare, brief and doesn't happen again.  Don't want individual homeless people punished in anyway. If you don't have suitable accommodation available for them, they might have to sleep rough more than once.\\nWhat will happen to rough sleepers who are not British Nationals?\",\n          \"There are too many homeless people in this area. There is insufficient housing all round as we know so it all needs to improve. I don\\u2019t think the sign posting as to what individuals can do to help street sleepers is good enough.\",\n          \"I agree with the themes as I used to volunteer for Crisis and help with church meals for the homeless. I no longer donate my time but try to support Whitechapel Mission and other charities that help with homelessness.\"\n        ],\n        \"semantic_type\": \"\",\n        \"description\": \"\"\n      }\n    },\n    {\n      \"column\": \"sentiment\",\n      \"properties\": {\n        \"dtype\": \"number\",\n        \"std\": 1,\n        \"min\": 1,\n        \"max\": 5,\n        \"num_unique_values\": 5,\n        \"samples\": [\n          3,\n          1,\n          5\n        ],\n        \"semantic_type\": \"\",\n        \"description\": \"\"\n      }\n    },\n    {\n      \"column\": \"desc\",\n      \"properties\": {\n        \"dtype\": \"string\",\n        \"num_unique_values\": 9,\n        \"samples\": [\n          \"<pad> rough sleeping is rare, brief and doesn't happen again. don't want individual homeless people punished in anyway. if you don't have suitable accommodation available for them, they might have to sleep rough more than once. if you don't have suitable accommodation available for them, they might have to sleep rough more than once. if you don't have suitable accommodation available for them, they might have to sleep rough more than once.</s>\",\n          \"<pad> there are too many homeless people in this area. there is insufficient housing all round as we know so it all needs to improve. i don\\u2019t think the sign posting as individuals can help street sleepers is good enough. i don\\u2019t think the sign posting as individuals can do to help street sleepers is good enough. i don\\u2019t think the sign posting as individuals can do to help street sleepers is good enough.</s>\",\n          \"<pad> whitechapel mission and other charities that help with homelessness. i no longer donate my time but try to support whitechapel mission and other charities that help with homelessness. i used to volunteer for Crisis and help with church meals for the homeless. i no longer donate my time but try to support whitechapel mission and other charities that help with homelessness.</s>\"\n        ],\n        \"semantic_type\": \"\",\n        \"description\": \"\"\n      }\n    }\n  ]\n}"
            }
          },
          "metadata": {},
          "execution_count": 39
        }
      ]
    },
    {
      "cell_type": "code",
      "source": [
        "df"
      ],
      "metadata": {
        "colab": {
          "base_uri": "https://localhost:8080/",
          "height": 423
        },
        "id": "yjuwU0hSFUjD",
        "outputId": "99c1b846-8a75-4f84-e688-06f6d6112202"
      },
      "execution_count": null,
      "outputs": [
        {
          "output_type": "execute_result",
          "data": {
            "text/plain": [
              "                                                review  \\\n",
              "0    I agree with all of the themes, especially the...   \n",
              "1    From my experience, rough sleeping incidents a...   \n",
              "2    There are too many homeless people in this are...   \n",
              "3    I am concerned about homelessness particularly...   \n",
              "4    Having high-quality relevant support services ...   \n",
              "..                                                 ...   \n",
              "354  1 I agree with the statement and I think worki...   \n",
              "355  I was made homeless due to domestic abuse. I f...   \n",
              "356  Without above points out contacts with housing...   \n",
              "357  I have been on homeless register since Septemb...   \n",
              "358  Homelessness is a big issue especially due to ...   \n",
              "\n",
              "                                                  desc  \n",
              "0    <pad> a lot of people that are visibly homeles...  \n",
              "1    <pad> rough sleeping incidents are not rare an...  \n",
              "2    <pad> there are too many homeless people in th...  \n",
              "3    <pad> homelessness is a much more prevalent pr...  \n",
              "4    <pad> Having high-quality relevant support ser...  \n",
              "..                                                 ...  \n",
              "354  <pad> some councils just put people in a bad c...  \n",
              "355  <pad> single mother was made homeless due to d...  \n",
              "356  <pad> without above points out contacts with h...  \n",
              "357  <pad> i have been on homeless register since S...  \n",
              "358  <pad> customer service at the moment is atroci...  \n",
              "\n",
              "[227 rows x 2 columns]"
            ],
            "text/html": [
              "\n",
              "  <div id=\"df-7a333173-b6e0-4e0c-bdc9-9fa17b851925\" class=\"colab-df-container\">\n",
              "    <div>\n",
              "<style scoped>\n",
              "    .dataframe tbody tr th:only-of-type {\n",
              "        vertical-align: middle;\n",
              "    }\n",
              "\n",
              "    .dataframe tbody tr th {\n",
              "        vertical-align: top;\n",
              "    }\n",
              "\n",
              "    .dataframe thead th {\n",
              "        text-align: right;\n",
              "    }\n",
              "</style>\n",
              "<table border=\"1\" class=\"dataframe\">\n",
              "  <thead>\n",
              "    <tr style=\"text-align: right;\">\n",
              "      <th></th>\n",
              "      <th>review</th>\n",
              "      <th>desc</th>\n",
              "    </tr>\n",
              "  </thead>\n",
              "  <tbody>\n",
              "    <tr>\n",
              "      <th>0</th>\n",
              "      <td>I agree with all of the themes, especially the...</td>\n",
              "      <td>&lt;pad&gt; a lot of people that are visibly homeles...</td>\n",
              "    </tr>\n",
              "    <tr>\n",
              "      <th>1</th>\n",
              "      <td>From my experience, rough sleeping incidents a...</td>\n",
              "      <td>&lt;pad&gt; rough sleeping incidents are not rare an...</td>\n",
              "    </tr>\n",
              "    <tr>\n",
              "      <th>2</th>\n",
              "      <td>There are too many homeless people in this are...</td>\n",
              "      <td>&lt;pad&gt; there are too many homeless people in th...</td>\n",
              "    </tr>\n",
              "    <tr>\n",
              "      <th>3</th>\n",
              "      <td>I am concerned about homelessness particularly...</td>\n",
              "      <td>&lt;pad&gt; homelessness is a much more prevalent pr...</td>\n",
              "    </tr>\n",
              "    <tr>\n",
              "      <th>4</th>\n",
              "      <td>Having high-quality relevant support services ...</td>\n",
              "      <td>&lt;pad&gt; Having high-quality relevant support ser...</td>\n",
              "    </tr>\n",
              "    <tr>\n",
              "      <th>...</th>\n",
              "      <td>...</td>\n",
              "      <td>...</td>\n",
              "    </tr>\n",
              "    <tr>\n",
              "      <th>354</th>\n",
              "      <td>1 I agree with the statement and I think worki...</td>\n",
              "      <td>&lt;pad&gt; some councils just put people in a bad c...</td>\n",
              "    </tr>\n",
              "    <tr>\n",
              "      <th>355</th>\n",
              "      <td>I was made homeless due to domestic abuse. I f...</td>\n",
              "      <td>&lt;pad&gt; single mother was made homeless due to d...</td>\n",
              "    </tr>\n",
              "    <tr>\n",
              "      <th>356</th>\n",
              "      <td>Without above points out contacts with housing...</td>\n",
              "      <td>&lt;pad&gt; without above points out contacts with h...</td>\n",
              "    </tr>\n",
              "    <tr>\n",
              "      <th>357</th>\n",
              "      <td>I have been on homeless register since Septemb...</td>\n",
              "      <td>&lt;pad&gt; i have been on homeless register since S...</td>\n",
              "    </tr>\n",
              "    <tr>\n",
              "      <th>358</th>\n",
              "      <td>Homelessness is a big issue especially due to ...</td>\n",
              "      <td>&lt;pad&gt; customer service at the moment is atroci...</td>\n",
              "    </tr>\n",
              "  </tbody>\n",
              "</table>\n",
              "<p>227 rows × 2 columns</p>\n",
              "</div>\n",
              "    <div class=\"colab-df-buttons\">\n",
              "\n",
              "  <div class=\"colab-df-container\">\n",
              "    <button class=\"colab-df-convert\" onclick=\"convertToInteractive('df-7a333173-b6e0-4e0c-bdc9-9fa17b851925')\"\n",
              "            title=\"Convert this dataframe to an interactive table.\"\n",
              "            style=\"display:none;\">\n",
              "\n",
              "  <svg xmlns=\"http://www.w3.org/2000/svg\" height=\"24px\" viewBox=\"0 -960 960 960\">\n",
              "    <path d=\"M120-120v-720h720v720H120Zm60-500h600v-160H180v160Zm220 220h160v-160H400v160Zm0 220h160v-160H400v160ZM180-400h160v-160H180v160Zm440 0h160v-160H620v160ZM180-180h160v-160H180v160Zm440 0h160v-160H620v160Z\"/>\n",
              "  </svg>\n",
              "    </button>\n",
              "\n",
              "  <style>\n",
              "    .colab-df-container {\n",
              "      display:flex;\n",
              "      gap: 12px;\n",
              "    }\n",
              "\n",
              "    .colab-df-convert {\n",
              "      background-color: #E8F0FE;\n",
              "      border: none;\n",
              "      border-radius: 50%;\n",
              "      cursor: pointer;\n",
              "      display: none;\n",
              "      fill: #1967D2;\n",
              "      height: 32px;\n",
              "      padding: 0 0 0 0;\n",
              "      width: 32px;\n",
              "    }\n",
              "\n",
              "    .colab-df-convert:hover {\n",
              "      background-color: #E2EBFA;\n",
              "      box-shadow: 0px 1px 2px rgba(60, 64, 67, 0.3), 0px 1px 3px 1px rgba(60, 64, 67, 0.15);\n",
              "      fill: #174EA6;\n",
              "    }\n",
              "\n",
              "    .colab-df-buttons div {\n",
              "      margin-bottom: 4px;\n",
              "    }\n",
              "\n",
              "    [theme=dark] .colab-df-convert {\n",
              "      background-color: #3B4455;\n",
              "      fill: #D2E3FC;\n",
              "    }\n",
              "\n",
              "    [theme=dark] .colab-df-convert:hover {\n",
              "      background-color: #434B5C;\n",
              "      box-shadow: 0px 1px 3px 1px rgba(0, 0, 0, 0.15);\n",
              "      filter: drop-shadow(0px 1px 2px rgba(0, 0, 0, 0.3));\n",
              "      fill: #FFFFFF;\n",
              "    }\n",
              "  </style>\n",
              "\n",
              "    <script>\n",
              "      const buttonEl =\n",
              "        document.querySelector('#df-7a333173-b6e0-4e0c-bdc9-9fa17b851925 button.colab-df-convert');\n",
              "      buttonEl.style.display =\n",
              "        google.colab.kernel.accessAllowed ? 'block' : 'none';\n",
              "\n",
              "      async function convertToInteractive(key) {\n",
              "        const element = document.querySelector('#df-7a333173-b6e0-4e0c-bdc9-9fa17b851925');\n",
              "        const dataTable =\n",
              "          await google.colab.kernel.invokeFunction('convertToInteractive',\n",
              "                                                    [key], {});\n",
              "        if (!dataTable) return;\n",
              "\n",
              "        const docLinkHtml = 'Like what you see? Visit the ' +\n",
              "          '<a target=\"_blank\" href=https://colab.research.google.com/notebooks/data_table.ipynb>data table notebook</a>'\n",
              "          + ' to learn more about interactive tables.';\n",
              "        element.innerHTML = '';\n",
              "        dataTable['output_type'] = 'display_data';\n",
              "        await google.colab.output.renderOutput(dataTable, element);\n",
              "        const docLink = document.createElement('div');\n",
              "        docLink.innerHTML = docLinkHtml;\n",
              "        element.appendChild(docLink);\n",
              "      }\n",
              "    </script>\n",
              "  </div>\n",
              "\n",
              "\n",
              "<div id=\"df-fb9e3596-a202-4b75-a6e9-4045d6621e12\">\n",
              "  <button class=\"colab-df-quickchart\" onclick=\"quickchart('df-fb9e3596-a202-4b75-a6e9-4045d6621e12')\"\n",
              "            title=\"Suggest charts\"\n",
              "            style=\"display:none;\">\n",
              "\n",
              "<svg xmlns=\"http://www.w3.org/2000/svg\" height=\"24px\"viewBox=\"0 0 24 24\"\n",
              "     width=\"24px\">\n",
              "    <g>\n",
              "        <path d=\"M19 3H5c-1.1 0-2 .9-2 2v14c0 1.1.9 2 2 2h14c1.1 0 2-.9 2-2V5c0-1.1-.9-2-2-2zM9 17H7v-7h2v7zm4 0h-2V7h2v10zm4 0h-2v-4h2v4z\"/>\n",
              "    </g>\n",
              "</svg>\n",
              "  </button>\n",
              "\n",
              "<style>\n",
              "  .colab-df-quickchart {\n",
              "      --bg-color: #E8F0FE;\n",
              "      --fill-color: #1967D2;\n",
              "      --hover-bg-color: #E2EBFA;\n",
              "      --hover-fill-color: #174EA6;\n",
              "      --disabled-fill-color: #AAA;\n",
              "      --disabled-bg-color: #DDD;\n",
              "  }\n",
              "\n",
              "  [theme=dark] .colab-df-quickchart {\n",
              "      --bg-color: #3B4455;\n",
              "      --fill-color: #D2E3FC;\n",
              "      --hover-bg-color: #434B5C;\n",
              "      --hover-fill-color: #FFFFFF;\n",
              "      --disabled-bg-color: #3B4455;\n",
              "      --disabled-fill-color: #666;\n",
              "  }\n",
              "\n",
              "  .colab-df-quickchart {\n",
              "    background-color: var(--bg-color);\n",
              "    border: none;\n",
              "    border-radius: 50%;\n",
              "    cursor: pointer;\n",
              "    display: none;\n",
              "    fill: var(--fill-color);\n",
              "    height: 32px;\n",
              "    padding: 0;\n",
              "    width: 32px;\n",
              "  }\n",
              "\n",
              "  .colab-df-quickchart:hover {\n",
              "    background-color: var(--hover-bg-color);\n",
              "    box-shadow: 0 1px 2px rgba(60, 64, 67, 0.3), 0 1px 3px 1px rgba(60, 64, 67, 0.15);\n",
              "    fill: var(--button-hover-fill-color);\n",
              "  }\n",
              "\n",
              "  .colab-df-quickchart-complete:disabled,\n",
              "  .colab-df-quickchart-complete:disabled:hover {\n",
              "    background-color: var(--disabled-bg-color);\n",
              "    fill: var(--disabled-fill-color);\n",
              "    box-shadow: none;\n",
              "  }\n",
              "\n",
              "  .colab-df-spinner {\n",
              "    border: 2px solid var(--fill-color);\n",
              "    border-color: transparent;\n",
              "    border-bottom-color: var(--fill-color);\n",
              "    animation:\n",
              "      spin 1s steps(1) infinite;\n",
              "  }\n",
              "\n",
              "  @keyframes spin {\n",
              "    0% {\n",
              "      border-color: transparent;\n",
              "      border-bottom-color: var(--fill-color);\n",
              "      border-left-color: var(--fill-color);\n",
              "    }\n",
              "    20% {\n",
              "      border-color: transparent;\n",
              "      border-left-color: var(--fill-color);\n",
              "      border-top-color: var(--fill-color);\n",
              "    }\n",
              "    30% {\n",
              "      border-color: transparent;\n",
              "      border-left-color: var(--fill-color);\n",
              "      border-top-color: var(--fill-color);\n",
              "      border-right-color: var(--fill-color);\n",
              "    }\n",
              "    40% {\n",
              "      border-color: transparent;\n",
              "      border-right-color: var(--fill-color);\n",
              "      border-top-color: var(--fill-color);\n",
              "    }\n",
              "    60% {\n",
              "      border-color: transparent;\n",
              "      border-right-color: var(--fill-color);\n",
              "    }\n",
              "    80% {\n",
              "      border-color: transparent;\n",
              "      border-right-color: var(--fill-color);\n",
              "      border-bottom-color: var(--fill-color);\n",
              "    }\n",
              "    90% {\n",
              "      border-color: transparent;\n",
              "      border-bottom-color: var(--fill-color);\n",
              "    }\n",
              "  }\n",
              "</style>\n",
              "\n",
              "  <script>\n",
              "    async function quickchart(key) {\n",
              "      const quickchartButtonEl =\n",
              "        document.querySelector('#' + key + ' button');\n",
              "      quickchartButtonEl.disabled = true;  // To prevent multiple clicks.\n",
              "      quickchartButtonEl.classList.add('colab-df-spinner');\n",
              "      try {\n",
              "        const charts = await google.colab.kernel.invokeFunction(\n",
              "            'suggestCharts', [key], {});\n",
              "      } catch (error) {\n",
              "        console.error('Error during call to suggestCharts:', error);\n",
              "      }\n",
              "      quickchartButtonEl.classList.remove('colab-df-spinner');\n",
              "      quickchartButtonEl.classList.add('colab-df-quickchart-complete');\n",
              "    }\n",
              "    (() => {\n",
              "      let quickchartButtonEl =\n",
              "        document.querySelector('#df-fb9e3596-a202-4b75-a6e9-4045d6621e12 button');\n",
              "      quickchartButtonEl.style.display =\n",
              "        google.colab.kernel.accessAllowed ? 'block' : 'none';\n",
              "    })();\n",
              "  </script>\n",
              "</div>\n",
              "    </div>\n",
              "  </div>\n"
            ],
            "application/vnd.google.colaboratory.intrinsic+json": {
              "type": "dataframe",
              "variable_name": "df",
              "summary": "{\n  \"name\": \"df\",\n  \"rows\": 227,\n  \"fields\": [\n    {\n      \"column\": \"review\",\n      \"properties\": {\n        \"dtype\": \"string\",\n        \"num_unique_values\": 227,\n        \"samples\": [\n          \"I believe helping people at risk/before the become homeless is the least intrusive option for the person at risk. I'm expect this would also be better option for staff too, who must find it challenging. \",\n          \"Agree because protect people & their well being matters\",\n          \"It sounds like a good, compassionate strategy to reduce rough sleeping and help achieve better outcomes.\"\n        ],\n        \"semantic_type\": \"\",\n        \"description\": \"\"\n      }\n    },\n    {\n      \"column\": \"desc\",\n      \"properties\": {\n        \"dtype\": \"string\",\n        \"num_unique_values\": 227,\n        \"samples\": [\n          \"<pad> help people at risk/before the become homeless is the least intrusive option. i'm expect this would also be better option for staff too, who must find it challenging. i'm expecting this would also be better option for staff too. i'm expecting this would also be better option for staff too, who must find it challenging. i'm expecting this would also be better option for staff too, who must find it challenging.</s>\",\n          \"<pad> Agree because protect people & their well being matters. agree because protect people & their well being matters. Agree because protect people & their well being matters. Agree because protect people & their well being matters. Agree because protect people & their well being matters. Agree because protect people & their well being matters. Agree because protect people & their well being matters. Agree because protect people & their well being matters & their well being</s>\",\n          \"<pad> it sounds like a good, compassionate strategy to reduce rough sleeping. it also helps achieve better outcomes. if you have a rough night's sleep, you may be able to reduce the amount of rough sleeping. if you have a rough night's sleep, you may be able to reduce the amount of rough sleeping. if you have a rough night's sleep, you may be able to reduce the amount of rough sleeping.</s>\"\n        ],\n        \"semantic_type\": \"\",\n        \"description\": \"\"\n      }\n    }\n  ]\n}"
            }
          },
          "metadata": {},
          "execution_count": 46
        }
      ]
    },
    {
      "cell_type": "code",
      "source": [
        " df.to_csv('file.csv')"
      ],
      "metadata": {
        "id": "vb-yl2eqRbKT"
      },
      "execution_count": null,
      "outputs": []
    },
    {
      "cell_type": "code",
      "source": [
        "all_text=df[\"desc\"].str.cat(sep = ' ')"
      ],
      "metadata": {
        "id": "XI7xCiN-Tkle"
      },
      "execution_count": null,
      "outputs": []
    },
    {
      "cell_type": "code",
      "source": [
        "all_text"
      ],
      "metadata": {
        "colab": {
          "base_uri": "https://localhost:8080/",
          "height": 139
        },
        "id": "_AI5QszWVHDy",
        "outputId": "8badaf73-d16c-4c91-bb20-59ea24d44636"
      },
      "execution_count": null,
      "outputs": [
        {
          "output_type": "execute_result",
          "data": {
            "text/plain": [
              "'<pad> a lot of people that are visibly homeless on the streets also suffer from drug addiction. a lot of these people that are visibly homeless on the streets also suffer from alcoholism. a lot of these people that are visibly homeless on the streets also suffer from drug addiction. a lot of these people that are visibly homeless on the streets also suffer from alcoholism, says a spokesman.</s> <pad> rough sleeping incidents are not rare and it is a long cycle to break. unable to take pets or not able to be housed at the same location as partners. rough sleepers also not wanting to take accommodation, i.e. unable to take pets. a rough sleeper\\'s partner may not be able to be housed at the same location as their partner, i.e. unable to be housed at the same location as their partner.</s> <pad> there are too many homeless people in this area. there is insufficient housing all round as we know so it all needs to improve. i don’t think the sign posting as individuals can help street sleepers is good enough. i don’t think the sign posting as individuals can do to help street sleepers is good enough. i don’t think the sign posting as individuals can do to help street sleepers is good enough.</s> <pad> homelessness is a much more prevalent problem than people sleeping rough and begging. john sutter: i am also concerned about the latter. sutter: i am concerned about people who are visibly sleeping rough and begging. he says it is a much more prevalent problem than people who are visibly sleeping rough and begging. sutter: i am concerned about people who are visibly sleeping rough and begging, but not those who are living in temporary accommodation.</s> <pad> Having high-quality relevant support services is vital. Having high-quality relevant support services is vital. Having high-quality relevant support services is vital. Having high-quality relevant support services is vital. Having high-quality relevant support services is vital.. Having high-quality relevant support services is vital.. Having high-quality relevant support services is vital.. Having high-quality relevant support services is vital.. Having high-quality relevant support services is</s> <pad> there\\'s more homelessness in tower hamlets than before. people are sleeping rough, and there\\'s more homelessness in tower hamlets than before. sally kohn: i think it\\'s terrible that people are sleeping rough. kohn: i think it\\'s worse that people are sleeping rough, and that there\\'s more homelessness.</s> <pad> whitechapel mission and other charities that help with homelessness. i no longer donate my time but try to support whitechapel mission and other charities that help with homelessness. i used to volunteer for Crisis and help with church meals for the homeless. i no longer donate my time but try to support whitechapel mission and other charities that help with homelessness.</s> <pad> homelessness is not a nice position to be in nobody cares if you\\'re homeless. because homelessness is not a nice position to be in nobody cares if you\\'re homeless. because homelessness is not a nice position to be in nobody cares if you\\'re homeless. because homelessness is not a nice position to be in nobody cares if you\\'re homeless. because homelessness is not a nice position to be in nobody cares if you\\'re homeless </s> <pad> rough sleeping is rare, brief and doesn\\'t happen again. don\\'t want individual homeless people punished in anyway. if you don\\'t have suitable accommodation available for them, they might have to sleep rough more than once. if you don\\'t have suitable accommodation available for them, they might have to sleep rough more than once. if you don\\'t have suitable accommodation available for them, they might have to sleep rough more than once.</s> <pad> help people at risk/before the become homeless is the least intrusive option. i\\'m expect this would also be better option for staff too, who must find it challenging. i\\'m expecting this would also be better option for staff too. i\\'m expecting this would also be better option for staff too, who must find it challenging. i\\'m expecting this would also be better option for staff too, who must find it challenging.</s> <pad> i think homelessness is more likely related to unmet social and health needs that could be addressed more directly to prevent and reduce homelessness. i really feel the council needs to push to reclaim / buy back social housing in the area - particularly from larger landlords. i think the council needs to push to reclaim / buy back social housing in the area - particularly from larger landlords.</s> <pad> it is only the council- people can turn into as a last resort. it is only the council- people can turn into as a last resort. the councils’ responsibility to act because our neighbours and relatives are busy with themselves. it is only the council- people can turn into as a last resort. a council- people can turn into as a last resort if they are homeless.</s> <pad> early intervention is critical to preventing homelessness. early intervention is critical to reducing the number of homeless people. sanjay gupta: early intervention is critical to reducing the number of homeless. gupta: early intervention is critical to reducing the number of homeless people. gupta: early intervention is critical to reducing the number of homeless people.</s> <pad> accommodation should be built to discourage anti-social behavior. people should be able to work together and have a positive attitude towards others. if people fall into homelessness, they should be able to stay in their homes for a few days. if people fall into homelessness, they should be able to stay in their homes for a few days. if people fall into homelessness, they should be able to work together and have a positive attitude towards others.</s> <pad> we have a serious problem of rough sleepers in Tower Hamlets. more resources should be allocated to hire more social workers. we should also offer more temporary accommodation and help people hey back on track through counselling and other means. more resources should be allocated to hire more social workers, offer more temporary accommodation and help people hey back on track through counselling and other means.</s> <pad> it sounds like a good, compassionate strategy to reduce rough sleeping. it also helps achieve better outcomes. if you have a rough night\\'s sleep, you may be able to reduce the amount of rough sleeping. if you have a rough night\\'s sleep, you may be able to reduce the amount of rough sleeping. if you have a rough night\\'s sleep, you may be able to reduce the amount of rough sleeping.</s> <pad> all seem to be aimed at being preventative or at least reduce the time people spend homeless. i completely agree that staff also need to be supported in dealing with homelessness. i completely agree that staff also need to be supported in dealing with homelessness. i completely agree that staff also need to be supported in dealing with homelessness. i completely agree that staff also need to be supported in dealing with homelessness.</s> <pad> there is a big shortage of housing including good quality housing. staff who have to deal with people\\'s frustrations/anger must have an impact. there is a big shortage of housing including good quality housing. the borough council has a\\'responsible\\' policy to ensure housing is provided for all. a\\'responsible\\' policy will be in place by the end of the year to ensure housing is provided for all.</s> <pad> the Everyone In scheme during Covid proved that homelessness doesn\\'t have to exist in a developed country. the scheme was a success and helped solve the problem of homelessness in the uk. the scheme was a success and has been a huge success. the scheme has been a success and has helped reduce homelessness in the uk and the u.s.. the scheme has also helped reduce the number of homeless people in the uk - a problem that doesn\\'t have to exist in</s> <pad> All of these sound sensible. a lot of them are a little too snarky. a lot of them aren\\'t a big deal. a lot of them aren\\'t a big deal. a lot of them aren\\'t a big deal. a lot of them aren\\'t a big deal. a lot of them aren\\'t a big deal. a lot of them aren\\'t a big deal </s> <pad> all positive sentiments. why wouldn’t i strongly agree with them? i’m a big believer in the value of a good ole’ ole’ ole’ ole’ ole’ ole’ ole’ ole’ ole’ ole’ ole’ ole’ ole’ ole’ ole’ ole’ ole’ ole’ ole’ ole’ </s> <pad> Helping to prevent and resolve issues is appropriate. Helping to prevent and resolve issues is appropriate. Helping to prevent and resolve issues is appropriate.. Helping to prevent and resolve issues is appropriate.. Helping to prevent and resolve issues is appropriate.. Helping to prevent and resolve issues is appropriate.. Helping to prevent and resolve issues is appropriate.. Helping to prevent and resolve issues is appropriate.. Helping to prevent and resolve issues is appropriate..</s> <pad> -as i work in this sector i have a good understanding of the industry. as i work in this sector i have a good understanding of the industry. -as i work in this sector i have a good understanding of the industry. -as i work in this sector i have a good understanding of the industry. -as i work in this sector i have a good understanding of the industry. -as i</s> <pad> \"rare, brief, and doesn\\'t occur again\" doesn\\'t seem to be a good phrase. homeless should go to someone else\\'s neighbourhood to rough sleep, john sutter says. sutter: focus shouldn\\'t be on \"making the nuisance go away\" he says it\\'s not a good idea to try to make the nuisance go away.</s> <pad> jennifer hudson: any one can become homeless and we need to tackle the underlying causes. hudson: we need to tackle the underlying causes not just wait until people become homeless. she says we need to tackle the underlying causes not just wait until people become homeless. hudson: we need to tackle the underlying causes not just wait until people become homeless.</s> <pad> early intervention works 2 sustainable accommodation 3 think about peer-to-peer support and involving those with a lived experience 4. encourage joint working 5 training 5 training 5 training 7 training 7 training 7 training 7 training 7 training 7 training 7 training 7 training 7 training 7 training 7 training 7 training 7 training 7 training 7 training 7 training 7 training 7 training 7 training 7 training 7 training 7 training 7 training 7 training 7 training 7 training 7 training 7 training 7 training 7 training 7 training 7 training 7 training 7 training 7 training 7 training 7 training 7 training</s> <pad> agree with the principles of all statements but some of the language could be changed/re-thought - ie \\'quality accommodation\\' - this differs depending on the applicant etc. also agree but should this be a specific part of homeless strategy?. \\'quality accommodation\\' - this differs depending on the applicant etc - should be a specific part of. homeless strategy?</s> <pad> people getting linked with services when they are clearly vulnerable. people getting linked with services when they are clearly vulnerable but not diagnosed. people getting linked with services when they are clearly vulnerable but not diagnosed. people getting linked with services when they are clearly vulnerable but not diagnosed. people getting linked with services when they are clearly vulnerable but not diagnosed. people getting linked with services when they are clearly vulnerable but not diagnosed.</s> <pad> too vague and should include a commitment to outreach/in-reach/mecc. Is this about PHPs or (hopefully) joint commissioning/partnerships? i\\'m not sure if this is about PHPs or (hopefully) joint commissioning/partnerships. i\\'m not sure if this is about PHPs or (hopefully) joint commissioning/partnerships. i\\'m not sure if this is about PHPs or (</s> <pad> early prevention work is the key to prevent homeless. invest with your hostel provision to ensure it is quality as people are in TA for longer periods. Invest in customer care training. have your pathways advertised/joint meeting with DA team as an ex 6. Ensure case loads are manageable and provide effective training and support is in place. use an EAP service to ensure case loads are manageable and provide effective training and support is in place. use an EAP service to ensure case loads are manageable and provide effective training</s> <pad> more of these are happening much at present and it is vital that they do. because more of these are happening much at present and it is vital that they do. because it is vital that they do do.. because it is more of these happening much at present and it is vital that they do.. because more of these are happening much at present and it is vital that they do.. because more of these are happening much at present and it is vital that they do.. because more of these are</s> <pad> people experiencing homelessness deserve dignity and sleeping on the street. aaron carroll: people experiencing homelessness deserve dignity and dignity. carroll: people experiencing homelessness deserve dignity and dignity. carroll: people experiencing homelessness deserve dignity and dignity. aaron carroll: people experiencing homelessness deserve dignity and dignity and dignity. aaron carroll: people experiencing homelessness deserve dignity and dignity and dignity and dignity.</s> <pad> lz granderson: i was once homeless and know how much it means to have a house. lz: i agree with all of these themes to better homelessness. lz: i was once homeless and know how much it means to have a house therefore i agree with these themes. lz: i agree with all of these as i was once homeless and know how much it means to have a house therefore i agree with these themes to better homelessness.</s> <pad> homeless hard to establish yourself in a community and society. if your homeless hard to establish yourself in a community and society. if your homeless hard to establish yourself in a community and society. if your homeless hard to establish yourself in a community and society. if your homeless hard to establish yourself in a community and society. if your homeless hard to establish yourself in a community and society.</s> <pad> as was very close to homeless myself before, my experience with the department in regards to homelessness was inconsistent. sometimes it depends on the person in contact at the time to the way they deal with the situation. they don\\'t sound happy to help, rather they do it because it\\'s their job, says robert. robert: sometimes it depends on the person in contact at the time to the way they deal with the situation.</s> <pad> It will improve the safety and reduce the crime. it will improve the safety and reduce the crime. it will improve the safety and reduce the crime. it will improve the safety and reduce the crime. it will improve the safety and reduce the crime. it will improve the safety and reduce the crime. it will improve the safety and reduce the crime. it will improve the safety and reduce the crime. it will improve the safety and reduce the crime. it will improve the safety and reduce the crime. it will reduce</s> <pad> i was homeless with three daughters with me and it\\'s so important to provide good conditioned accomodation. i believe it is imperative and highly important to make it known how to access the right support. i am now in temporary accommodation places by tower hamlets. i was homeless with three daughters with me and it is so important as a human to provide good conditioned accomodation.</s> <pad> tower hamlets department staff are very rude and unhelpful. i have written to several members at the housing department about my living condition. they don\\'t care about genuine people that need help. i have written to several members at the housing department about my living condition. i have written to several members at the housing department about my living condition and they don\\'t care about genuine people that need help.</s> <pad> a homeless applicant has been living in a temporary accommodation for the past 4 years. being homeless is an ongoing struggle mentally, physically and mainly financially. i am currently a homeless applicant whose been living in a temporary accommodation for the past 4 years. being homeless is an ongoing struggle mentally, physically and mainly financially. being homeless is an ongoing struggle mentally, physically and mainly financially.</s> <pad> each of these themes should have already been in place or addressed. it would be impossible to disagree with them. each of these themes should have been in place or addressed, so it would be impossible to disagree with them. each of these themes should have already been in place or addressed. a spokesman for the fda says he will not comment on the remark unless he is consulted by a member of the fda board.</s> <pad> aaron carroll: if you catch people in risk of homelessness early, they won\\'t become entrenched. he says if you catch them early, they won\\'t become entrenched. carroll: if you catch them early, they won\\'t become entrenched. carroll: if you catch them early, they won\\'t become entrenched.</s> <pad> tower hamlets council have made me feel that its hard to come by help. i am in temporary accommodation with 2 sons, a 1 bed on the 2nd floor 40 steps up. i am in temporary accommodation with 2 sons, a 1 bed on the 2nd floor 40 steps up. i am in temporary accommodation with 2 sons, a 1 bed on the 2nd floor 40 steps up.</s> <pad> those who are homeless often have a range of support needs. a good support service and provision is key to support someone to cope. to try and prevent rough sleeping but where it does occur, it’s rare, brief and doesn’t happen again. to try and prevent rough sleeping, it’s rare, brief and doesn’t happen again. to try and prevent rough sleeping, it’s rare, brief and doesn’t happen again. i think this is a value statement which needs more context.</s> <pad> many families in my block have been housed by tower hamlets council and their flats have bad mould. after letting the council know of their situation, there was no solution provided. these families have children who are aged between 1-5 and it’s causing them health problems. after letting the council know of their situation, there was no solution provided. after letting the council know of their situation, there was no solution provided. after letting the council know of their situation, there was no solution provided.</s> <pad> more people are becoming homeless every day. cost of living crisis, impact on mental health and wellbeing among reasons. homeless need to be supported asap to prevent spiral of homelessness making things worse for them. homelessness is a serious problem in the uk and is a serious problem in the u.s. if you are a homeless person, you can help by contacting your local homeless agency.</s> <pad> no comment! no comment! no comment! no comment! no comment! no comment! no comment! no comment! no comment! no comment! no comment! no comment! no comment! no comment! no comment! no comment! no comment! no comment! no comment! no comment! no comment! no comment! no comment! no comment! no comment! no comment! no comment! no comment! no comment! no comment! no comment! no comment! no comment! no comment!</s> <pad> michael hayden: homelessness can result in many crimes such as harming other people. hayden: violence and crime rate will increase, and human rights will be violated. he says we can\\'t only prevent homelessness but also avoid worsening the condition of the whole family. hayden: we can\\'t just prevent homelessness but also avoid worsening the condition of the whole family.</s> <pad> homeless get worse by getting to the root of the problem and providing care. sally kohn: this will help prevent the problem from getting worse. kohn: by getting to the root of the problem and providing care will create a happier society. kohn: i agree with the themes since they will help prevent homeless get worse. kohn: i agree with the themes since they will help prevent homeless get worse.</s> <pad> bob greene: i hope what i agree with can be better than everything in this point. greene: i hope what i agree with can be better than everything in this point. greene: i hope what i agree with can be better than everything in this point. greene: i hope what i agree with can be better than everything in this point.</s> <pad> in a developed country in 21st century its citizens should not be in danger of homelessness. aaron carroll: it should be the responsibility of the government and citizens to avoid homelessness. carroll: homelessness imposes a big burden, including financial, on a council and severely impacts rough sleepers. carroll: if we want to prevent homelessness, we need to take steps to prevent it.</s> <pad> staff are like robots they need re training and develop some empathy skills. staff are like robots they need re training and develop some empathy skills. retraining and development of empathy skills is key to a successful training program. retraining and development of empathy skills are key to a successful training program. retraining and development of empathy skills are key to a successful training program.</s> <pad> all questions are asked it’s right. because all questions are asked it’s right. because all questions are asked it’s right. because all questions are asked it’s right. because all questions are asked it’s right. because all questions are asked it’s right. because all questions are asked it’s right. because all questions are asked it’s right. because all questions are asked it’s right. because all questions are asked it’s right. because all questions are</s> <pad> emailed housing authority several times and filled up some form several times. i have emailed my housing authority several times and i have lots of health problems. i have emailed my housing authority several times and i have filled up some form few times. i have emailed my housing authority several times also i have filled up some form few times.</s> <pad> it\\'s better to take steps before homelessness. it\\'s vevr painful in mentally and physically. for the people. take steps before homelessness. take steps before it\\'s too late. take steps before it\\'s too late. take steps before it\\'s too late. take steps before it\\'s too late. take steps before it\\'s too late. take steps before it\\'s too late. take steps before it\\'s too late. take steps before it\\'s too late. take steps before</s> <pad> staff need to be able to communicate with their residents in a timely manner. i am having a difficult time with my baby in a suffocating room studio. i would like some form of communication from staff to advise and support. i am having a difficult time with my baby in a suffocating room studio. i am having a difficult time with my baby in a suffocating room studio and it\\'s effecting me and my</s> <pad> I gree with any thing see it right and vice versa. I gree with any thing see it right and vice versa. I gree with any thing see it right and vice versa. I gree with any thing see it right and vice versa. I gree with any thing see it right and vice versa. I gree with any thing see it right and vice versa. I gree with any thing see it right and vice versa.</s> <pad> i’m also homeless of towerhemlet. i need good and suitable accommodation for my children. i’m homeless of towerhemlet. i’m also homeless of towerhemlet. i’m also homeless of towerhemlet. i’m homeless of towerhemlet. i’m also homeless of towerhemlet. i’m also homeless of towerhemlet. i’m also homeless of towerhemlet. i’m also homeless of</s> <pad> early intervention will help lots of people to have a place to lay their head with their families. early intervention will help lots of people to have a place to lay their head with their families. early intervention will help lots of people to have a place to lay their head with their families. early intervention will help lots of people to have a place to lay their head with their families.</s> <pad> aaron carroll: homeless system is terrible and there is no service of first come first serve. carroll: every house that was given to me by homeless has been severely damp. he says the homeless system needs to be fixed. carroll: i agree because at the moment the homeless system is terrible and there is no service of first come first serve.</s> <pad> bob greene: i am one of the homeless and know live in very difficult conditions in temporary accommodation. greene: i know there are many who have no home and live in very difficult conditions in temporary accommodation. he says i know there are many who have no home and live in very difficult conditions. greene: i know there are many who have no home and live in very difficult conditions in temporary accommodation.</s> <pad> homeless departments are not fit for health and safety for people to stay in. they do not have cooking facilities for people like me to cook and eat. i cannot afford to eat out everyday. homeless places are not fit for health and safety for people to stay in. homeless places are not fit for people like me to stay in and do not have cooking facilities for people like me to cook and eat.</s> <pad> staff resilience and wellbeing are being boosted. staff confidence level at work will be high when staff resilience is being boosted. i agree to the themes because when staff resilience and wellbeing are being boost their confidence level at work will be high. i agree to the themes because when staff resilience and wellbeing are being boost their confidence level at work will be high. i agree to the themes because when staff resilience and wellbeing are being boost their confidence level at work will be high. i agree to the themes because when staff resilience and</s> <pad> no comment on tuesday. no comment on tuesday. no comment on tuesday. no comment on tuesday. no comment on tuesday. no comment on tuesday. no comment on tuesday. no comment on tuesday. no comment on tuesday. no comment on tuesday. no comment on</s> <pad> help will definitely help. when its too late the help wont work or will be slow progress. if it\\'s too late the help wont work or will be slow progress. if it\\'s too late the help won\\'t work or will be slow progress. if it\\'s too late the help won\\'t work or will be slow progress.</s> <pad> To give more support to people the need help. to give more support to people the need help. to give more support to people the need help. to give more support to people the need help. to give more support to people the need help. to give more support to people the need help. to give more support to people the need help. to give more support to people the need help. to give more support to people the need help. to give more support to people the need help. to give more support</s> <pad> homeless woman has been homeless for 7 years and she has a disabled child. she has given to a hotel service then moved us to near Croydon for 4 months. she has a disabled child living with her husband and other two kinds. she has a disabled child, because of this kind of moving her disabled child is not fixed to any accommodation. in the meantime, my neighbour, attacked her and she is now homeless.</s> <pad> I am suffering with my current temporary accommodation with my autistic son. because I am suffering with my current temporary accommodation with my autistic son. because i am suffering with my current temporary accommodation with my autistic son. because i am suffering with my current temporary accommodation with my autistic son. because my current temporary accommodation with my autistic son.</s> <pad> I believe everyone should have a place to stay. i believe everyone should have a place to stay. i believe everyone should have a place to stay. i believe everyone should have a place to stay. i believe everyone should have a place to stay. i believe everyone should have a place to stay. i believe everyone should have a place to stay.</s> <pad> This should be addressed as it isn\\'t at the Moment. because this should be addressed as it isn\\'t at the Moment. because this should be addressed as it isn\\'t at the Moment. because this should be addressed as it isn\\'t at the Moment. because this should be addressed as it isn\\'t at the Moment. because this should be addressed as it isn\\'t at the Moment. because this should be addressed as it isn\\'t at the Moment. because this</s> <pad> it is with everyones best interest in mind. it is with everyones best interest in mind. if you want to buy a t-shirt or a t-shirt, you need to buy a t-shirt. t-shirts and t-shirts are not available on the internet. t-shirts and t-shirts are not available on the internet. t-shirts and t-shirts are not available on the internet. t-shirts and t-</s> <pad> aaron carroll: i agree with what i think will help the population develop into one with a better support system. he says it will decrease the chances of needing to go into temporary accommodation. carroll: i agree with what i think will help the population develop into one with a better support system. carroll: i agree with what i think will help the population develop into one with a better support system.</s> <pad> council and partner agencies are stretched and demand is high for housing support. these are easy for residents to understand at a time when council and partner agencies are stretched and demand is high for housing support. council and partner agencies are also stretched and demand is high for housing support. the council has been able to provide a range of services to help residents who are at risk of or who present as homeless. the council has also been able to provide a range of services to help residents who are at risk of or who present as homeless.</s> <pad> staff will be able to provide better customer service and support when they have to give unpopular advice and decisions. staff will be able to provide better customer service and support them when they have to give unpopular advice and decisions. staff will be able to provide better customer service and support them when they have to give unpopular advice and decisions. staff will be able to provide better customer service and support them when they have to give unpopular advice and decisions. staff will be able to provide better customer service and support them when</s> <pad> prevention & immediate action are a priority when trying to avoid people falling into extremely entrenched version of rough sleeping. prevention & immediate action are a priority when trying to avoid people falling into extremely entrenched version of rough sleeping. i agree with all of these themes because they seem to go hand-in-hand in preventing people from suffering through rough sleeping. prevention & immediate action are a priority when trying to avoid people falling into extremely entrenched version of rough sleeping which is prominent in the clients my organisation</s> <pad> Don’t know if you’re a good samaritan but don’t know if you’re a good samaritan. Don’t know if you’re a good samaritan but don’t know if you’re a good samaritan. Don’t know if you’re a good samaritan but don’t know if you’re a good samaritan</s> <pad> people become homeless for all sorts of reasons, and fighting to prevent it often misses out key factors. someone could be considered\\'making themselves homeless\\' due to breakdown in living conditions. then you could force them to put up with something intolerable because of failures with assessment. if you can\\'t prevent it, you could force them to put up with something intolerable because of failures with assessment.</s> <pad> quality of temporary accommodation and length of time an applicant stays in temporary accommodation has a great long term impact on health and well-being. \\'no fault\\' evictions should be stopped, especially tackling rogue providers. \\'no fault\\' evictions should not be allowed to happen unless there is a clear move-on pathway from temporary accommodation i.e. PRS, supported housing - between LA & housing associations. \\'no fault\\' evictions should</s> <pad> i am not sure i fully agree with reducing the use of Temporary Accommodation. but i do definitely agree that people should be supported earlier to avoid homelessness. i am not sure i fully agree with reducing the use of Temporary Accommodation. but i do definitely agree that people should be supported earlier to avoid homelessness. i am not sure i fully agree with reducing the use of Temporary Accommodation as this can be a vital lifeline for many clients in need of emergency</s> <pad> human rights are the cornerstone of working for people who in need. working for people who in need is their human rights. working for people who in need is their human rights. working for people who in need is their human rights. working for people who in need is their human rights. working for people who in need is their human rights. working for people who in need is their human rights.</s> <pad> the best services provide best environment and prevent people to be homeless. the best services provide best environment and prevent people to be homeless. the best services provide best environment and prevent people to be homeless. the best services provide best environment and prevent people to be homeless. the best services provide best environment and prevent people to be homeless. the best services provide best environment and prevent people to be homeless.</s> <pad> hostels are not holistic environments nor are they supportive in a lot of ways. this also creates a cycle of sleeping rough because people do not hold down their tenancy\\'s in TA. if you are using drugs and trying to come off them, the hostel environment encourages drug use and makes it more difficult to be sober. if you are using drugs and trying to come off them, the hostel environment encourages drug use and makes it more difficult to be sober.</s> <pad> david rothkopf: there shouldn\\'t be any excuse for people to be homeless in 21st century. he says every effort should be made to eliminate homelessness. rothkopf: homelessness is a serious problem in the 21st century. rothkopf: we need information support and training to help people facing this predicament.</s> <pad> aaron carroll: if there was more effort to prevent homelessness, it would be easier to navigate. carroll: homelessness is a stressful and chaotic time, and really impacts people\\'s mental health. he says if we put more effort towards prevention, it would alleviate some of these issues. carroll: if we put more effort towards prevention, it would be easier to navigate.</s> <pad> homeless are not given any other option but to live on the street. it’s important to help vulnerable people from being homeless as living on the street is unfair to them. it’s important to help vulnerable people from being homeless as living on the street is unfair to them who are not given any other option. living on the street is unfair to vulnerable people who are not given any other option. living on the street is unfair to vulnerable people who are not given any other option. living on the street is unfair to vulnerable people who are</s> <pad> aaron carroll: those in need should be safe, be helped, and supported. carroll: those in need should be safe, be helped, and supported with finding a purpose, a job. carroll: those in need should be safe, be helped, and supported with finding a purpose. carroll: those in need should be safe, be helped, and supported with finding a purpose.</s> <pad> Because they are important.......................................................</s> <pad> some homelessness can\\'t be prevented, e.g., DV/DA, illegal subletting, illegal evictions with harassment, etc. Access to right support services is important, but not the responsibility of Housing Options Service. Boosting staff resilience and wellbeing CANNOT be pushed onto staff as their responsibility (as it currently is) because the Service ignoring the pleas of overwork, creating dangerously high levels of stress through under-resourced work, creates dangerously high levels of stress.</s> <pad> a challenge is that residents with support networks in borough do not want to move out of the borough and that is a barrier. but i think we need to think about how we support people when they have to be rehoused (temporarily or permanentl). i think we need to think about how we support people when they have to be rehoused (temporarily or permanentl)</s> <pad> PRHA has a long-standing commitment in supplying good quality housing and support to Tower Hamlets residents who end up rough sleeping or homeless. we typically work with people in our communities who are the most vulnerable or \"at risk\" and who have very complex needs and poor engagement with services. we typically work with people in our communities who are the most vulnerable or \"at risk\" and who have very complex needs and poor engagement with services. we typically work with people in our communities who are the most vulnerable or \"at risk\" and who</s> <pad> Embedded rough sleepers tend not to enter services because of their complex issues. there is no legal provision to force people to enagage. arranging appointments, assessments, interventions, suppirt sessions all fail when the client does not turn up due to their choices to indulge in drug, alcohol and mental health conditions. there needs to be motivation and/or sanctions.</s> <pad> homeless sector in tower hamlets is doing an incredibly important job. homeless people have often been let down by those around them. they need resources and trust in their work and trust in their work. lisa mccartney: homeless sector in tower hamlets is doing an incredibly important job. mccartney: i believe the themes and approaches laid out above are correct and what is needed.</s> <pad> services commissioned by the LBTH are underfunded and under resourced. fixed financial envelopes have not changed in years and inflationary increase has not been accounted for. homelessness has in recent years risen to a record high. a spokesman for the LBTH said: \\'it is a shame that the LBTH is underfunded and under resourced\\'. homelessness has also increased to a record high in recent years, resulting in a high number of homeless people.</s> <pad> the theme of homelessness is at the heart of Providence Row\\'s work. people affected by homelessness are encouraged to come to the row. the work of Providence Row is centered around these themes. the work of a homeless person is centered around the theme of homelessness. the theme of homelessness is at the heart of the work of Providence Row.</s> <pad> homeless work should be done by Homeless people - regular citizens get demoralised and have a white saviour complex. more importantly we can manage resources better! there is too much emphasis on services sometimes 60 charities and orgs can be involved at once. the money could be spent on DIRECTLY empowering affected people and creating opportunities rather than paying citizens to clean up the mess.</s> <pad> i have been unintentionally homeless since my family was evicted in 2021. i work and live in tower hamlets also, working at mile end leisure centre. i believe in this regard my family and i have been neglected. i am a former tower hamlets resident and have been unintentionally homeless since my family was evicted in 2021. i am a former homeless person and have been unintentionally homeless since my family was evic</s> <pad> everyone deserves quality sleep and safe, healthy and perfect accommodation. a good night\\'s sleep is essential for a good night\\'s sleep. a good night\\'s sleep is essential for a good night\\'s sleep. a good night\\'s sleep is essential for a good night\\'s sleep. a good night\\'s sleep is essential for a good night\\'s sleep. a good night\\'s sleep is essential for a good night\\'s sleep. a good night\\'s sleep</s> <pad> single parent with children will gain a house earlier than someone who is overcrowded. this has happened in tower hamlets and these are all known within tower hamlets. a single parent with children will show they are homeless and gain a house earlier than someone who has been on housing list for years as overcrowded. this has happened in tower hamlets and these are all known within tower hamlets.</s> <pad> focus needs to be on reducing homelessness, providing better accommodation. eric liu: focus needs to be on reducing homelessness, providing better customer service. he says focus needs to be on reducing homelessness, providing better accommodation. liu: key focus needs to be on reducing homelessness and providing better customer service. liu: focus needs to be on reducing homelessness, providing better accommodation.</s> <pad> sally kohn: its important that we have less street homeless. kohn: its important that we have less street homeless. kohn: its important that we have less street homeless. kohn: its important that we have less street homeless. kohn: its important that we have less street homeless. kohn: its important that we have less street homeless.</s> <pad> if staff are not well trained and looked after they will not be able to truly help people with complex issues. if staff are not in it for the right reasons or well trained and looked after they will not be able to truly help people with complex issues. if staff are not in it for the right reasons or well trained and looked after they will not be able to truly help people with complex issues. if staff are not in it for the right reasons or well trained and looked after they will not be able to</s> <pad> the earlier people are helped the better it is for people and staff. the earlier people are helped the better it is for people and the staff. the earlier people are helped the better it is for people and the staff. the earlier people are helped the better it is for people and the staff. the earlier people are helped the better it is for people and the staff.</s> <pad> nobody sleeps rough for fun, and all efforts should be made to minimise it. no mention, though, of the Mental health element in causing rough sleeping. no mention, though, of the Mental health element in causing rough sleeping. no mention, though, of the Mental health element in causing rough sleeping. no mention, though, of the Mental health element in causing rough sleeping.</s> <pad> accessibility to services should be a priority but this should also come with more staff. there should be more budget in acquiring more personell and better training overall. more staff should be able to help the rental market is unfortunately a very hard environment. if there is a need for more staff, there should be more budget in acquiring more personell and better training overall. if there is a need for more staff, there should be more budget in acquiring more personell and better training overall.</s> <pad> there are so many reasons homelessness could happen to any one. there should be basic guidelines to break down what are all the cases and how to deal with them. there should also be simple steps to break down what are all the cases and how to deal with them. if you are homeless, you should be able to intervene early and to try and prevent homelessness.</s> <pad> homeless people should be housed but the accommodation should not be better than the Ricard or social rented sector. if you are homeless, you should be able to rent a room in a hostel or a hostel in a hostel or a hostel in a hostel or a hostel in a hostel or a hostel in a hostel or a hostel in a hostel or a hostel in a hostel or a hostel in a hostel or a hostel in a hostel or a hostel</s> <pad> the overall experience with your services will depend on whether or not you can help them. if a client is in need and cannot access emergency accommodation, the overall experiece will be bad. if a client is in need and cannot access emergency accommodation, the overall experiece will be bad. if a client is in need and cannot access emergency accommodation, the overall experiece will be bad.</s> <pad> bough is plagued with drug addicts and homless people, who are often aggressive. the bough is plagued with drug addicts and homless people, who are often aggressive. the bough is plagued with drug addicts and homless people, who are often aggressive. the bough is also plagued with drug addicts and homless people, who are often aggressive.</s> <pad> the current state of housing and homelessness service is simply appalling. the impact it has on health and wellbeing is so significant. i work in the NHS and the impact it has on health and wellbeing is so significant. the current state of housing and homelessness service is simply appalling, because they are so overwhelmed. i work in the NHS and the impact it has on health and wellbeing is so significant. the current state of housing and homelessness service is simply appalling, because they are so overwhelmed.</s> <pad> Hi Your working is so slow Your working is so slow. i can\\'t get it to work. i can\\'t get it to work. i can\\'t get it to work. i can\\'t get it to work. i can\\'t get it to work. i can\\'t get it to work. i can\\'t get it to work. i can\\'t get it to work. i can\\'t get it to work. i can\\'t get it to work.</s> <pad> support for people experiencing rough sleeping is very important. there is also a need to prevent repeat homelessness, ensuring people who have been street homeless do not return to the streets. these priorities are in line with London-wide programmes such as Life off the streets (GLA) but i would also suggest a theme which is about partnership / joined up worriers.</s> <pad> if achieved the council can save alot of money and focus on investing on more social housing which is in great demand. if achieved the council can save alot of money and focus on financially investing on more social housing which is in great demand. if achieved the council can save alot of money and focus on financially investing on more social housing which is in great demand. if achieved the council can save alot of money and focus on financially investing on more social housing which is in great demand. if</s> <pad> homelessness in tower hamlets is growing a lot in the last 10 years. people seem more aggressive and with mental health issues compared to the past. i don t think your approach ll reduce this behaviour. i d prefer to read concrete and practical examples that should reduce the homelessness in tower hamlets. homelessness in tower hamlets is growing a lot in these last 10 years and people seem more aggressive and with mental health issues compared to the past. i don t think</s> <pad> john sutter: only a combination of all of the above practices will bring positive outcomes to our services. sutter: all of the above practices are interlinked and dependent on each other for the other part to work well. he says all should receive high attention. sutter: only a combination of all of the above practices will bring positive outcomes.</s> <pad> the council\\'s relationship managers help to provide stability and support to residents and staff. the staff in hostels and those who work in association are amazing and should be supported. the council\\'s relationship managers help to provide stability and support to residents and staff. the council\\'s relationship managers help to provide stability and support to residents and staff. the council\\'s relationship managers help to provide stability and support to residents and staff.</s> <pad> if they have better experience and better service then they will stay. good accommodation out of an area which is likely to trigger them into relapsing. also good accommodation out of an area which is likely to trigger them into relapsing. if they have abetter experience and better service then they will stay if they are offered a placement. and if they have abetter experience and better service then they will stay.</s> <pad> high level priorities need to be seen alongside the detailed implementation strategy. also needs to understand the different circumstances that may be facing different individuals and communities. a strategy that can take account of different access needs needs needs. a range of ways that these aims get implemented is needed, says robert mcdonald jr. he adds.</s> <pad> i have been in this borough for nearly 8 years now. i have experienced all those and noticed during this period. i have been in this borough for nearly 8 years now. i have been in this borough for nearly 8 years now. i have experienced all those and noticed during this period. i have been in this borough for nearly 8 years now. i have experienced all those and noticed during this period. i have been in this borough for nearly 8 years now </s> <pad> a strategy that brings tangible outcomes for people is needed. the status quo is currently not acceptable. we need to turbo boost a strategy that brings tangible outcomes for people - the status quo is currently not acceptable. a strategy that brings tangible outcomes for people is needed. we need to turbo boost a strategy that brings tangible outcomes for people - the status quo is currently not acceptable.</s> <pad> common sense is common sense. it\\'s common sense. it\\'s common sense. it\\'s common sense. it\\'s common sense. it\\'s common sense. it\\'s common sense. it\\'s common sense. it\\'s common sense a. it\\'s common sense a. it\\'s common sense a. it\\'s common sense a. it\\'s common sense a. it\\'s common sense a. it\\'s</s> <pad>........................................................ </s> <pad>. - (EN).....................................................</s> <pad> they are very relevant and clear. they are very clear and very clear. they are very clear and very clear. they are very clear and very clear. they are very relevant and clear. they are very clear and very clear. they are very clear and very clear. they are very clear and very clear. they are very clear and very clear. they are very clear and very clear. they are very clear and very clear. they are very clear and very clear. they are very clear and very clear. they are very clear and very clear and very clear.</s> <pad> all points and things we should aim for are largely self-evident. a lot of things we should aim for are self-evident, all points and things we should aim for. a lot of things we should aim for are self-evident, all points and things we should aim for. a lot of things we should aim for are self-evident, all points and things we should aim for.</s> <pad> if we work on preventing early could help especially with footfall in emergency duty. customer service is vital as it helps give reassurance to members of public that their case will be dealt with professionals dedicated to helping improve service. if we work on preventing early could help especially with footfall in emergency duty. if we work on preventing early could help especially with footfall in emergency duty.</s> <pad> it\\'s all important to provide a good service and maintain a good work environment. it\\'s all important to provide a good service and maintain a good work environment. it\\'s all important to provide a good service and maintain a good work environment. it\\'s all important to provide a good service and maintain a good work environment.</s> <pad> Do not feel staff resilience is boosted by management. do not feel staff resilience is boosted by management. do not feel staff resilience is boosted by management. do not feel staff resilience is boosted by management. do not feel staff resilience is boosted by management. do not feel staff resilience is boosted by management. do not feel staff resilience is boosted by management. do not feel staff resilience is boosted by. management. do not feel staff resilience is boosted by. management.</s> <pad> staff well being needs to be improved. more needs to be done in terms of staff well being. staff well being needs to be improved. staff well being needs to be improved. staff well being needs to be improved. staff well being needs to be improved. staff well being needs to be improved. staff well being needs to be improved... and staff well being needs to be improved. staff well being needs to be improved... and staff well being needs to be improved.</s> <pad> the themes are good if they come with realistic actions plans that don\\'t over burden staff. i agree with the themes as long as they come with realistic actions plans that don\\'t over burden staff. i agree with the themes as long as they come with realistic actions plans that don\\'t over burden staff. i agree with the themes as long as they come with realistic actions plans that don\\'t over burden staff.</s> <pad> current demand and lack of staff preventative work is not being done. the service is currently reactive. the service is currently based in london, london and london. london is the only city in the uk to have a preventative service based in london. london is the only city in the uk to have a preventative service based in london. london is the only city in the uk</s> <pad> there is nothing to show that there is significant change within the service in every area including staff wellbieng. there is nothing to show that there is significant change within the service in every area including staff wellbieng. there is nothing to show that there is significant change within the service in every area including staff wellbieng. there is nothing to show that there is significant change within the service in every area including staff wellbieng. there is nothing to show that there is significant change within the service in every area including staff wellbieng</s> <pad> boost staff resilience - should be an internal priority. improve customer services - should be reworded as internal priority. improve customer service - should be reworded as internal priority. improve customer service - should be reworded as internal priority. improve customer service - should be reworded as internal priority. improve staff resilience - should be an internal priority. improve customer service - should be reworded as internal priority. improve staff resilience </s> <pad> themes agree that it is best practice and the way forward to enable staff and residents alike to have a streamlined effective service. i agree with themes as it is the way forward to enable staff and residents alike to have a streamlined effective service. i agree with themes as it is best practise and the way forward to enable staff and residents alike to have a streamlined effective service.</s> <pad> aaron carroll: i disagree with Rough Sleeper prevention as i eel that they end up rough sleeping before they are supported. he says i eel that they end up rough sleeping before they are supported. carroll: i disagree with Rough Sleeper prevention as i eel that they end up rough sleeping before they are supported. carroll: i eel that they end up rough sleeping before they are supported.</s> <pad> early prevention of homelessness allows time to help clients explore their housng options. it allows time to help clients explore their housng options and allows staff enough time to support client. it will make it less stressful for client and the case officer. cnn.com\\'s sarah robertson says early prevention is a good way to prevent homelessness.</s> <pad> most experiences are subjective and cannot be generalised. most experiences are subjective and cannot be generalised. most experiences are subjective and cannot be generalised. most experiences are subjective and cannot be generalised. most experiences are subjective and cannot be generalised. most experiences are subjective and cannot be generalised. most experiences are subjective and cannot be generalised. most experiences are subjective and cannot be generalised. most experiences are subjective and cannot be generalised. most experiences are subjective and cannot be generalised. most experiences are subjective and cannot be general</s> <pad> don\\'t work in this service, therefore don\\'t understand this questionair. this questionair does not relate to me and does not relate to me. i don\\'t work in this service, therefore don\\'t understand this questionair. i don\\'t work in this service, therefore don\\'t understand this questionair. i don\\'t work in this service, therefore don\\'t understand this questionair and doesn\\'t relate to me.</s> <pad> All of them improve the service provided to the residents. a number of them are aimed at improving the quality of life for the residents. a number of them are also aimed at improving the quality of life for the residents. a number of them are aimed at improving the quality of life for the residents. a number of them are aimed at improving the quality of life for the residents. a number of them are aimed at improving the quality of life for the residents. a number of them</s> <pad> th is a good place to live, work and live, says cnn\\'s richard quest. quest: th is a good place to live, work and live. th is a good place to live, work and live, he says. quest: th is a good place to live, work and live, and a good place to live.</s> <pad> public servants would be in the interests of their clients to provide the best service possible and the earlier the better. staff would also benefit from the provision of the above as it would assist in avoiding conflict. staff would also benefit from the provision of the above as it would assist in avoiding conflict. a public servant would be in the interests of our clients to provide the best service possible and the earlier the better. staff would also benefit from the provision of the above as it would assist in avoiding conflict.</s> <pad> currently, support is very low and needs improvement. cnn.com\\'s john sutter: i\\'m glad to hear that i\\'m doing well. he says i\\'ll continue to work on improving the support. sutter: i\\'ll continue to work on improving the support i\\'m getting.</s> <pad> it is very essential to work with people and prevent them from being homeless. it is very essential to work with people and prevent them from being homeless. it is very important to work with people and prevent them from being homeless. it is very important to work with people and prevent them from being homeless. it is very important to work with people and prevent them from being homeless.</s> <pad> all positive themes will help both our clients and colleagues to be in a position to offer better support. also provide guidance and signposting to other support services that might be available. all positive themes will help both our clients and colleagues to be in a position to offer better support. all positive themes will help both our clients and colleagues to be in a position to not only offer better support but also guidance and signposting to other support services that might be available.</s> <pad> i believe good support and customer service provides assurance for resident. i believe good support and customer service provides assurance for resident. i believe good support and customer service provides assurance for resident. i believe good support and customer service provides assurance for resident. gives better understanding and motivates to act accordingly. i believe good support and customer service provides assurance for resident. i believe good support and customer service provides assurance for resident.</s> <pad> Agree because protect people & their well being matters. agree because protect people & their well being matters. Agree because protect people & their well being matters. Agree because protect people & their well being matters. Agree because protect people & their well being matters. Agree because protect people & their well being matters. Agree because protect people & their well being matters. Agree because protect people & their well being matters & their well being</s> <pad> i am not sure what can be done to prevent homelessness but for all other themes more could be great. i am not sure what can be done to prevent homelessness but for all other themes more could be great. i am not sure what can be done to prevent homelessness but for all other themes more could be great. i am not sure what can be done to prevent homelessness but for all other themes more could be great. i am not sure what can be done to prevent homelessness but for all other</s> <pad> aaron carroll: homelessness has negative effects on family and Children. he says working towards fixing this issue will be greatfulful. carroll: Homeless have negative effects on family and Children. carroll: working towards fixing this issue will be greatfully beneficial if it is fixed. he says working towards fixing this issue will be greatfully beneficial if it is done right.</s> <pad> i follow there activite I saw they work hard I saw they work hard I saw they work hard I follow there activite I saw they work hard I saw they work hard I saw they work hard I saw they work hard I saw they work hard I saw they work hard I saw they work hard I saw they work hard I saw they work hard I saw they work hard I saw they work hard I saw they work hard I saw they work hard I saw they work hard I saw they work hard I saw they work hard I saw they work hard</s> <pad> homeless people are not getting the correct help and support. don\\'t expect to see a lot of people on street who are homeless. don\\'t expect to see a lot of people on street who are not getting the correct help and support. don\\'t expect to see a lot of people on street who are homeless and not getting the correct help and support. don\\'t expect to see a lot of people on street who are homeless and not getting the correct help and support. don\\'t expect to see a</s> <pad> all above questions is very important to the local community. all above questions is very important to the local community. all above questions is very important to the local community. all above questions is very important to the local community. all above questions is very important to the local community. all above questions is very important to the local community.. all above questions is very important to the local community.</s> <pad> Accommodation is in very bad condition. current accommodation is in very bad condition. current accommodation is in very bad condition. current accommodation is in very bad condition. current accommodation is in very bad condition. current accommodation is in very bad condition. current accommodation is in very bad condition. current accommodation is in very bad condition. current accommodation is in very bad condition. current accommodation is in very bad condition. current accommodation is in very bad condition. current accommodation is in very bad condition. current accommodation is in very bad</s> <pad> the homelessness and rough sleeping crisis is getting worse. all of the themes need to be addressed urgently as the homelessness and rough sleeping crisis is getting worse. the homelessness and rough sleeping crisis is getting worse as the homelessness and rough sleeping crisis is getting worse. the homelessness and rough sleeping crisis is getting worse as the homelessness and rough sleeping crisis is getting worse. the homelessness and rough sleeping crisis is getting worse as the homelessness and rough sleeping crisis is getting worse. the homelessness and rough sleeping crisis is getting</s> <pad> homeless means more likely to become sick. because being homeless means more likely to become sick. because being homeless means more likely to become sick. because being homeless means more likely to become sick. because being homeless means more likely to become sick. because being homeless means more likely to become sick. because being homeless means more likely to become sick. because being homeless means more likely to become sick. because being homeless means more likely to become sick. because being homeless means more likely to become sick. because being homeless means more</s> <pad> Strongly agree but students should have more priority especally exam students. especally exam students should have more priority especally exam students. strongly agree but students should have more priority especally exam students especally exam students. strongly agree but students should have more priority especally exam students. especally exam students should have more priority especally exam students especally exam students. Strongly agree but students should have more priority especally exam students</s> <pad> sally kohn: preventing homelessness through education, support is better and more sustanable. kohn: paying for housing when tenants have no way of supporting themselves is of false economy. kohn: preventing homelessness through education, support etc is a better and more sustanable. kohn: preventing homelessness through education, support etc is a better and more sustanable.</s> <pad> People need good quality housing, says a new report on the housing market. the report focuses on the housing market and the housing market in general. people need good quality housing, says a new report on the housing market. people need good quality housing, says a new report on the housing market. people need good quality housing, says a new report on the housing market. people need good quality housing, says a new report on the housing market. people need good quality housing, says a new report </s> <pad> bob greene: never have had exceptional service, its like i owe them something. greene: governmentemployee lack accountability, lack of accountability. greene: never have had exceptional service, its like i owe them something. greene: never have had exceptional service, its like i owe them something.</s> <pad> i suffer with a heart condition even knowing this my Housing Officer put me here knowing i have zero support which i need with my health. i was put in a B&B with my 4 year old chil after 4 month i was housed in kent (Gillingham) i suffer with a heart condition even knowing this my Housing Officer put me here knowing i have zero support which i need with my health. i was put in a B&B with my 4 year</s> <pad> homeless person i cant remember 2018 with my little boy suffering council pushing me from one place to another before they gave me where i am since 2019 am still in temporary with 3 children 18 years 16 years, 5 years in one bedroom. for person that homeless is depression i cant remember 2018 with my little boy suffering. council pushing me from one place to another before they gave me where i am since 2019 am still in temporary with 3 children 18 years 16 years, 5 years in one bedroom.</s> <pad> They sending the out side tower hamlets out side tower hamlets. they sending the out side tower hamlets out side tower hamlets. they sending the out side tower hamlets out side tower hamlets. they sending the out side tower hamlets out side tower hamlets. they sending the out side tower hamlets out side tower hamlets. they sending the out side tower hamlets hamlets. they sending the out side tower hamlets. hamlets</s> <pad> a homeless resident, i have experienced the worst form of service from TH. ill never ever forget the experience and ill never forgive TH. th is a charity which helps people who are in need. a DV victim, i thought id be supported but instead i was continuously suffering. ill never ever forget the experience and ill never forgive TH.</s> <pad> Better service means a better community and a safer community. cnn.com\\'s richard quest: better service means a better community. dr. robert mcgahey: better service means a better community. he says a better community means a safer community. mcgahey: better service means a better community and a safer community.</s> <pad> they are logical and reasonable - provided there are resources behind them. provided there are resources behind them, they are logical and reasonable. provided there are resources behind them, they are logical and reasonable. provided there are resources behind them, they are logical and reasonable. provided there are resources behind them, they are logical and reasonable. provided there are resources behind them, they are logical and reasonable. provided there are resources behind them, they are logical and reasonable. provided there are resources behind them,</s> <pad> Because they are factual statements and should be implemented universally. because they are factual statements and should be implemented universally. because they are factual statements and should be implemented universally. because they are factual statements and should be implemented universally. because they are factual statements and should be implemented universally. because they are factual statements and should be implemented universally. because they are factual statements and should be implemented universally. because they are factual statements and should be implemented universally.</s> <pad> I agree because people should have access to the right support services. people should have access to the right support services, i.e., the right support services. i.e. people should have access to the right support services, i.e., the right support services, i.e., the right support services, i.e., the right support services, i.e., the right support services, i.e., the right support services, i.e., the</s> <pad> our individual experience with housing was poor as if to 2+ years to get a bidding number even with constant communication with our housing officer at the time. our temp accommodation is good. our accommodation is good. if you are looking for a place to stay, please contact us at cnn@cnn.com. cnn@cnn.com.au to arrange a viewing. cnn@cnn.com.au to arrange a viewing.</s> <pad> homeless are an extremely long and tiring process that sometimes feels never ending. cnn\\'s richard quest has been homeless in the past. he says there is a lot that needs to be done when it comes to homeless in all sections. quest: i know that it is an extremely long and tiring process that sometimes feels never ending. cnn\\'s richard quest has been homeless in the past and is now homeless again.</s> <pad> council should go that extra mile to give everyone as much help as you can. a roof over your head is so important, and council should go that extra mile. a council should go that extra mile to give everyone as much help as you can. a council should go that extra mile to give everyone as much help as you can. a council should go that extra mile to give everyone as much help as you can.</s> <pad> i hope towerhamlets give more effort and working to sort out housing problem in borough. i hope towerhamlets give more effort and working to sort out housing problem in borough. i hope towerhamlets give more effort and working to sort out housing problem in borough. i hope towerhamlets give more effort and working to sort out housing problem in borough. i hope towerhamlets give more effort and working to sort out housing problem in borough.</s> <pad> I believe everyone should be treated equally and get the support that they need. i believe everyone should be treated equally and get the support that they need. i believe that everyone should be treated equally and get the support that they need. i believe that everyone should be treated equally and get the support that they need. i believe that everyone should be treated equally and get the support that they need.</s> <pad> homeless people dont know very well where to contact to prevent becoming homeless. not signposting properly, which confused council and they think process is complex. councils are not very prompt in directing people to the right places to get help. not signposting properly, which confused them and they think process is very complex. not signposting properly, which confused them and they think process is very complex.</s> <pad> when court decided that i would be evicted i requested help. i waited for hours just to be given another B&B, no one was available to explain. i was told that no help was availanle until i would be physically kicked out of my house. i was told that i would be kicked out of my house if i was evicted.</s> <pad> cnn\\'s richard quest was homeless when he was in a homeless situation. staff members were absent on the day you have your appointment with them. coming again once my appointment got rescheduled was very different for him. quest: \"i got the support when i was in a homeless situation\". quest: \"i got the support when i was in a homeless situation. i got the support when i was in a homeless situation. i got the support when </s> <pad> lz granderson: priority no. 5 is not relevant to us related to priority no. 1. lz: case worker did mention she will contact out housing group manager. lz: housing group manager confirmed he didnt hear from case worker at all. lz: priority no. 5 is not relevant to us related to priority no. 1, we are still homeless.</s> <pad> i live in a good home and get all the help i need, i am happy. i live in a good home and get all the help i need, i am happy. i live in a good home and get all the help i need, i am happy i live in a good home and get all the help i need.</s> <pad> this will reduce homelessness, reduce rough sleeping and provide people with good quality housing. i agree with the themes this is because it will reduce homelessness, reduce rough sleeping and provide people with good quality housing. i agree with the themes this is because it will reduce homelessness, reduce rough sleeping and provide people with good quality housing. i agree with the themes this is because it will reduce homelessness, reduce rough sleeping and provide people with good quality housing.</s> <pad> Temporary accommodation was very far from school and work, not in good condition. temporary accommodation was very far from school and work, not in good condition. temporary accommodation was very far from school and work, not in good condition. temporary accommodation was very far from school and work, not in good condition. temporary accommodation was very far from school and work, not in good condition.</s> <pad> cnn\\'s kat kinsman says her experience with the homeless was traumatic. kinsman: the housing officer and her manager were not fully aware of EU law after Brexit. kinsman: the 1 point i tend to disagree just because in certain cases because homeless is inevitable. kinsman: i don\\'t think i\\'ve ever had a bad experience with a homeless person.</s> <pad> housing access to the right support will help them a lot to know what to do. cnn.com\\'s john sutter says housing access will help them a lot to know what to do. sutter: housing access to the right support will help them a lot to know what to do. sutter: housing access to the right support will help them a lot to know what to do.</s> <pad> 1) Working with Landlords to keep the rent down also giving tenants longer leases on the property. 2) Building more suitable housing for people on social housing with reasonable monthly rent. 3) Building more suitable housing for people on social housing with reasonable monthly rent. 4) Building more suitable housing for people on social housing with reasonable monthly rent. 5) Building more suitable housing for people on social housing with reasonable monthly rent. 6) Building more suitable housing for people on social housing with reasonable monthly rent. 7) Building more suitable housing</s> <pad> \\'-support people with their application -investigate any safeguarding concerns -prioritise those with young children -allocate housing based on employment opportunities, support network, ease of access\\' \\'-allocate housing based on employment opportunities, support network, ease of access\\' \\'-allocate housing based on employment opportunities, support network, ease of access, employment opportunities, support network, ease of access\\' \\'-allocate housing based on employment opportunities, support</s> <pad> aaron carroll: it is always a problem to get through to reach Tower Hamlets. he says any applications are considered for a very long time or do not receive a response. carroll: i have been waiting for the decision on the assignment of benefits and the decision on the appeal. he says i want to express my deep gratitude for the opportunity to have temporary housing.</s> <pad> everyone deserves a decent home, i believe. i believe that everyone deserves a decent home. i believe that everyone deserves a decent home. i believe that everyone deserves a decent home if they can afford it.. i believe that everyone deserves a decent home if they can afford it.. i believe that everyone deserves a decent home if they can afford it.. i believe that everyone deserves a decent home if they can afford it..</s> <pad> tower hamlets did not help me i am still in temp accommodation after 12 years my son is 13 and daughter 9 share a room. i am still in temp accommodation after 12 years my son is 13 and daughter 9 share a room. tower hamlets did not help me i am still in temp accommodation after 12 years my son is 13 and daughter 9 share a room. tower hamlets did not help me i am still in temp accommodation after 12 years my son is 13 and daughter 9 share a</s> <pad> i have and am still in homeless housing, i don’t think that the system helps people who are struggling, give advice or support to change their situation. the housing officers allocated are incompetent more often than not and rarely almost always unreachable. the housing officers allocated are incompetent more often than not and rarely almost always unreachable.</s> <pad> most people have been sent in hostel with children but is not very safe or clean. safety depend the situation of the person abuse etc. we are grateful for temporary home but even there depend the area no safe and have to deal with the agency/landlord to do anything in the property if they do it. it is no much control / check from the housing officer.</s> <pad> i agree with most of the themes above as its important to make sure people have a place to live. i agree with most of the themes above as its important to make sure people have a place to live. i also agree with most of the themes above as its important to make sure people have a place to live & have things in place to reduce homelessness.</s> <pad> Keine comment on tv show \\'em. no comment on tv show \\'em. no comment on tv show \\'em. no comment on tv show \\'em. no comment on tv show \\'em. no comment on tv show \\'em. no comment on tv show \\'em. no comment on tv show \\'em. no comment on tv show </s> <pad> the customer service i received from the housing officers and the benefitss officers was really bad. they didnt use to bother repyling to my emails for months on end. the housing officers and the benefitss officers didnt use to bother repyling to my emails for months on end. the housing officers and the benefitss officers didnt use to bother repyling to my emails for months on end.</s> <pad> all of this is from my own experience. i am not a doctor, but i am a therapist. i am a therapist, a therapist, a therapist, a therapist, a therapist, a therapist, a therapist, a therapist, a therapist, a therapist, a therapist, a therapist, a therapist, a therapist, a therapist, a therapist, a</s> <pad> Helping early prevents stress. cnn.com\\'s ireport.com: share your tips and tricks. cnn.com\\'s john sutter is a trusted source for quality, affordable, high-quality products and services. cnn.com\\'s john sutter is a trusted source for quality, affordable products and services. cnn.com\\'s john sutter is a trusted source for quality, affordable products and services </s> <pad> due to my health condition I have been put 3rd floor which is not ideal. the flat is in poor condition and is in poor condition. i have been put on the 3rd floor which is not ideal. due to my health condition i have been put on the 3rd floor which is not ideal the flat is in poor condition. due to my health condition i have been put on the 3rd floor which is not ideal the flat is in poor condition. due to my health condition i have</s> <pad> council helped me get the help to not being homeless. i got the help from council to not being homeless. i got the help from council to not being homeless. i got the help from council to not being homeless. i got the help from council to not being homeless. i got the help from council to not being homeless. i got the help from council to not being homeless.</s> <pad> aaron carroll: i agree with the statement because i believe every citizen should have equal rights. carroll: i believe every citizen should have equal rights. carroll: i believe every citizen should have equal rights. carroll: i agree with the statement because i believe every citizen should have equal rights. carroll: i agree with the statement because i believe every citizen should have equal rights.</s> <pad> the service that received is good to me. Tower Hamlets is the best borough to live in. if that is for everyone, then tower hamlets is the best borough to live in. if that is for everyone, then tower hamlets is the best borough to live in. if that is for everyone, then tower hamlets is the best borough to live in.</s> <pad> All ideas sound good, says steve mccartney. he says he\\'s not a big fan of a san francisco restaurant. mccartney says he\\'s not a big fan of a san francisco restaurant. mccartney: i\\'m not a big fan of a san francisco restaurant. mccartney: i\\'m not a big fan of</s> <pad> Providing good quality accommdation for people who are at risk of or where they become homeless. Providing good quality accommdation for people who are at risk of or where they become homeless. Providing good quality accommdation for people who are at risk of or where they become homeless. Providing good quality accommdation for people who are at risk of or where they become homeless. Providing good quality accommdation for people who are at risk of or where they become homeless</s> <pad> 1 says to reduce the use of temporary accommodation and to prevent them from becoming homeless. i strongly agree with number 1 because it says to reduce the use of temporary accommodation and to prevent them from becoming homeless. i also strongly agree with number 2 because it says to reduce the use of temporary accommodation and to prevent them from becoming homeless. i also strongly agree with number 1 because it says to reduce the use of temporary accommodation and to prevent them from becoming homeless.</s> <pad> more needs to be done to prevent rough sleeping & tackle homelessness. more needs to be done to prevent rough sleeping & tackle homelessness. more needs to be done to prevent rough sleeping & tackle homelessness. more needs to be done to prevent rough sleeping & tackle homelessness. & tackle homelessness & homelessness & homelessness & homelessness & homelessness & homelessness & homelessness & homelessness & homelessness & homelessness & homelessness & homelessness</s> <pad> Neither agree nor disagree: with the same customer service you can do a good job. strongly agree: because sometimes people don’t get the right support, they are not well advised. So they take a bad decision. strongly disagree: because you can not stop homeless. it will always happen. you have only to set up a good std. if you want a good std. if you want a good std. if you want a good </s> <pad> i am very satisfied with the welcome and having a reasonable place to stay. i am very satisfied with the welcome and having a reasonable place to stay. thank you very much. i am very satisfied with the welcome and having a reasonable place to stay. thank you very much if you have any questions or concerns. i will definitely stay here again if you are looking for a good place to stay in switzerland.</s> <pad> all of these points tackle the issue before it gts out of hand. i agree will all of these points because they tackle the issue before it gts out of hand. i agree with all of these points because they tackle the issue before it gts out of hand. i agree with all of these points because they tackle the issue before it gts out of hand.</s> <pad> aaron carroll: the sooner someone is helped to prevent hoemlessness the better. carroll: bad housing trigger my mental health and is not accommodating. he says having someone that can help is very important. carroll: if you have a child, you can\\'t afford to have a house that is not accommodating. he says staff should be able to help you and your child.</s> <pad> i am also homeless and these actions will impact too. because i am also homeless and these actions will impact too. i am also a homeless person and these actions will impact too. i am also a homeless person and these actions will impact too. i am also a homeless person and these actions will impact too. i am also a homeless person and these actions will also impact too.</s> <pad> yes, I agree with the themes because working with people earlier to prevent them from becoming homeless. please make sure that people have access to the right support. provide good quality accommodation or people who are at risk but you should enquire first. please make sure that people have access to the right support. if you are unsure, please enquire first if you need help.</s> <pad> 1 Because its important to help people 2 Ensure happiness of people 3 Neutral 4 Ensure good service 5 Have sympathy for people 6 Ensure happiness of people 7 Ensure good service 7 Ensure good service 7 Ensure good service 7 Ensure good service 7 Ensure good service 7 Ensure good service 7 Ensure good service 7 Ensure good service 7 Ensure good service 7 Ensure good service 7 Ensure good service 7 Ensure good service 7 Ensure happiness of people 7 Ensure good service 7 Ensure good service 7 Ensure good service</s> <pad> do encourage and continue to provide these services in practice, says sally kohn. kohn: all strategies are very important to prevent and reduce homelessness. do encourage and continue to provide these services in practice, kohn says. kohn: do focus on do achieve these goals are do encourage and continue to provide these services. kohn: do encourage and continue to provide these services in practice, kohn adds.</s> <pad> Necessary action taken promptly, according to the u.s. attorney general. if necessary, action taken promptly and in a timely manner. if necessary, action taken promptly and in a timely manner. if necessary, action taken promptly and in a timely manner.. if necessary, action taken promptly and in a timely manner.. if necessary, action taken promptly and in a timely manner.. if necessary, action taken promptly and in a timely</s> <pad> homeless people should have the priority in any capacity. it is hard to explain how difficult it is when you become homeless unless you have experience like us. homeless people should have the priority in any capacity. if you become homeless, you should be able to get help immediately. if you become homeless, you should be able to get help quickly and easily. if you become homeless, you should be able to get help quickly and easily.</s> <pad> life isnt smooth sometimes would be up and down. thats why we are aggree with you. the person who is living as a rich person tomorrow he would be ill. that time he would need home for living. thats why we are aggree with you. if you are living as a rich person tomorrow he would be ill. thats why we are aggree with you.</s> <pad> 2 i have been given accommodation in an area with a predominantly white community. i am having trouble with communication and getting around. i have been given accommodation in an area with a predominantly white community. i have been given accommodation in an area with a predominantly white community. i have been given accommodation in an area with a predominantly white community.</s> <pad> aaron carroll: i\\'ve seen and heard stories about homelessness. carroll: i agree because i\\'ve seen and heard stories about homelessness. carroll: i agree because i\\'ve seen and heard stories about homelessness. carroll: i agree because i\\'ve seen stories about homelessness and how the council works.</s> <pad> six properties for needs i thinking for best option. Because six properties for needs i thinking for best option. Because six properties for needs i thinking for best option.. Because six properties for needs i thinking for best option.. Because six properties for needs i thinking for best option.. Because six properties for needs i thinking for best option.. Because six properties for needs i thinking for best option.. Because six properties for needs i thinking for best option.</s> <pad> david rothkopf: i strongly agree because it would make a change. he says it would make a change. he says it would make a change. rothkopf: it would make a change. he says it would make a difference. rothkopf: it would make a change. i agree. it would make a difference. rothkopf: it would make a change. it would make a change. rothkopf: it would make </s> <pad> to decrease the chance of homelessness by improving these themes people will be able to get help them lose their homes. to decrease the chance of homelessness by improving these themes people will be able to get help. to decrease the chance of homelessness by improving these themes people will be able to get help them lose their homes. to decrease the chance of homelessness by improving these themes people will be able to get help them lose their homes.</s> <pad> lz granderson: tower hamlets is doing as much as they can. he says despite not everyone has a home, it\\'s doing as much as they can. lz: i agree with lz: i\\'m not sure eveyone has a home in tower hamlets. lz: i\\'m not sure if eveyone has a home in tower hamlets but it\\'s doing as much as they can </s> <pad> the current temporary house we live in is old and we have constant problems such as mould and roof leaking problems. we are still waiting for a permanent house. the accommodation provider currently are not of the best quality. we have been almost 8 years in this current temporary house and we are still waiting for a permanent house. we have been in this current temporary house for almost 8 years and we are still waiting for a permanent house.</s> <pad> <unk> <unk> <unk> <unk> <unk> <unk> <unk> <unk> <unk> <unk> <unk> <unk> <unk> <unk> <unk> <unk> <unk> <unk> <unk> <unk> <unk> <unk> <unk> <unk> <unk> <unk> <unk> <unk> <unk> <unk> <unk> <unk> <unk> <unk> <unk> <unk> <unk> <unk> <unk> <unk> <unk> <unk> <unk> <unk> <unk> <unk> <unk> <unk> <unk> <unk> <unk> <unk> <unk> <unk> <unk> <unk> </s> <pad> cnn\\'s john sutter agrees with sutter on the good things. sutter is in a 1 bedroom house and has two daughters. sutter also agrees that if he has health issues he should get good accommodation. sutter: i\\'m in a 1 bedroom house and i have two daughters. sutter: i should get good accommodation if i want to have a good life.</s> <pad> the temporary provided for me is clear and safe much appreciated. i have been offered support to find more permanent accommodation. the temporary provided for me is clear and safe much appreciated. i have been offered support to find more permanent accommodation. i have been offered support to find more permanent accommodation. i have been offered support to find more permanent accommodation. i have been offered support to find more permanent accommodation.</s> <pad> i didn’t get the right support when i was eligible. i don’t really agree to question 4 because i didn’t get the right support when i was eligible. i didn’t get the right support when i was eligible. i didn’t get the right support when i was eligible. i didn’t get the right support when i was eligible. i didn’t get the right support when i was eligible. i didn’t get</s> <pad> people will get a boost in money and will be able to sustain themselves so they can avoid the possibilities of becoming homeless. if rough sleeper are given shelter they wont need to sleep on the streets, they can go to shelter that are built for them. if rough sleeper are given shelter they wont need to sleep on the streets, they can go to shelter that are built for them.</s> <pad> aaron carroll: housing is a right, providing help to families going through a bad time is important. carroll: i care about the well being of people, i care about the integration of vulnerable people. he says housing is a right, providing help to families that are going through a bad time is important. carroll: i care about the well being of people, i care about the well being of people.</s> <pad> some councils just put people in a bad condition house and that would incur the risk for their lives. working with people earlier will help to prevent most of them from being homeless. that would help to get advice quickly and get better advice. i agree with the statement and i think working with people earlier will help to prevent most of them from being homeless. i think that working with people earlier will help to prevent most of them from being homeless.</s> <pad> single mother was made homeless due to domestic abuse. she didnt know about the support available to her to a single mother fleeing abuse. when she finally had the confidence to leave she was faced with many hurdles. she is now homeless and needs to be given a chance to find a job in a shelter. if she wants to find a better life she must contact a shelter in london or scotland.</s> <pad> without above points out contacts with housing will be poor. without above points out contacts with housing will be poor. without above points out contacts with housing will be poor. without above points out contacts with housing will be poor. without above points out contacts with housing will be poor. without above points out contacts with housing will be poor. without above points out contacts with housing will be poor. without above points out contacts with housing will be poor. without above points out contacts with housing will be poor. without above points out contacts</s> <pad> i have been on homeless register since September 2012 waiting to get re-housed with my family. unfortunately we are still waiting for 12 years my housing officer and housing options does not give me any clear answer. i have been on homeless register since September 2012 waiting to get re-housed with my family. i have been on homeless register since September 2012 waiting to get re-housed with my family.</s> <pad> customer service at the moment is atrocious. emails are not replied to until a week or so later. staff are genuinely rude as they have frequent interaction with individuals facing homelessness. staff are genuinely rude as they have frequent interaction with individuals facing homelessness. staff are genuinely rude as they have frequent interaction with individuals facing homelessness. they are genuinely rude as they have frequent interaction with individuals facing homelessness. if you have a problem with a homelessness problem, please contact us on 0800</s>'"
            ],
            "application/vnd.google.colaboratory.intrinsic+json": {
              "type": "string"
            }
          },
          "metadata": {},
          "execution_count": 57
        }
      ]
    },
    {
      "cell_type": "code",
      "source": [
        "desc(all_text)"
      ],
      "metadata": {
        "colab": {
          "base_uri": "https://localhost:8080/",
          "height": 70
        },
        "id": "3nHYjcGMVJz_",
        "outputId": "ffe49c39-e759-49b9-8df2-8ca6518c81e1"
      },
      "execution_count": null,
      "outputs": [
        {
          "output_type": "execute_result",
          "data": {
            "text/plain": [
              "\"<pad> a lot of people that are visibly homeless on the streets also suffer from alcoholism, says a spokesman. a lot of these people that are visibly homeless on the streets also suffer from drug addiction. a rough sleeper's partner may not be able to be housed at the same location as their partner, i.e. unable to take pets. a lot of these people that are visibly homeless on the streets also suffer from alcoholism, says a spokesman</s>\""
            ],
            "application/vnd.google.colaboratory.intrinsic+json": {
              "type": "string"
            }
          },
          "metadata": {},
          "execution_count": 61
        }
      ]
    },
    {
      "cell_type": "code",
      "source": [],
      "metadata": {
        "id": "hKFtoayOVRHC"
      },
      "execution_count": null,
      "outputs": []
    }
  ]
}